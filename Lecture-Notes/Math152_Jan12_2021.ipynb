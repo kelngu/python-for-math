{
  "nbformat": 4,
  "nbformat_minor": 0,
  "metadata": {
    "colab": {
      "name": "Copy of Math152_Jan12_2021.ipynb",
      "provenance": [],
      "include_colab_link": true
    },
    "kernelspec": {
      "name": "python3",
      "display_name": "Python 3"
    }
  },
  "cells": [
    {
      "cell_type": "markdown",
      "metadata": {
        "id": "view-in-github",
        "colab_type": "text"
      },
      "source": [
        "<a href=\"https://colab.research.google.com/github/kelngu/python-for-math/blob/main/Lecture-Notes/Math152_Jan12_2021.ipynb\" target=\"_parent\"><img src=\"https://colab.research.google.com/assets/colab-badge.svg\" alt=\"Open In Colab\"/></a>"
      ]
    },
    {
      "cell_type": "markdown",
      "metadata": {
        "id": "M0RofuXTkzpZ"
      },
      "source": [
        "# Teaching notebook for Jan 12, 2021\n",
        "\n",
        "Topics today...\n",
        "\n",
        "1.  How we talk about time and space when programming.\n",
        "2.  Booleans and bits, floats, strings.\n",
        "3.  How Python handles variables.\n"
      ]
    },
    {
      "cell_type": "markdown",
      "metadata": {
        "id": "6BdIgatgpT-d"
      },
      "source": [
        "First, let's look at time."
      ]
    },
    {
      "cell_type": "code",
      "metadata": {
        "colab": {
          "base_uri": "https://localhost:8080/"
        },
        "id": "Mwiq9U3dmXNU",
        "outputId": "055eefe3-9dbe-4914-f3dc-0564223cf465"
      },
      "source": [
        "1+2+3"
      ],
      "execution_count": null,
      "outputs": [
        {
          "output_type": "execute_result",
          "data": {
            "text/plain": [
              "6"
            ]
          },
          "metadata": {
            "tags": []
          },
          "execution_count": 2
        }
      ]
    },
    {
      "cell_type": "code",
      "metadata": {
        "id": "1mrFrSvXmXFl"
      },
      "source": [
        "%timeit 1+2+3"
      ],
      "execution_count": null,
      "outputs": []
    },
    {
      "cell_type": "code",
      "metadata": {
        "id": "Lbf-wcUgpRka"
      },
      "source": [
        "%timeit 2**1000"
      ],
      "execution_count": null,
      "outputs": []
    },
    {
      "cell_type": "markdown",
      "metadata": {
        "id": "6CoyGwR_pWde"
      },
      "source": [
        "Now, let's look at space."
      ]
    },
    {
      "cell_type": "code",
      "metadata": {
        "colab": {
          "base_uri": "https://localhost:8080/",
          "height": 35
        },
        "id": "Og4DfWsAmWvz",
        "outputId": "40219253-faa3-4b24-e6e9-c67539c5aabd"
      },
      "source": [
        "bin(6)"
      ],
      "execution_count": null,
      "outputs": [
        {
          "output_type": "execute_result",
          "data": {
            "application/vnd.google.colaboratory.intrinsic+json": {
              "type": "string"
            },
            "text/plain": [
              "'0b110'"
            ]
          },
          "metadata": {
            "tags": []
          },
          "execution_count": 3
        }
      ]
    },
    {
      "cell_type": "code",
      "metadata": {
        "id": "BPxOltkgmo5G"
      },
      "source": [
        "import struct\n",
        "def binary(num):\n",
        "    return ''.join('{:0>8b}'.format(c) for c in struct.pack('!f', num))"
      ],
      "execution_count": null,
      "outputs": []
    },
    {
      "cell_type": "code",
      "metadata": {
        "colab": {
          "base_uri": "https://localhost:8080/"
        },
        "id": "uDm-bh_3mo1n",
        "outputId": "015476c2-0b14-463e-a12f-5d27d0da52af"
      },
      "source": [
        "binary(3.14)"
      ],
      "execution_count": null,
      "outputs": [
        {
          "output_type": "execute_result",
          "data": {
            "text/plain": [
              "32"
            ]
          },
          "metadata": {
            "tags": []
          },
          "execution_count": 23
        }
      ]
    },
    {
      "cell_type": "code",
      "metadata": {
        "colab": {
          "base_uri": "https://localhost:8080/"
        },
        "id": "0Y2DgWZimowg",
        "outputId": "513e57ec-8ac3-418f-e1bf-4425ad4019ce"
      },
      "source": [
        "import sys\n",
        "sys.getsizeof(6) # How many bytes of memory are occupied by the Python object \"6\"?"
      ],
      "execution_count": null,
      "outputs": [
        {
          "output_type": "execute_result",
          "data": {
            "text/plain": [
              "28"
            ]
          },
          "metadata": {
            "tags": []
          },
          "execution_count": 25
        }
      ]
    },
    {
      "cell_type": "code",
      "metadata": {
        "colab": {
          "base_uri": "https://localhost:8080/"
        },
        "id": "1wiq0arlor9Y",
        "outputId": "c4c2edb6-ce96-44f7-9c88-b656b5ca7cd2"
      },
      "source": [
        "sys.getsizeof(2**90)"
      ],
      "execution_count": null,
      "outputs": [
        {
          "output_type": "execute_result",
          "data": {
            "text/plain": [
              "40"
            ]
          },
          "metadata": {
            "tags": []
          },
          "execution_count": 20
        }
      ]
    },
    {
      "cell_type": "code",
      "metadata": {
        "colab": {
          "base_uri": "https://localhost:8080/"
        },
        "id": "7t7PhCMior3l",
        "outputId": "df995174-fe4a-4b54-8737-f518674eebe5"
      },
      "source": [
        "sys.getsizeof(2**1000)"
      ],
      "execution_count": null,
      "outputs": [
        {
          "output_type": "execute_result",
          "data": {
            "text/plain": [
              "160"
            ]
          },
          "metadata": {
            "tags": []
          },
          "execution_count": 21
        }
      ]
    },
    {
      "cell_type": "code",
      "metadata": {
        "colab": {
          "base_uri": "https://localhost:8080/"
        },
        "id": "lSN_3zeNorr5",
        "outputId": "47ce8f19-c8ff-4d9d-93db-fa22b54c7d75"
      },
      "source": [
        "sys.getsizeof(3.14)"
      ],
      "execution_count": null,
      "outputs": [
        {
          "output_type": "execute_result",
          "data": {
            "text/plain": [
              "24"
            ]
          },
          "metadata": {
            "tags": []
          },
          "execution_count": 22
        }
      ]
    },
    {
      "cell_type": "code",
      "metadata": {
        "colab": {
          "base_uri": "https://localhost:8080/"
        },
        "id": "7bldMm1Doytw",
        "outputId": "9d39f669-a737-49d1-b52d-0cea5dd4f8d2"
      },
      "source": [
        "sys.getsizeof('Hello')"
      ],
      "execution_count": null,
      "outputs": [
        {
          "output_type": "execute_result",
          "data": {
            "text/plain": [
              "54"
            ]
          },
          "metadata": {
            "tags": []
          },
          "execution_count": 24
        }
      ]
    },
    {
      "cell_type": "markdown",
      "metadata": {
        "id": "MU78sJhWpfzz"
      },
      "source": [
        "Variables, references, and \"binding\"."
      ]
    },
    {
      "cell_type": "code",
      "metadata": {
        "id": "ME3359AOkyvi"
      },
      "source": [
        "i = 5     # create int(5) instance, bind it to i\n",
        "j = i     # bind j to the same int as i\n",
        "j = 3     # create int(3) instance, bind it to j\n",
        "print(i)   # i still bound to the int(5), j bound to the int(3)"
      ],
      "execution_count": null,
      "outputs": []
    }
  ]
}