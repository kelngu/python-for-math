{
  "nbformat": 4,
  "nbformat_minor": 0,
  "metadata": {
    "colab": {
      "name": "P4M_Notebook2.ipynb",
      "provenance": [],
      "collapsed_sections": [
        "_YFSP4xiP3b7"
      ],
      "toc_visible": true,
      "include_colab_link": true
    },
    "kernelspec": {
      "display_name": "Python 3",
      "language": "python",
      "name": "python3"
    },
    "language_info": {
      "codemirror_mode": {
        "name": "ipython",
        "version": 3
      },
      "file_extension": ".py",
      "mimetype": "text/x-python",
      "name": "python",
      "nbconvert_exporter": "python",
      "pygments_lexer": "ipython3",
      "version": "3.6.7"
    }
  },
  "cells": [
    {
      "cell_type": "markdown",
      "metadata": {
        "id": "view-in-github",
        "colab_type": "text"
      },
      "source": [
        "<a href=\"https://colab.research.google.com/github/kelngu/python-for-math/blob/main/Notebook%20%232/P4M_Notebook2.ipynb\" target=\"_parent\"><img src=\"https://colab.research.google.com/assets/colab-badge.svg\" alt=\"Open In Colab\"/></a>"
      ]
    },
    {
      "cell_type": "markdown",
      "metadata": {
        "id": "SGdDlI_AP3bz"
      },
      "source": [
        "# Part 2:  Functions and Control Statements"
      ]
    },
    {
      "cell_type": "markdown",
      "metadata": {
        "id": "k6MnSig_P3b6"
      },
      "source": [
        "A distinguishing property of *programming* languages is that the programmer can create their own *functions*.  Creating a *function* is like teaching the computer a new trick.  Typically a function will receive some data as *input*, will perform an *algorithm* involving the input data, and will *output* data when the algorithm terminates.  \n",
        "\n",
        "In this part, we explore Python functions.  We also explore control statements, which allow a program to behave in different ways for different inputs.  We also introduce the *while loop*, a loop whose repetition can be more carefully controlled than a for loop.  As an application of these techniques, we implement the Euclidean algorithm as a Python function in a few ways, to effectively find the GCD of integers.\n",
        "\n",
        "At the end, you will be prepared to explore the Collatz conjecture."
      ]
    },
    {
      "cell_type": "markdown",
      "metadata": {
        "id": "_YFSP4xiP3b7"
      },
      "source": [
        "## Table of Contents\n",
        "\n",
        "- [Getting started with Python functions](#functions)\n",
        "- [Control statements](#controls)\n",
        "- [While loops and implementation of the Euclidean algorithm](#while)\n"
      ]
    },
    {
      "cell_type": "markdown",
      "metadata": {
        "id": "SDz7aKXwP3b7"
      },
      "source": [
        "<a id='functions'></a>"
      ]
    },
    {
      "cell_type": "markdown",
      "metadata": {
        "id": "z5VGDVaAP3b7"
      },
      "source": [
        "## Getting started with Python functions"
      ]
    },
    {
      "cell_type": "markdown",
      "metadata": {
        "id": "BhXo8Iz6P3b8"
      },
      "source": [
        "A *function* in Python is a construction which takes input data, performs some actions, and outputs data.  It is best to start with a few examples and break down the code.  Here is a function `square`.  Run the code as usual by pressing *shift-Enter* when the code block is selected."
      ]
    },
    {
      "cell_type": "code",
      "metadata": {
        "id": "3R3P0HkcP3b8"
      },
      "source": [
        "def square(x):                                # stands for \"define\" & defines a function called square, containing the argument x (input data)\n",
        "    answer = x * x                            # \n",
        "    return answer"
      ],
      "execution_count": 4,
      "outputs": []
    },
    {
      "cell_type": "code",
      "metadata": {
        "id": "eNR4_nMpP3b9"
      },
      "source": [
        "from dis import dis"
      ],
      "execution_count": 5,
      "outputs": []
    },
    {
      "cell_type": "code",
      "metadata": {
        "colab": {
          "base_uri": "https://localhost:8080/"
        },
        "id": "6SfT0tvqP3b9",
        "outputId": "c5cc484e-13da-4d2c-8b5e-43f70c6a3474"
      },
      "source": [
        "dis(square)"
      ],
      "execution_count": 6,
      "outputs": [
        {
          "output_type": "stream",
          "text": [
            "  2           0 LOAD_FAST                0 (x)\n",
            "              2 LOAD_FAST                0 (x)\n",
            "              4 BINARY_MULTIPLY\n",
            "              6 STORE_FAST               1 (answer)\n",
            "\n",
            "  3           8 LOAD_FAST                1 (answer)\n",
            "             10 RETURN_VALUE\n"
          ],
          "name": "stdout"
        }
      ]
    },
    {
      "cell_type": "markdown",
      "metadata": {
        "id": "AMo5mgGyP3b-"
      },
      "source": [
        "When you run the code block, you probably didn't see anything happen.  But you have effectively taught your computer a new trick, increasing the vocabulary of commands it understands through the Python interpreter.  Now you can use the `square` command as you wish."
      ]
    },
    {
      "cell_type": "code",
      "metadata": {
        "colab": {
          "base_uri": "https://localhost:8080/"
        },
        "id": "Mr1X1DOHP3b-",
        "outputId": "0bddccf6-496d-4ba3-c8b4-25ef9863175f"
      },
      "source": [
        "square(12)"
      ],
      "execution_count": 7,
      "outputs": [
        {
          "output_type": "execute_result",
          "data": {
            "text/plain": [
              "144"
            ]
          },
          "metadata": {
            "tags": []
          },
          "execution_count": 7
        }
      ]
    },
    {
      "cell_type": "code",
      "metadata": {
        "colab": {
          "base_uri": "https://localhost:8080/"
        },
        "id": "FXj9oy2nP3b_",
        "outputId": "e8f12eac-bbe3-4c7d-a6c8-9a11306faba2"
      },
      "source": [
        "square(1.5)"
      ],
      "execution_count": 8,
      "outputs": [
        {
          "output_type": "execute_result",
          "data": {
            "text/plain": [
              "2.25"
            ]
          },
          "metadata": {
            "tags": []
          },
          "execution_count": 8
        }
      ]
    },
    {
      "cell_type": "markdown",
      "metadata": {
        "id": "qIjx1N99P3b_"
      },
      "source": [
        "Let's break down the syntax of the *function declaration*, line by line.\n",
        "\n",
        "```python\n",
        "def square(x):\n",
        "    answer = x * x\n",
        "    return answer\n",
        "```\n",
        "\n",
        "The first line begins with the Python reserved word `def`.  (So don't use `def` as a variable name!).  The word `def` stands for \"define\" and it defines a function called `square`.  After the function name `square` comes parentheses `(x)` containing the **argument** `x`.  The *arguments* or *parameters* of a function refer to the input data.  Even if your function has no arguments, you need parentheses.  The argument `x` is used to name whatever number is input into the `square` function.  \n",
        "\n",
        "At the end of the function declaration line is a colon `:` and the following two lines are indented.  As in the case of for loops, the colon and indentation are signals of *scope*.  Everything on the indented lines is considered within the *scope of the function* and is carried out when the function is used later.\n",
        "\n",
        "The second line `answer = x * x` is the beginning of the scope of the function.  It declares a variable `answer` and sets the value to be `x * x`.  So if the argument `x` is 12, then `answer` will be set to 144.  The variable `answer`, being declared within the scope of the function, will not be accessible outside the scope of the function.  It is called a **local variable**.\n",
        "\n",
        "The last line `return answer` contains the Python reserved word `return`, which terminates the function and outputs the value of the variable `answer`.  So when you apply the function with the command `square(1.5)`, the number `1.5` is `passed` as the argument `x`, and `answer` is `2.25`, and that number `2.25` becomes the output."
      ]
    },
    {
      "cell_type": "markdown",
      "metadata": {
        "id": "N5sJT4EnP3cA"
      },
      "source": [
        "A function does not have to return a value.  Some functions might just provide some information.  Here is a function which displays the result of division with remainder as a sentence with addition and multiplication."
      ]
    },
    {
      "cell_type": "code",
      "metadata": {
        "id": "HIj2z-q0P3cA"
      },
      "source": [
        "def display_divmod(a,b):\n",
        "    quotient = a // b # Integer division\n",
        "    remainder = a % b #\n",
        "    print(\"{} = {} ({}) + {}\".format(a,quotient,b,remainder))"
      ],
      "execution_count": 9,
      "outputs": []
    },
    {
      "cell_type": "code",
      "metadata": {
        "colab": {
          "base_uri": "https://localhost:8080/"
        },
        "id": "OQRurMSsP3cA",
        "outputId": "850731fc-5172-4f48-beda-1bf6797a86be"
      },
      "source": [
        "dis(display_divmod)"
      ],
      "execution_count": 10,
      "outputs": [
        {
          "output_type": "stream",
          "text": [
            "  2           0 LOAD_FAST                0 (a)\n",
            "              2 LOAD_FAST                1 (b)\n",
            "              4 BINARY_FLOOR_DIVIDE\n",
            "              6 STORE_FAST               2 (quotient)\n",
            "\n",
            "  3           8 LOAD_FAST                0 (a)\n",
            "             10 LOAD_FAST                1 (b)\n",
            "             12 BINARY_MODULO\n",
            "             14 STORE_FAST               3 (remainder)\n",
            "\n",
            "  4          16 LOAD_GLOBAL              0 (print)\n",
            "             18 LOAD_CONST               1 ('{} = {} ({}) + {}')\n",
            "             20 LOAD_ATTR                1 (format)\n",
            "             22 LOAD_FAST                0 (a)\n",
            "             24 LOAD_FAST                2 (quotient)\n",
            "             26 LOAD_FAST                1 (b)\n",
            "             28 LOAD_FAST                3 (remainder)\n",
            "             30 CALL_FUNCTION            4\n",
            "             32 CALL_FUNCTION            1\n",
            "             34 POP_TOP\n",
            "             36 LOAD_CONST               0 (None)\n",
            "             38 RETURN_VALUE\n"
          ],
          "name": "stdout"
        }
      ]
    },
    {
      "cell_type": "code",
      "metadata": {
        "colab": {
          "base_uri": "https://localhost:8080/"
        },
        "id": "B9-iVpCrP3cA",
        "scrolled": true,
        "outputId": "2eff196a-5c37-414f-ddab-d3f46ed5d3a1"
      },
      "source": [
        "display_divmod(23,5)"
      ],
      "execution_count": 11,
      "outputs": [
        {
          "output_type": "stream",
          "text": [
            "23 = 4 (5) + 3\n"
          ],
          "name": "stdout"
        }
      ]
    },
    {
      "cell_type": "markdown",
      "metadata": {
        "id": "ChHszxRgP3cB"
      },
      "source": [
        "Notice that this function has no `return` line.  The function terminates automatically at the end of its scope.\n",
        "\n",
        "The function also uses Python's **string formatting**.  This has changed between Python 2.x and 3.x, and this notebook uses Python 3.x syntax.\n",
        "\n",
        "String formatting allows you to insert placeholders like `{}` within a string, and later fill those places with a list of things.  "
      ]
    },
    {
      "cell_type": "code",
      "metadata": {
        "id": "qbhiel9tP3cB",
        "colab": {
          "base_uri": "https://localhost:8080/"
        },
        "outputId": "2e918953-4ecb-4450-f0c0-12dd057bddca"
      },
      "source": [
        "print(\"My favorite number is {}\".format(17))  # The .format \"method\" substitutes 17 for {}"
      ],
      "execution_count": 12,
      "outputs": [
        {
          "output_type": "stream",
          "text": [
            "My favorite number is 17\n"
          ],
          "name": "stdout"
        }
      ]
    },
    {
      "cell_type": "code",
      "metadata": {
        "id": "9xHEsofqP3cB",
        "colab": {
          "base_uri": "https://localhost:8080/"
        },
        "outputId": "d3698797-921a-4fde-eaf9-96dca4b69b9c"
      },
      "source": [
        "print(\"{} + {} = {}\".format(13,12,13+12))"
      ],
      "execution_count": 13,
      "outputs": [
        {
          "output_type": "stream",
          "text": [
            "13 + 12 = 25\n"
          ],
          "name": "stdout"
        }
      ]
    },
    {
      "cell_type": "markdown",
      "metadata": {
        "id": "qC2EvUvqP3cB"
      },
      "source": [
        "The `format` command is an example of a **string method**.  It has the effect of replacing all placeholders `{}` by the its inputs, in sequence.  There is an intricate syntax for these placeholders, to allow one to match placeholders with values in different orders, and to format different kinds of values.  Here is the [official reference for string formatting in Python 3.x](https://docs.python.org/3/library/string.html#formatstrings).  We will only use the most basic features, exhibited below."
      ]
    },
    {
      "cell_type": "code",
      "metadata": {
        "id": "dxGwzruzP3cC",
        "colab": {
          "base_uri": "https://localhost:8080/"
        },
        "outputId": "4bb28037-96e1-4697-8117-d15ff46f8078"
      },
      "source": [
        "print (\"The number {} comes before {}.\".format(1,2)) # This should be familiar.\n",
        "print (\"The number {1} comes before {0}.\".format(1,2)) # What happens?\n",
        "print (\"The number {1} comes before {1}.\".format(1,2)) # Got it now?\n",
        "\n"
      ],
      "execution_count": 14,
      "outputs": [
        {
          "output_type": "stream",
          "text": [
            "The number 1 comes before 2.\n",
            "The number 2 comes before 1.\n",
            "The number 2 comes before 2.\n"
          ],
          "name": "stdout"
        }
      ]
    },
    {
      "cell_type": "markdown",
      "metadata": {
        "id": "bJZo7vVTP3cC"
      },
      "source": [
        "By placing a number in the placeholder, like `{1}`, one can fill in the placeholders with the values in a different order, or repeat the same value.  The format method takes multiple parameters, and they are numbered:  parameter 0, parameter 1, parameter 2, etc..  So the placeholder `{1}` will be replaced by the second parameter (parameter 1).  It's confusing at first, but Python almost always starts counting at zero."
      ]
    },
    {
      "cell_type": "code",
      "metadata": {
        "colab": {
          "base_uri": "https://localhost:8080/"
        },
        "id": "CXM32pkqP3cC",
        "outputId": "dabe6955-62d5-4ecf-841b-2129b1e97a6c"
      },
      "source": [
        "print(\"pi is approximately {0}\".format(3.14159265))\n",
        "print(\"pi is approximately {0:f}\".format(3.14159265)) # The \"f\" in \"0:f\" formats the float.\n",
        "print(\"pi is approximately {0:0.3f}\".format(3.14159265)) # Choose 3 digits of precision.\n"
      ],
      "execution_count": 15,
      "outputs": [
        {
          "output_type": "stream",
          "text": [
            "pi is approximately 3.14159265\n",
            "pi is approximately 3.141593\n",
            "pi is approximately 3.142\n"
          ],
          "name": "stdout"
        }
      ]
    },
    {
      "cell_type": "markdown",
      "metadata": {
        "id": "DheQ7m0VP3cD"
      },
      "source": [
        "If you give some information about how the placeholder is being used, the format method will format things more nicely for printing.  The placeholder `{0:f}` will be replaced by parameter 0, and it will be formatted in a way that is nice for floats (hence the `f`).  Don't try formatting things outside of their type!"
      ]
    },
    {
      "cell_type": "code",
      "metadata": {
        "colab": {
          "base_uri": "https://localhost:8080/",
          "height": 265
        },
        "id": "1FbB-rolP3cD",
        "outputId": "03f2815b-5782-4ebc-9969-a4443a004f5d"
      },
      "source": [
        "print(\"{:d} is a pretty big integer.\".format(2**100)) # d is the formatting code for integers.\n",
        "print(\"{:f} is an integer, formatted like a float.\".format(2**100))\n",
        "print(\"{:f} is a float, of course.\".format(1/7))\n",
        "print(\"{:s} is a string.\".format('Hi there!')) # s is the formatting code for strings.\n",
        "print(\"{:d} will give us an error message.\".format(1/7))\n"
      ],
      "execution_count": 16,
      "outputs": [
        {
          "output_type": "stream",
          "text": [
            "1267650600228229401496703205376 is a pretty big integer.\n",
            "1267650600228229401496703205376.000000 is an integer, formatted like a float.\n",
            "0.142857 is a float, of course.\n",
            "Hi there! is a string.\n"
          ],
          "name": "stdout"
        },
        {
          "output_type": "error",
          "ename": "ValueError",
          "evalue": "ignored",
          "traceback": [
            "\u001b[0;31m---------------------------------------------------------------------------\u001b[0m",
            "\u001b[0;31mValueError\u001b[0m                                Traceback (most recent call last)",
            "\u001b[0;32m<ipython-input-16-a243553941ff>\u001b[0m in \u001b[0;36m<module>\u001b[0;34m()\u001b[0m\n\u001b[1;32m      3\u001b[0m \u001b[0mprint\u001b[0m\u001b[0;34m(\u001b[0m\u001b[0;34m\"{:f} is a float, of course.\"\u001b[0m\u001b[0;34m.\u001b[0m\u001b[0mformat\u001b[0m\u001b[0;34m(\u001b[0m\u001b[0;36m1\u001b[0m\u001b[0;34m/\u001b[0m\u001b[0;36m7\u001b[0m\u001b[0;34m)\u001b[0m\u001b[0;34m)\u001b[0m\u001b[0;34m\u001b[0m\u001b[0;34m\u001b[0m\u001b[0m\n\u001b[1;32m      4\u001b[0m \u001b[0mprint\u001b[0m\u001b[0;34m(\u001b[0m\u001b[0;34m\"{:s} is a string.\"\u001b[0m\u001b[0;34m.\u001b[0m\u001b[0mformat\u001b[0m\u001b[0;34m(\u001b[0m\u001b[0;34m'Hi there!'\u001b[0m\u001b[0;34m)\u001b[0m\u001b[0;34m)\u001b[0m \u001b[0;31m# s is the formatting code for strings.\u001b[0m\u001b[0;34m\u001b[0m\u001b[0;34m\u001b[0m\u001b[0m\n\u001b[0;32m----> 5\u001b[0;31m \u001b[0mprint\u001b[0m\u001b[0;34m(\u001b[0m\u001b[0;34m\"{:d} will give us an error message.\"\u001b[0m\u001b[0;34m.\u001b[0m\u001b[0mformat\u001b[0m\u001b[0;34m(\u001b[0m\u001b[0;36m1\u001b[0m\u001b[0;34m/\u001b[0m\u001b[0;36m7\u001b[0m\u001b[0;34m)\u001b[0m\u001b[0;34m)\u001b[0m\u001b[0;34m\u001b[0m\u001b[0;34m\u001b[0m\u001b[0m\n\u001b[0m",
            "\u001b[0;31mValueError\u001b[0m: Unknown format code 'd' for object of type 'float'"
          ]
        }
      ]
    },
    {
      "cell_type": "code",
      "metadata": {
        "id": "0Xz_T_8yP3cD"
      },
      "source": [
        "from math import sqrt  # Make sure the square root function is loaded.\n",
        "print(\"The square root of {0:d} is about {1:f}.\".format(1000, sqrt(1000)))"
      ],
      "execution_count": null,
      "outputs": []
    },
    {
      "cell_type": "markdown",
      "metadata": {
        "id": "t4bt9pc_P3cE"
      },
      "source": [
        "### Exercises\n",
        "\n",
        "1.  What are the signals of scope in Python?\n",
        "\n",
        "2.  Write a function called area_circle, which takes one argument radius. The function should return the area of the circle, as a floating point number. Then add one line to the function, using string formatting, so that it additionally prints a helpful sentence of the form \"The area of a circle of radius 1.0 is 3.14159.\" (depending on the radius and the area it computes).\n",
        "\n",
        "3. `format` is an example of a \"string method\".  Another neat one is `replace`.  Try `\"Python\".replace(\"yth\",\"arag\")` to see what it does.  \n",
        "\n",
        "4.  Try the formatting codes `%` and `E` (instead of `f`) for a floating point number.  What do they do?\n",
        "\n",
        "5. Can you think of a reason you might want to have a function with *no* arguments?"
      ]
    },
    {
      "cell_type": "markdown",
      "metadata": {
        "id": "ERfUQNW7YeID"
      },
      "source": [
        "### Solutions"
      ]
    },
    {
      "cell_type": "markdown",
      "metadata": {
        "id": "rMh777QrYZu0"
      },
      "source": [
        "1. In Python, the colon and the identation are signals of scope, where everything on the idented lines is considered within the scope of the function and is carried when the function is used later. \r\n",
        "\r\n",
        "2. To write a function called `area_circle`, we would need to first define the function with parameters of `r` input and with the area of circle formula. Thus, we created the following script to calculate the area of a circle at a radius of 1. "
      ]
    },
    {
      "cell_type": "code",
      "metadata": {
        "id": "RbTjiLXRXXc5"
      },
      "source": [
        "import math                                                                      # imports math library \r\n",
        "def area_circle(r):                                                              # def area of circle function with radius input \r\n",
        "  circle=(math.pi)*(r**2)                                                   # area of circle formula \r\n",
        "  return circle                                                             # stops function and outputs the value of the variable area_circle\r\n",
        "\r\n",
        "print('The area of a circle of radius {} is {}.'.format(1.0,area_circle(1.0)))    "
      ],
      "execution_count": null,
      "outputs": []
    },
    {
      "cell_type": "markdown",
      "metadata": {
        "id": "L80Qp1EHbDn9"
      },
      "source": [
        "3. We know that `format` is an example of a \"string method,\" but suppose we want to use `replace` instead. What it seems that `replace` does is that with the given string, `replace` will literally a section of the string with another string. For instance with the given example, \"yth\" was replaced with \"arag\" to get \"Paragon\" instead of \"Python.\""
      ]
    },
    {
      "cell_type": "code",
      "metadata": {
        "id": "Q6jW2cLkblTz"
      },
      "source": [
        "print(\"Python\".replace(\"yth\",\"arag\"))"
      ],
      "execution_count": null,
      "outputs": []
    },
    {
      "cell_type": "markdown",
      "metadata": {
        "id": "j-Ctk-znchK0"
      },
      "source": [
        "4. When I tried the formatting code `%` instead of `f` for a floating point number, I find that the float is written as a percentage, where the floating number is multipled by `100%`. The precision technique in this case will remain the same. \\\r\n",
        "When I tried the formatting code `E` instead of `f` for a floating point number, I find that the float is written in scientific notation, where the floating number we are looking to format is written as some number `a` multiplied by `10` raised to some number `b`: `a * 10**b`. The `+00` is the power that `10` is raised to. The precision technique in this case will remain the same."
      ]
    },
    {
      "cell_type": "code",
      "metadata": {
        "id": "q5QiZTsxdHP0"
      },
      "source": [
        "print(\"pi is approximately {0}\".format(3.14159265))\r\n",
        "print(\"pi is approximately {0:%}\".format(3.14159265)) # The \"E\" in \"0:f\" formats the float.\r\n",
        "print(\"pi is approximately {0:0.3%}\".format(3.14159265)) # Choose 3 digits of precision.\r\n",
        "#--------------------------------------------------------------------------------------------------------\r\n",
        "print(\"pi is approximately {0}\".format(3.14159265))\r\n",
        "print(\"pi is approximately {0:E}\".format(3.14159265)) # The \"E\" in \"0:f\" formats the float.\r\n",
        "print(\"pi is approximately {0:0.3E}\".format(3.14159265)) # Choose 3 digits of precision."
      ],
      "execution_count": null,
      "outputs": []
    },
    {
      "cell_type": "markdown",
      "metadata": {
        "id": "VmeQOza_fAhY"
      },
      "source": [
        "5. We might want a function with no arguments so that we could collect arguments or inputs from the user instead. Basically, defining a function without arguments leaves room for the user to input their responses to the script once we call the function, as shown in the example below. "
      ]
    },
    {
      "cell_type": "code",
      "metadata": {
        "id": "sWKuWOekgr9a"
      },
      "source": [
        "from dis import dis\n",
        "import math\n",
        "def area_circle_open():\n",
        "  r=input('What is your radius? ')\n",
        "  circle=(math.pi)*(float(r)**2)\n",
        "  print('The area of a circle with an inputted radius of {} is {}.'.format(r,circle))\n",
        "\n",
        "area_circle_open()"
      ],
      "execution_count": null,
      "outputs": []
    },
    {
      "cell_type": "markdown",
      "metadata": {
        "id": "4IIXwoNUP3cE"
      },
      "source": [
        "## Control statements"
      ]
    },
    {
      "cell_type": "markdown",
      "metadata": {
        "id": "mKLkXQuzP3cF"
      },
      "source": [
        "It is important for a computer program to behave differently under different circumstances.  The simplest control statements, `if` and its relative `else`, can be used to tell Python to carry out different actions depending on the value of a boolean variable.  The following function exhibits the syntax."
      ]
    },
    {
      "cell_type": "code",
      "metadata": {
        "id": "EmopyZqqP3cF"
      },
      "source": [
        "def is_even(n):\n",
        "    if n%2 == 0:\n",
        "        print(\"{} is even.\".format(n))\n",
        "        return True\n",
        "    else:\n",
        "        print(\"{} is odd.\".format(n))\n",
        "        return False"
      ],
      "execution_count": 42,
      "outputs": []
    },
    {
      "cell_type": "code",
      "metadata": {
        "colab": {
          "base_uri": "https://localhost:8080/"
        },
        "id": "tHhbaF3qP3cF",
        "outputId": "1f3468b3-ca78-490a-e989-9a0cfe0de23c"
      },
      "source": [
        "is_even(17)"
      ],
      "execution_count": 43,
      "outputs": [
        {
          "output_type": "stream",
          "text": [
            "17 is odd.\n"
          ],
          "name": "stdout"
        },
        {
          "output_type": "execute_result",
          "data": {
            "text/plain": [
              "False"
            ]
          },
          "metadata": {
            "tags": []
          },
          "execution_count": 43
        }
      ]
    },
    {
      "cell_type": "code",
      "metadata": {
        "colab": {
          "base_uri": "https://localhost:8080/"
        },
        "id": "8iQx4rjVP3cF",
        "outputId": "56dd43f4-e1bc-4411-8024-d8a84fdca540"
      },
      "source": [
        "is_even(1000)"
      ],
      "execution_count": 44,
      "outputs": [
        {
          "output_type": "stream",
          "text": [
            "1000 is even.\n"
          ],
          "name": "stdout"
        },
        {
          "output_type": "execute_result",
          "data": {
            "text/plain": [
              "True"
            ]
          },
          "metadata": {
            "tags": []
          },
          "execution_count": 44
        }
      ]
    },
    {
      "cell_type": "markdown",
      "metadata": {
        "id": "sFB-_awvP3cG"
      },
      "source": [
        "The broad syntax of the function should be familiar.  We have created a function called `is_even` with one argument called `n`.  The body of the function uses the **control statement** `if n%2 == 0:`.  Recall that `n%2` gives the remainder after dividing `n` by `2`.  Thus `n%2` is 0 or 1, depending on whether `n` is even or odd.  Therefore the **boolean** `n%2 == 0` is `True` if `n` is even, and `False` if `n` is odd.\n",
        "\n",
        "The next two lines (the first `print` and `return` statements) are within the **scope** of the `if <boolean>:` statement, as indicated by the colon and the indentation.  The `if <boolean>:` statement tells the Python interpreter to perform the statements within the scope if the boolean is `True`, and to ignore the statements within the scope if the boolean is `False`.\n",
        "\n",
        "Putting it together, we can analyze the code.\n",
        "```python\n",
        "    if n%2 == 0:\n",
        "        print(\"{} is even.\".format(n))\n",
        "        return True\n",
        "```\n",
        "If `n` is even, then the Python interpreter will print a sentence of the form `n is even`.  Then the interpreter will return (output) the value `True` and the function will terminate.  If `n` is odd, the Python interpreter will ignore the two lines of scope."
      ]
    },
    {
      "cell_type": "markdown",
      "metadata": {
        "id": "Ygnw_fCuP3cG"
      },
      "source": [
        "Often we don't just want Python to *do nothing* when a condition is not satisfied.  In the case above, we would rather Python tell us that the number is odd.  The `else:` control statement tells Python what to do in case the `if <boolean>:` control statement receives a `False` boolean.  We analyze the code\n",
        "```python\n",
        "    else:\n",
        "        print(\"{} is odd.\".format(n))\n",
        "        return False\n",
        "```\n",
        "The `print` and `return` commands are within the scope of the `else:` control statement.  So when the `if` statement receives a false signal (the number `n` is odd), the program prints a sentence of the form `n is odd.` and then returns the value `False` and terminates the function."
      ]
    },
    {
      "cell_type": "markdown",
      "metadata": {
        "id": "wH8od2JjP3cG"
      },
      "source": [
        "The function `is_even` is a verbose, or \"talkative\" sort of function.  Such a function is sometimes useful in an interactive setting, where the programmer wants to understand everything that's going on.  But if the function had to be called a million times, the screen would fill with printed sentences!  In practice, an efficient and silent function `is_even` might look like the following."
      ]
    },
    {
      "cell_type": "code",
      "metadata": {
        "colab": {
          "base_uri": "https://localhost:8080/"
        },
        "id": "s4U061h1P3cH",
        "scrolled": true,
        "outputId": "a0f321c4-a317-4551-8e64-5edb46ef080f"
      },
      "source": [
        "dis(is_even)"
      ],
      "execution_count": 45,
      "outputs": [
        {
          "output_type": "stream",
          "text": [
            "  2           0 LOAD_FAST                0 (n)\n",
            "              2 LOAD_CONST               1 (2)\n",
            "              4 BINARY_MODULO\n",
            "              6 LOAD_CONST               2 (0)\n",
            "              8 COMPARE_OP               2 (==)\n",
            "             10 POP_JUMP_IF_FALSE       30\n",
            "\n",
            "  3          12 LOAD_GLOBAL              0 (print)\n",
            "             14 LOAD_CONST               3 ('{} is even.')\n",
            "             16 LOAD_ATTR                1 (format)\n",
            "             18 LOAD_FAST                0 (n)\n",
            "             20 CALL_FUNCTION            1\n",
            "             22 CALL_FUNCTION            1\n",
            "             24 POP_TOP\n",
            "\n",
            "  4          26 LOAD_CONST               4 (True)\n",
            "             28 RETURN_VALUE\n",
            "\n",
            "  6     >>   30 LOAD_GLOBAL              0 (print)\n",
            "             32 LOAD_CONST               5 ('{} is odd.')\n",
            "             34 LOAD_ATTR                1 (format)\n",
            "             36 LOAD_FAST                0 (n)\n",
            "             38 CALL_FUNCTION            1\n",
            "             40 CALL_FUNCTION            1\n",
            "             42 POP_TOP\n",
            "\n",
            "  7          44 LOAD_CONST               6 (False)\n",
            "             46 RETURN_VALUE\n",
            "             48 LOAD_CONST               0 (None)\n",
            "             50 RETURN_VALUE\n"
          ],
          "name": "stdout"
        }
      ]
    },
    {
      "cell_type": "code",
      "metadata": {
        "id": "rbS6gCZ3P3cH"
      },
      "source": [
        "def is_even(n):\n",
        "    return (n%2 == 0)"
      ],
      "execution_count": 46,
      "outputs": []
    },
    {
      "cell_type": "code",
      "metadata": {
        "colab": {
          "base_uri": "https://localhost:8080/"
        },
        "id": "4Xhy1R_vP3cJ",
        "outputId": "5831b322-f341-4a5d-9143-727ee19ab84c"
      },
      "source": [
        "is_even(17)"
      ],
      "execution_count": 47,
      "outputs": [
        {
          "output_type": "execute_result",
          "data": {
            "text/plain": [
              "False"
            ]
          },
          "metadata": {
            "tags": []
          },
          "execution_count": 47
        }
      ]
    },
    {
      "cell_type": "markdown",
      "metadata": {
        "id": "zp9FDn_wP3cK"
      },
      "source": [
        "A `for` loop and an `if` control statement, used together, allow us to carry out a **brute force** search.  We can search for factors in order to check whether a number is prime.  Or we can look for solutions to an equation until we find one.\n",
        "\n",
        "One thing to note:  the function below begins with a block of text between a triple-quote (three single-quotes when typing).  That text is called a **docstring** and it is meant to document what the function does.  Writing clear docstrings becomes more important as you write longer programs, collaborate with other programmers, and when you want to return months or years later to use a program again.  There are different style conventions for docstrings; for example, here are [Google's docstring conventions](https://google.github.io/styleguide/pyguide.html?showone=Comments#Comments).  We take a less formal approach."
      ]
    },
    {
      "cell_type": "code",
      "metadata": {
        "id": "VCYDuFS_P3cK"
      },
      "source": [
        "def is_prime(n):\n",
        "    '''\n",
        "    Checks whether the argument n is a prime number.\n",
        "    Uses a brute force search for factors between 1 and n.\n",
        "    '''\n",
        "    for j in range(2,n):  # the list of numbers 2,3,...,n-1.\n",
        "        if n%j == 0:  # is n divisible by j?\n",
        "            print(\"{} is a factor of {}.\".format(j,n))\n",
        "            return False\n",
        "    return True"
      ],
      "execution_count": 48,
      "outputs": []
    },
    {
      "cell_type": "markdown",
      "metadata": {
        "id": "Sg9L6Vx8P3cK"
      },
      "source": [
        "An important note:  the `return` keyword **terminates** the function.  So as soon as a factor is found, the function terminates and outputs `False`.  If no factor is found, then the function execution survives past the loop, and the line `return True` is executed to terminate the function."
      ]
    },
    {
      "cell_type": "code",
      "metadata": {
        "colab": {
          "base_uri": "https://localhost:8080/"
        },
        "id": "6701vDt8P3cK",
        "outputId": "47edf430-eccf-400c-c14f-4ab351681f34"
      },
      "source": [
        "is_prime(91)"
      ],
      "execution_count": 49,
      "outputs": [
        {
          "output_type": "stream",
          "text": [
            "7 is a factor of 91.\n"
          ],
          "name": "stdout"
        },
        {
          "output_type": "execute_result",
          "data": {
            "text/plain": [
              "False"
            ]
          },
          "metadata": {
            "tags": []
          },
          "execution_count": 49
        }
      ]
    },
    {
      "cell_type": "code",
      "metadata": {
        "colab": {
          "base_uri": "https://localhost:8080/"
        },
        "id": "KCTF-latP3cK",
        "outputId": "01265cba-710c-4ecc-ec60-19b4ae8cec55"
      },
      "source": [
        "is_prime(101)"
      ],
      "execution_count": 50,
      "outputs": [
        {
          "output_type": "execute_result",
          "data": {
            "text/plain": [
              "True"
            ]
          },
          "metadata": {
            "tags": []
          },
          "execution_count": 50
        }
      ]
    },
    {
      "cell_type": "markdown",
      "metadata": {
        "id": "t54alZgHP3cL"
      },
      "source": [
        "Try the `is_prime` function on bigger numbers -- try numbers with 4 digits, 5 digits, 6 digits.  Where does it start to slow down?  Do you get any errors when the numbers are large?  Make sure to save your work first, just in case this crashes your computer!  \n",
        "\n"
      ]
    },
    {
      "cell_type": "code",
      "metadata": {
        "id": "02Q6RpfZP3cL",
        "colab": {
          "base_uri": "https://localhost:8080/"
        },
        "outputId": "e5001208-7d2c-4a1e-fdfb-ac4c265b472b"
      },
      "source": [
        "# Experiment with is_prime here.\n",
        "is_prime(1087)\n"
      ],
      "execution_count": 51,
      "outputs": [
        {
          "output_type": "execute_result",
          "data": {
            "text/plain": [
              "True"
            ]
          },
          "metadata": {
            "tags": []
          },
          "execution_count": 51
        }
      ]
    },
    {
      "cell_type": "code",
      "metadata": {
        "colab": {
          "base_uri": "https://localhost:8080/"
        },
        "id": "YrPVjLONlGyY",
        "outputId": "3fffb27f-2ec7-48fd-ee3e-e66af5c41f01"
      },
      "source": [
        "is_prime(16843)"
      ],
      "execution_count": 52,
      "outputs": [
        {
          "output_type": "execute_result",
          "data": {
            "text/plain": [
              "True"
            ]
          },
          "metadata": {
            "tags": []
          },
          "execution_count": 52
        }
      ]
    },
    {
      "cell_type": "code",
      "metadata": {
        "colab": {
          "base_uri": "https://localhost:8080/"
        },
        "id": "dDqJosSolE0T",
        "outputId": "29988efb-1347-40ad-c525-c9344fb72689"
      },
      "source": [
        "is_prime(101011)"
      ],
      "execution_count": 53,
      "outputs": [
        {
          "output_type": "stream",
          "text": [
            "83 is a factor of 101011.\n"
          ],
          "name": "stdout"
        },
        {
          "output_type": "execute_result",
          "data": {
            "text/plain": [
              "False"
            ]
          },
          "metadata": {
            "tags": []
          },
          "execution_count": 53
        }
      ]
    },
    {
      "cell_type": "markdown",
      "metadata": {
        "id": "PochBlfLP3cL"
      },
      "source": [
        "There are two limiting factors, which we study in more detail later.  These are **time** and **space** (your computer's memory space).  As the loop of `is_prime` goes on and on, it might take your computer a long time!  If each step of the loop takes only a nanosecond (1 billionth of a second), the loop would take about a second when executing `is_prime(1000000001)`.  If you tried `is_prime` on a much larger number, like `is_prime(2**101 - 1)`, the loop would take longer than the lifetime of the Earth.\n",
        "\n",
        "The other issue that can arise is a problem with *space*.  In Python 3.x, the `range(2,n)` cleverly *avoids* storing all the numbers between `2` and `n-1` in memory.  It just remembers the endpoints, and how to proceed from one number to the next.  In the older version, Python 2.x, the range command `range(2,n)` would have tried to store the entire list of numbers `[2,3,4,...,n-1]` in the memory of your computer.  Your computer has some (4 or 8 or 16, perhaps) gigabytes of memory (RAM).  A gigabyte is a billion bytes, and a byte is enough memory to store a number between 0 and 255.  (More detail about this later!).  So a gigabyte will not even hold a billion numbers.  So our `is_prime` function would have led to memory problems in Python 2.x, but in Python 3.x we don't have to worry (for now) about space."
      ]
    },
    {
      "cell_type": "markdown",
      "metadata": {
        "id": "xp0KniRsP3cL"
      },
      "source": [
        "### Exercises\n",
        "\n",
        "1.  Create a function `my_abs(x)` which outputs the absolute value of the argument `x`.  (Note that Python already has a built-in `abs(x)` function).  \n",
        "\n",
        "2.  Modify the `is_prime` function so that it prints a message `Number too big` and returns `None` if the input argument is bigger than one million.  (Note that `None` is a Python reserved word.  You can use the one-line statement `return None`.)  \n",
        "\n",
        "3.  Write a Python function `thrarity` which takes an argument `n`, and outputs the string `threeven` if `n` is a multiple of three, or `throdd` is `n` is one more than a multiple of three, or `thrugly` if `n` is one less than a multiple of three.  Example:  `thrarity(31)` should output `throdd` and `thrarity(44)` should output `thrugly`.  Hint:  study the `if`/`elif` syntax at [the official Python tutorial](https://docs.python.org/3/tutorial/controlflow.html#if-statements)\n",
        "\n",
        "4.  Write a Python function `sum_of_squares(n)` which finds and prints a pair of natural numbers $x$, $y$, such that $x^2 + y^2 = n$.  The function should use a brute force search and return `None` if no such pair of numbers $x,y$ exists.  Explore which natural numbers can be expressed as sums of two squares... hint:  look at prime numbers first!\n",
        "\n",
        "5.  Write a function `gamma(n)` which takes a positive integer n as input, and outputs the difference between the harmonic sum $\\frac{1}{1} + \\frac{1}{2} + \\frac{1}{3} + \\cdots + \\frac{1}{n}$ and the natural logarithm $\\log(n)$.  Use numpy to compute the logarithm, by using the command `from numpy import log` in a separate cell.  Approximate $\\gamma(n)$ as $n \\rightarrow \\infty$.  How large does $n$ need to be to get five digits of precision on this limit?  Can you prove that the limit $\\lim_{n \\rightarrow \\infty} \\gamma(n)$ exists?"
      ]
    },
    {
      "cell_type": "markdown",
      "metadata": {
        "id": "PJ9ByO2GJuFY"
      },
      "source": [
        "### Solutions\r\n",
        "\r\n"
      ]
    },
    {
      "cell_type": "markdown",
      "metadata": {
        "id": "Ikt-N2AAhdcV"
      },
      "source": [
        "1. I created a function `my_abs(x)` that first checks whether the argument is negative or positive. If negative, then we multiply `x` by `-1`, and if positive, then we leave it alone. "
      ]
    },
    {
      "cell_type": "code",
      "metadata": {
        "id": "d23r1dNLa7mR"
      },
      "source": [
        "def my_abs(x):                                                                  # takes absolute value of argument \r\n",
        "  if x < 0:                                                                     # checks if x is less than 0\r\n",
        "    ab = x * -1                                                                 # if True, then x * -1 = (-#) * -1 = #\r\n",
        "    return print('The absolute value of x = {} is {}.'.format(x,ab))            \r\n",
        "  return print('The absolute value of x = {} is still {}.'.format(x,x))         # if False, then print x "
      ],
      "execution_count": 54,
      "outputs": []
    },
    {
      "cell_type": "code",
      "metadata": {
        "colab": {
          "base_uri": "https://localhost:8080/"
        },
        "id": "ddIhIco8halX",
        "outputId": "9fd067d1-5359-457b-db15-0335f46be9a9"
      },
      "source": [
        "my_abs(-100)\r\n",
        "my_abs(100)"
      ],
      "execution_count": 55,
      "outputs": [
        {
          "output_type": "stream",
          "text": [
            "The absolute value of x = -100 is 100.\n",
            "The absolute value of x = 100 is still 100.\n"
          ],
          "name": "stdout"
        }
      ]
    },
    {
      "cell_type": "markdown",
      "metadata": {
        "id": "7uLdcfPIhz5l"
      },
      "source": [
        "2. From the given `is_prime` function, I added an `if` statement that before it checks whether the argument is prime or not, the `if` statement checks whether the argument is greater than or equal to `1000000`. If the argument is less than `1000000`, then the function moves forward with check its prime characteristics, but if the number is greater than or equal to `1000000`, then it lets the user know that the number is too big and it aborts the program. "
      ]
    },
    {
      "cell_type": "code",
      "metadata": {
        "id": "LD-k_Ox6fH-Z"
      },
      "source": [
        "def is_prime(n):                                                                # Checks whether the argument n is a prime number. Uses a brute force search for factors between 1 and n.\n",
        "    if n>=1000000:                                                              # checks if x is greater than or equal to 1,000,000\n",
        "      print('Number too big.')                                                  # if True, print that number too big \n",
        "      return None                                                               # break loop if true\n",
        "    for j in range(2,n):                                                        # if False, then function searches through list of numbers 2,3,...,n-1.\n",
        "      if n%j == 0:                                                              # is n divisible by j?\n",
        "        print(\"{} is a factor of {}.\".format(j,n))\n",
        "        return False\n",
        "    return True"
      ],
      "execution_count": 56,
      "outputs": []
    },
    {
      "cell_type": "code",
      "metadata": {
        "colab": {
          "base_uri": "https://localhost:8080/"
        },
        "id": "FKpxWup3ix_9",
        "outputId": "db950ce3-d940-4264-ed27-7b11cdbace40"
      },
      "source": [
        "is_prime(999999)\r\n",
        "is_prime(1000000)"
      ],
      "execution_count": 57,
      "outputs": [
        {
          "output_type": "stream",
          "text": [
            "3 is a factor of 999999.\n",
            "Number too big.\n"
          ],
          "name": "stdout"
        }
      ]
    },
    {
      "cell_type": "markdown",
      "metadata": {
        "id": "kQpM9jTvi5LC"
      },
      "source": [
        "3. The function `thrarity` below takes an argument `n` and outputs the string `threeven` if `n` is a multiple of three, or `throdd` is `n` is one more than a multiple of three, or `thrugly` if `n` is one less than a multiple of three. Before the function determines remainder of the argument when divided by 3, it first checks whether the argument is a float or an integer. If a float, then it lets the user know that the argument is a float and aborts the program; if not, then it moves forward with finding the remainder of the argument when divided by 3. "
      ]
    },
    {
      "cell_type": "code",
      "metadata": {
        "id": "lEW89ikOP3cL"
      },
      "source": [
        "def tharity(n):                                                                 # domain is all the numbers\n",
        "  if type(n) == float:                                                          # if argument is a float, then abort, else continue forward\n",
        "    return print('Your argument, n = {}, is not an integer.'.format(n))\n",
        "  if n % 3 == 0:                                                                # if remainder after argument/3=0, then print threeven                              \n",
        "    return(\"threeven\")\n",
        "  elif n % 3 == 1:                                                              # if remainder after argument/3=1, then print throdd\n",
        "    return(\"throdd\")\n",
        "  else:\n",
        "    return(\"thrugly\")                                                           # if none of the above, then assume that remainder after argument/3=2 and print thrugly"
      ],
      "execution_count": 58,
      "outputs": []
    },
    {
      "cell_type": "code",
      "metadata": {
        "colab": {
          "base_uri": "https://localhost:8080/",
          "height": 0
        },
        "id": "iin7-v1GkpvY",
        "outputId": "8dc0b897-0030-4689-d619-3c49eab7cc97"
      },
      "source": [
        "tharity(30)"
      ],
      "execution_count": 59,
      "outputs": [
        {
          "output_type": "execute_result",
          "data": {
            "application/vnd.google.colaboratory.intrinsic+json": {
              "type": "string"
            },
            "text/plain": [
              "'threeven'"
            ]
          },
          "metadata": {
            "tags": []
          },
          "execution_count": 59
        }
      ]
    },
    {
      "cell_type": "code",
      "metadata": {
        "colab": {
          "base_uri": "https://localhost:8080/",
          "height": 0
        },
        "id": "-feBjCevi1sR",
        "outputId": "c574a198-0cf0-4b83-da88-d69da095c021"
      },
      "source": [
        "tharity(31)"
      ],
      "execution_count": 60,
      "outputs": [
        {
          "output_type": "execute_result",
          "data": {
            "application/vnd.google.colaboratory.intrinsic+json": {
              "type": "string"
            },
            "text/plain": [
              "'throdd'"
            ]
          },
          "metadata": {
            "tags": []
          },
          "execution_count": 60
        }
      ]
    },
    {
      "cell_type": "code",
      "metadata": {
        "colab": {
          "base_uri": "https://localhost:8080/",
          "height": 0
        },
        "id": "mBa6MDepjLXF",
        "outputId": "f43e50cd-f419-4ae3-d4e1-908ff0af72f1"
      },
      "source": [
        "tharity(44)"
      ],
      "execution_count": 61,
      "outputs": [
        {
          "output_type": "execute_result",
          "data": {
            "application/vnd.google.colaboratory.intrinsic+json": {
              "type": "string"
            },
            "text/plain": [
              "'thrugly'"
            ]
          },
          "metadata": {
            "tags": []
          },
          "execution_count": 61
        }
      ]
    },
    {
      "cell_type": "markdown",
      "metadata": {
        "id": "eelWSlbCkvt5"
      },
      "source": [
        "4. The function `sum_of_squares(n)` takes a natural number argument such that it finds and prints a pair of natural numbers  `x` ,  `y` , such that `n` can be expressed as the sums of two squares: `x^2+y^2=n`. If there is no pair, then the function returns `None`. Because we only want natural integer numbers, we first check whether the argument is a natural number. If it is, then the program continues to search through an iteration of numbers. If not, then the function lets the user know that the argument is not an integer and the program is aborted. \\\r\n",
        "After determining whether the argument is an integer or not, it then starts with the first `x` and searches through all of the `y` integers before moving on to the next value of `x` and searching through all of the `y` integers again until all of the `x` values have been searched. If the `x`, `y` pair satisfies the equation, then it prints a string. If not, then it returns `None.`  "
      ]
    },
    {
      "cell_type": "code",
      "metadata": {
        "id": "L2ehOxXTfmQQ"
      },
      "source": [
        "def sum_of_square(n):\r\n",
        "  if type(n) == float:                                                          # checks whether argument is an integer or float\r\n",
        "    return print('Your argument, n = {}, is not an integer.'.format(n))  \r\n",
        "  for x in range(1,n+1):                                                        # x range from 1 to n, n+1 is used to account for n also\r\n",
        "    for y in range(1,n+1):                                                      # y range from 1 to n, n+1 is used to account for n also\r\n",
        "      if n == x**2 + y**2:                                                      # if satisfies equation, then print string, else return None\r\n",
        "        print(\"For n={}, we have a pair of [{},{}] such that the pair satisfies the equation.\".format(n,x,y))\r\n",
        "  return None"
      ],
      "execution_count": 62,
      "outputs": []
    },
    {
      "cell_type": "code",
      "metadata": {
        "id": "zrv-84ilnbNb"
      },
      "source": [
        "sum_of_square(15)"
      ],
      "execution_count": 63,
      "outputs": []
    },
    {
      "cell_type": "code",
      "metadata": {
        "colab": {
          "base_uri": "https://localhost:8080/"
        },
        "id": "ta3ous6QnNYa",
        "outputId": "c89c8eb2-cd4d-4d07-f559-31c8d22e970e"
      },
      "source": [
        "sum_of_square(100)\r\n",
        "sum_of_square(500)\r\n",
        "sum_of_square(1000)"
      ],
      "execution_count": 64,
      "outputs": [
        {
          "output_type": "stream",
          "text": [
            "For n=100, we have a pair of [6,8] such that the pair satisfies the equation.\n",
            "For n=100, we have a pair of [8,6] such that the pair satisfies the equation.\n",
            "For n=500, we have a pair of [4,22] such that the pair satisfies the equation.\n",
            "For n=500, we have a pair of [10,20] such that the pair satisfies the equation.\n",
            "For n=500, we have a pair of [20,10] such that the pair satisfies the equation.\n",
            "For n=500, we have a pair of [22,4] such that the pair satisfies the equation.\n",
            "For n=1000, we have a pair of [10,30] such that the pair satisfies the equation.\n",
            "For n=1000, we have a pair of [18,26] such that the pair satisfies the equation.\n",
            "For n=1000, we have a pair of [26,18] such that the pair satisfies the equation.\n",
            "For n=1000, we have a pair of [30,10] such that the pair satisfies the equation.\n"
          ],
          "name": "stdout"
        }
      ]
    },
    {
      "cell_type": "markdown",
      "metadata": {
        "id": "Gb14bA2ioIi5"
      },
      "source": [
        "5. We know that the approximation error is the discrepancy between an exact value and some approximation to it. In our case, because we are looking at one particular function, we want to look at the current value of the function with a given input `n` and compare it with the previous value of the function with a given input `n-1`. The previous value of the function with an input of `n-1` can be seen as the \"approximation\" to the current value since technically, we could estimate the value of the current input `n` with the previous input `n-1`. The value at input `n` and the value at input `n-1` should be the same to indicate that the limit is beginning to converge and to become precise within 5 digits (or decimal). \\\r\n",
        "As the error becomes smaller and smaller, we can see that the function is getting so fairly close to that value that eventually the error reaches `0`. The purpose of the error is meant for us to see if the limit exists. Ultimately, once the error is so small that it reaches to 0, then we could for certain say that the function converges to sopme value as the input approaches to infinity. \\\r\n",
        "In this case, we would compare the gamma value of our current `n` with the gamma value of our previous `n` or `n-1` to see where the function is converging to. Firstly, we notice that `n` needs to be `n = 52393` in order to achieve a five digit precision on this limit because from this input of `n` and beyond, the gamma function begins to stabilize at `0.57722`, even though the function continues to stabilize with a small error value. Once we reach `n=100000000`,however, we then have an error of `0.0`, which indicates that the function completely stabilizes at `0.57722` with an extremely small to no amount of error, proving that the limit of gamma(n) as `n` approaches to infinity exists. "
      ]
    },
    {
      "cell_type": "code",
      "metadata": {
        "id": "JI5KARWLfFGG"
      },
      "source": [
        "from numpy import log                                                           # import log from numpy library\r\n",
        "from mpmath import mp                                                           # import mp from mpmath library \r\n",
        "import mpmath                                                                   # import full mpmath library \r\n",
        "mp.dps = 5                                                                      # change decimal precision to 5\r\n",
        "\r\n",
        "def harm(n):                                                                    # calculates harmonic sum \r\n",
        "                       \r\n",
        "  if n < 0:                                                                     # checks if argument is negative, if negative, then raise ValueError and abort \r\n",
        "    print('Number is negative. Number needs to be positive.')\r\n",
        "  s = 0                                                                         # start base at s=0\r\n",
        "  for j in range(1,n+1):                                                        # iterates through range from 1 to argument \r\n",
        "    s += 1/j                                                                    # computes harmonic sum\r\n",
        "  return s                                                                      # return sum when done\r\n",
        "\r\n",
        "def gamma(n):                                                                   # computes gamma at n \r\n",
        "  gam_n_1 = harm(n-1) - log(n-1)                                                # gamma at n-1 to compute for error \r\n",
        "  gam_n = harm(n) - log(n)                                                      # equation to compute for gamma at n \r\n",
        "  precision = abs(gam_n - gam_n_1)                                              # gamma(n)-gamma(n-1) to compute for precision/error\r\n",
        "  return print('At n = {}, gamma({}) = {}, with an error of {}.'.format(n,n,mpmath.mpf(gam_n),mpmath.mpf(precision)))"
      ],
      "execution_count": 65,
      "outputs": []
    },
    {
      "cell_type": "code",
      "metadata": {
        "colab": {
          "base_uri": "https://localhost:8080/"
        },
        "id": "qQwo9Y457-Tz",
        "outputId": "6355d490-2266-42f3-981e-63d0af3626c6"
      },
      "source": [
        "gamma(10)\r\n",
        "gamma(100)\r\n",
        "gamma(1000)\r\n",
        "gamma(10000)\r\n",
        "gamma(50000)\r\n",
        "gamma(52393)                                      # exact n such that gamma(n) begins to stabilize at 0.57722"
      ],
      "execution_count": 66,
      "outputs": [
        {
          "output_type": "stream",
          "text": [
            "At n = 10, gamma(10) = 0.62638, with an error of 0.0053605.\n",
            "At n = 100, gamma(100) = 0.58221, with an error of 5.0336e-5.\n",
            "At n = 1000, gamma(1000) = 0.57772, with an error of 5.0033e-7.\n",
            "At n = 10000, gamma(10000) = 0.57727, with an error of 5.0003e-9.\n",
            "At n = 50000, gamma(50000) = 0.57723, with an error of 2.0e-10.\n",
            "At n = 52393, gamma(52393) = 0.57722, with an error of 1.8215e-10.\n"
          ],
          "name": "stdout"
        }
      ]
    },
    {
      "cell_type": "code",
      "metadata": {
        "colab": {
          "base_uri": "https://localhost:8080/"
        },
        "id": "G_HLI1OzZrO5",
        "outputId": "732d7b2c-197d-43b6-bf9e-98c85f4924a7"
      },
      "source": [
        "gamma(100000)                                     # additional proof that limit of gamma(n) as n approach infinity is 0.57722 bc error is extremely small \r\n",
        "gamma(1000000)                                    # additional proof that limit of gamma(n) as n approach infinity is 0.57722 bc error is extremely small \r\n",
        "gamma(10000000)                                   # additional proof that limit of gamma(n) as n approach infinity is 0.57722 bc error is extremely small  \r\n",
        "gamma(100000000)                                  # proof that limit of gamma(n) as n approach infinity is 0.57722 bc error is pretty much at 0"
      ],
      "execution_count": 67,
      "outputs": [
        {
          "output_type": "stream",
          "text": [
            "At n = 100000, gamma(100000) = 0.57722, with an error of 5.0001e-11.\n",
            "At n = 1000000, gamma(1000000) = 0.57722, with an error of 5.0093e-13.\n",
            "At n = 10000000, gamma(10000000) = 0.57722, with an error of 3.5527e-15.\n",
            "At n = 100000000, gamma(100000000) = 0.57722, with an error of 0.0.\n"
          ],
          "name": "stdout"
        }
      ]
    },
    {
      "cell_type": "markdown",
      "metadata": {
        "id": "un9NuAj9P3cL"
      },
      "source": [
        "## Handling errors by raising exceptions.\n",
        "\n",
        "In the previous batch of exercises, we tried to modify functions to be a bit more intelligent -- identifying when numbers were \"too big\" for example.  There's a professional way to handle these situations, by raising *exceptions*.  Here is the [official documentation on errors and exceptions](https://docs.python.org/3/tutorial/errors.html).  We will focus on raising exceptions to catch \"bad inputs\" to functions.  Let's revisit our `is_even` function."
      ]
    },
    {
      "cell_type": "code",
      "metadata": {
        "id": "P2MBaggxP3cM"
      },
      "source": [
        "def is_even(n):\n",
        "    return (n%2 == 0)"
      ],
      "execution_count": 68,
      "outputs": []
    },
    {
      "cell_type": "code",
      "metadata": {
        "colab": {
          "base_uri": "https://localhost:8080/"
        },
        "id": "i-qcK9BWP3cM",
        "outputId": "5e41a8dd-415c-4ff1-9088-cae03b5d07a0"
      },
      "source": [
        "is_even(3.14)  # What will this do?"
      ],
      "execution_count": 69,
      "outputs": [
        {
          "output_type": "execute_result",
          "data": {
            "text/plain": [
              "False"
            ]
          },
          "metadata": {
            "tags": []
          },
          "execution_count": 69
        }
      ]
    },
    {
      "cell_type": "code",
      "metadata": {
        "colab": {
          "base_uri": "https://localhost:8080/"
        },
        "id": "P-v2G1K3P3cM",
        "outputId": "3a720b5a-66d4-45d1-a322-cb11973aecfb"
      },
      "source": [
        "3.14%2  # Well, this explains it!"
      ],
      "execution_count": 70,
      "outputs": [
        {
          "output_type": "execute_result",
          "data": {
            "text/plain": [
              "1.1400000000000001"
            ]
          },
          "metadata": {
            "tags": []
          },
          "execution_count": 70
        }
      ]
    },
    {
      "cell_type": "markdown",
      "metadata": {
        "id": "dMLynioUP3cM"
      },
      "source": [
        "Although the output of `is_even(3.14)` might be what you want, a smarter function might let the user know that 3.14 should not be input into `is_even`.  We commonly ask whether *integers* are even or odd; if a non-integer ends up input to `is_even`, it might be a sign of a bug elsewhere.  One possibility is to modify the function by manually printing an error message."
      ]
    },
    {
      "cell_type": "code",
      "metadata": {
        "id": "QG9ofQITP3cM"
      },
      "source": [
        "def is_even(n):\n",
        "    if type(n) == int:\n",
        "        return (n%2 == 0)\n",
        "    else:\n",
        "        print(\"Bad input!  Please input integers only.\")\n",
        "        return None"
      ],
      "execution_count": 71,
      "outputs": []
    },
    {
      "cell_type": "code",
      "metadata": {
        "colab": {
          "base_uri": "https://localhost:8080/"
        },
        "id": "EuxVzCztP3cM",
        "outputId": "ae84cad9-eac0-4244-df05-8a2dab94f887"
      },
      "source": [
        "is_even(4)"
      ],
      "execution_count": 72,
      "outputs": [
        {
          "output_type": "execute_result",
          "data": {
            "text/plain": [
              "True"
            ]
          },
          "metadata": {
            "tags": []
          },
          "execution_count": 72
        }
      ]
    },
    {
      "cell_type": "code",
      "metadata": {
        "colab": {
          "base_uri": "https://localhost:8080/"
        },
        "id": "_Z8c2a-JP3cN",
        "outputId": "f4093462-fb08-4dc5-e7e9-e5046acff6a8"
      },
      "source": [
        "is_even(3.14)"
      ],
      "execution_count": 73,
      "outputs": [
        {
          "output_type": "stream",
          "text": [
            "Bad input!  Please input integers only.\n"
          ],
          "name": "stdout"
        }
      ]
    },
    {
      "cell_type": "code",
      "metadata": {
        "colab": {
          "base_uri": "https://localhost:8080/"
        },
        "id": "3M3mG1rNP3cN",
        "outputId": "32edea9a-49f8-4bfb-bc7c-435079a1be44"
      },
      "source": [
        "print(is_even(3.14))"
      ],
      "execution_count": 74,
      "outputs": [
        {
          "output_type": "stream",
          "text": [
            "Bad input!  Please input integers only.\n",
            "None\n"
          ],
          "name": "stdout"
        }
      ]
    },
    {
      "cell_type": "markdown",
      "metadata": {
        "id": "9BXTFNKCP3cN"
      },
      "source": [
        "This behavior is a bit better.  The output of the function is neither True nor False, when a non-integer is input.  Instead, the smarter function outputs `None`, which is exactly what it sounds like."
      ]
    },
    {
      "cell_type": "code",
      "metadata": {
        "colab": {
          "base_uri": "https://localhost:8080/"
        },
        "id": "kPvcDzu0P3cN",
        "outputId": "55c2b904-bd55-430a-bf70-660b8d08babf"
      },
      "source": [
        "type(None) # A zen command."
      ],
      "execution_count": 75,
      "outputs": [
        {
          "output_type": "execute_result",
          "data": {
            "text/plain": [
              "NoneType"
            ]
          },
          "metadata": {
            "tags": []
          },
          "execution_count": 75
        }
      ]
    },
    {
      "cell_type": "markdown",
      "metadata": {
        "id": "R5_01fmxP3cN"
      },
      "source": [
        "Instead of manually using a print command and returning None, we can use Python's built-in `exception` class.  Raising exceptions is the Pythonic way of catching errors, and this will make things smoother in the long term.  Here's a new and safe `is_even` function."
      ]
    },
    {
      "cell_type": "code",
      "metadata": {
        "id": "Ak4Z3eECP3cN"
      },
      "source": [
        "def is_even(n):\n",
        "    if type(n) == int:\n",
        "        return (n%2 == 0)\n",
        "    else:\n",
        "        raise TypeError('Only integers can be even or odd.')"
      ],
      "execution_count": 76,
      "outputs": []
    },
    {
      "cell_type": "code",
      "metadata": {
        "colab": {
          "base_uri": "https://localhost:8080/"
        },
        "id": "2Y0gx0teP3cO",
        "outputId": "4ae84a24-3116-4dbb-d296-da712ad13837"
      },
      "source": [
        "is_even(3)"
      ],
      "execution_count": 77,
      "outputs": [
        {
          "output_type": "execute_result",
          "data": {
            "text/plain": [
              "False"
            ]
          },
          "metadata": {
            "tags": []
          },
          "execution_count": 77
        }
      ]
    },
    {
      "cell_type": "code",
      "metadata": {
        "colab": {
          "base_uri": "https://localhost:8080/",
          "height": 248
        },
        "id": "65N42UZBP3cO",
        "outputId": "7a7944ab-d20a-480e-fdb0-5934922bc2e0"
      },
      "source": [
        "is_even(3.14)"
      ],
      "execution_count": 78,
      "outputs": [
        {
          "output_type": "error",
          "ename": "TypeError",
          "evalue": "ignored",
          "traceback": [
            "\u001b[0;31m---------------------------------------------------------------------------\u001b[0m",
            "\u001b[0;31mTypeError\u001b[0m                                 Traceback (most recent call last)",
            "\u001b[0;32m<ipython-input-78-24ec50760f46>\u001b[0m in \u001b[0;36m<module>\u001b[0;34m()\u001b[0m\n\u001b[0;32m----> 1\u001b[0;31m \u001b[0mis_even\u001b[0m\u001b[0;34m(\u001b[0m\u001b[0;36m3.14\u001b[0m\u001b[0;34m)\u001b[0m\u001b[0;34m\u001b[0m\u001b[0;34m\u001b[0m\u001b[0m\n\u001b[0m",
            "\u001b[0;32m<ipython-input-76-965faba9098f>\u001b[0m in \u001b[0;36mis_even\u001b[0;34m(n)\u001b[0m\n\u001b[1;32m      3\u001b[0m         \u001b[0;32mreturn\u001b[0m \u001b[0;34m(\u001b[0m\u001b[0mn\u001b[0m\u001b[0;34m%\u001b[0m\u001b[0;36m2\u001b[0m \u001b[0;34m==\u001b[0m \u001b[0;36m0\u001b[0m\u001b[0;34m)\u001b[0m\u001b[0;34m\u001b[0m\u001b[0;34m\u001b[0m\u001b[0m\n\u001b[1;32m      4\u001b[0m     \u001b[0;32melse\u001b[0m\u001b[0;34m:\u001b[0m\u001b[0;34m\u001b[0m\u001b[0;34m\u001b[0m\u001b[0m\n\u001b[0;32m----> 5\u001b[0;31m         \u001b[0;32mraise\u001b[0m \u001b[0mTypeError\u001b[0m\u001b[0;34m(\u001b[0m\u001b[0;34m'Only integers can be even or odd.'\u001b[0m\u001b[0;34m)\u001b[0m\u001b[0;34m\u001b[0m\u001b[0;34m\u001b[0m\u001b[0m\n\u001b[0m",
            "\u001b[0;31mTypeError\u001b[0m: Only integers can be even or odd."
          ]
        }
      ]
    },
    {
      "cell_type": "markdown",
      "metadata": {
        "id": "4VSoldJqP3cO"
      },
      "source": [
        "Instead of manually printing the error message and returning `None`, we have raised a `TypeError`.  This gives information about the kind of error, and a custom error message is displayed at the end.  Type errors are meant for situations where a variable belongs to the wrong type.  `TypeError` is just one kind of \"exception\" -- the full built-in hierarchy of exceptions can be found in the [official Python documentation](https://docs.python.org/3/library/exceptions.html#exception-hierarchy).\n",
        "\n",
        "Another kind of exception is the `ValueError`.  It seems similar to `TypeError` at first, but `ValueError` is meant to catch an input that has a \"bad\" value, even if it is the right type.  For example, here is a square root function that only works with positive input.  It should raise an exception (error message) when a negative number is input.  Both positive and negative numbers can be represented as floats, so the error doesn't represent the *wrong type*.  The error represents a *bad value*.  "
      ]
    },
    {
      "cell_type": "code",
      "metadata": {
        "id": "MAoyT_PcP3cO"
      },
      "source": [
        "def sqrt(x):\n",
        "    '''\n",
        "    Estimates the square root of a positive number x.\n",
        "    '''\n",
        "    if x < 0:\n",
        "        raise ValueError('Cannot approximate square root of negative numbers.')\n",
        "    guess= x/2 # A decent place to start\n",
        "    while True: # A dangerous loop!  See next section...\n",
        "        new_guess = 0.5 * (guess + x/guess)\n",
        "        if abs(new_guess - guess) < .000000001: # close enough!\n",
        "            return new_guess\n",
        "        guess = new_guess"
      ],
      "execution_count": null,
      "outputs": []
    },
    {
      "cell_type": "code",
      "metadata": {
        "id": "ln6at9v1P3cO"
      },
      "source": [
        "sqrt(3) # This should be ok."
      ],
      "execution_count": null,
      "outputs": []
    },
    {
      "cell_type": "code",
      "metadata": {
        "id": "urPuO2GqP3cO",
        "scrolled": true
      },
      "source": [
        "sqrt(-3)"
      ],
      "execution_count": null,
      "outputs": []
    },
    {
      "cell_type": "markdown",
      "metadata": {
        "id": "M_TyiFL2P3cO"
      },
      "source": [
        "By raising the `ValueError`, we have avoided an endless loop... the sort of problem that crashes computers!  If you know that your function is only meant for certain kinds of inputs, it is best to catch errors by raising exceptions."
      ]
    },
    {
      "cell_type": "markdown",
      "metadata": {
        "id": "5jBP6TdgP3cP"
      },
      "source": [
        "###Exercises\n",
        "\n",
        "1.  There's a special exception called `ZeroDivisionError`.  When do you think this occurs?  Try to make it occur!  Can you think of a time when you might want to raise this exception yourself?\n",
        "\n",
        "2.  Make the `is_prime` function safer by raising a `TypeError` or a `ValueError` when a \"bad\" input occurs."
      ]
    },
    {
      "cell_type": "markdown",
      "metadata": {
        "id": "OLCrM2tNq8S-"
      },
      "source": [
        "### Solutions"
      ]
    },
    {
      "cell_type": "markdown",
      "metadata": {
        "id": "typeD8YNq-8U"
      },
      "source": [
        "\r\n",
        "\r\n",
        "1.   `ZeroDivisionError` occurs when a number is divided by a zero. Usually, when a number is divided by a zero, the result is an infinite number, but because we cannot represent an infinite number in Python, it ends up emitting the exception when it occurs. \\\r\n",
        "In one of the previous exercises, we were required to create a script that adds up `n` amount of fractions to approximate Euler's constant, `pi`, and the square root of a number. In some of those cases, most of our ranges started at 1 so that we could avoid the `ZeroDivisionError` since we did not want our script to be dividing zeros. Suppose now with our knowledge of exceptions, in the case where we were to implement division between two numbers, we could now implement this `ZeroDivisionError` exception so that it alerts the user if the script ends up dividing by zero, as shown in the example below: \r\n"
      ]
    },
    {
      "cell_type": "code",
      "metadata": {
        "id": "4-j2jyEczq8M"
      },
      "source": [
        "def div_zero():\r\n",
        "  x = float(input('What is the value of your numerator? '))                     # asks user to input numerator, which then converts to float \r\n",
        "  y = float(input('What is the value of your denominator? '))                   # asks user to input denominator, which then converts to float \r\n",
        "  if y == 0:                                                                    # if divided by 0, then raise ZeroDivisionError \r\n",
        "    raise ZeroDivisionError('Cannot be divided by a zero.')\r\n",
        "  else:                                                                         # if y != 0, then print z, which is x/y\r\n",
        "    z = x / y\r\n",
        "    return(print(z))\r\n",
        "\r\n",
        "div_zero()"
      ],
      "execution_count": null,
      "outputs": []
    },
    {
      "cell_type": "markdown",
      "metadata": {
        "id": "kF4r631228HK"
      },
      "source": [
        "Most of the time we do not need to raise the exception ourselves because the script will automatically detect if for some reason it detects that we are dividing by a zero without actually writing out any `if` or `raise` statements. Thus, in the following script, if the user decides to input a zero as their denominator, the script will alert the user with the `ZeroDivisionError` exception without physically implement in our function. \r\n"
      ]
    },
    {
      "cell_type": "code",
      "metadata": {
        "id": "a7ZX9n_L29AV"
      },
      "source": [
        "def div_zero():\r\n",
        "  x = float(input('What is the value of your numerator? '))                     # asks user to input numerator, which then converts to float \r\n",
        "  y = float(input('What is the value of your denominator? '))                   # asks user to input denominator, which then converts to float\r\n",
        "  z = x / y                                                                     # z is quotient of x and y\r\n",
        "  return(print(z))\r\n",
        "\r\n",
        "div_zero()"
      ],
      "execution_count": null,
      "outputs": []
    },
    {
      "cell_type": "markdown",
      "metadata": {
        "id": "Li6GE5AA3QJn"
      },
      "source": [
        "But what happens when we want to raise this exception ourselves? The only time we would want to raise this exception ourselves is if (1) we want to change the error message word to our liking, or (2) if we are dealing with a division problem such that the denominator is an expression with possible zeros. If this case does arise, there could be a situation where after we solve the expression of the denominator, the value can end up being 0. This could be a problem because Python may not recognize that this division problem has a denominator of zero, which is not good because we do not want anything to be divisible by zero. Thus, we would want to raise the exception so that the script could catch this problem if it arises. Suppose we are given the equation: \r\n",
        "$$ f(x) = \\frac{x + 2}{x^2 - 4} = 0. $$\r\n",
        "\r\n",
        "If we were to solve for `x`, we would get `x=2`:\r\n",
        "$$ \\frac{1}{x - 2} = 0 $$\r\n",
        "$$ x - 2 = 0 \\rightarrow x = 2 $$\r\n",
        "\r\n",
        "But `f(2)` is not defined because we would end up dividing `4` by `0`:\r\n",
        "\r\n",
        "$$ f(2) = \\frac{2 + 2}{2^2 - 4} = \\frac{4}{4-4} = \\frac{4}{0}. $$\r\n",
        "\r\n",
        "While we could physically catch this error in our notes, Python may not be able to catch it this problem, so it could end up giving us the wrong solution and something that we may not be looking for. Therefore, this would be a good time to raise our own `ZeroDivisionError` exception. Python may not handle this error every time we do division, so it does require us to raise the `ZeroDivisionError` exception from time to time.  "
      ]
    },
    {
      "cell_type": "markdown",
      "metadata": {
        "id": "gmb-1lNXvEUT"
      },
      "source": [
        "2.   Using the given `is_prime` function, we want to raise a `ValueError` exception when the argument is greater than or equal to `1000000` and raise a `TypeError` exception when the argument is a float. It first checks whether the argument is greater than or equal to `1000000` before checking if the argument is an integer. If it managed to pass both conditions, then the function will determine whether the argument is prime or not. "
      ]
    },
    {
      "cell_type": "code",
      "metadata": {
        "id": "gI5_NewrrEfD"
      },
      "source": [
        " def is_prime(n):                                                               # Checks whether the argument n is a prime number. Uses a brute force search for factors between 1 and n.\r\n",
        "    if n >= 1000000:                                                            # if argument greater or equal to 1000000, then raise ValueError for not being under 1000000\r\n",
        "      raise ValueError('Number too big.')  \r\n",
        "    if type(n) == int:                                                          # check if argument is int                        \r\n",
        "      for j in range(2,n):                                                      # if yes, then iterate through the list of numbers 2,3,...,n-1.\r\n",
        "        if n%j == 0:                                                            # is n divisible by j?\r\n",
        "            print(\"{} is a factor of {}.\".format(j,n))\r\n",
        "            return False\r\n",
        "      return True\r\n",
        "    else:                                                                       # if no, then raise TypeError for not being an int\r\n",
        "      raise TypeError('Only integers can be even or odd.')"
      ],
      "execution_count": null,
      "outputs": []
    },
    {
      "cell_type": "code",
      "metadata": {
        "id": "-MoAmAU-y6qh"
      },
      "source": [
        "is_prime(999999)"
      ],
      "execution_count": null,
      "outputs": []
    },
    {
      "cell_type": "code",
      "metadata": {
        "id": "0GKIoL9ky9d8"
      },
      "source": [
        "is_prime(1000000)"
      ],
      "execution_count": null,
      "outputs": []
    },
    {
      "cell_type": "code",
      "metadata": {
        "id": "dmk_b914y-bR"
      },
      "source": [
        "is_prime(1.0)"
      ],
      "execution_count": null,
      "outputs": []
    },
    {
      "cell_type": "markdown",
      "metadata": {
        "id": "oQEtapwZP3cP"
      },
      "source": [
        "## While loops and implementation of the Eucidean algorithm"
      ]
    },
    {
      "cell_type": "markdown",
      "metadata": {
        "id": "M6ePAr5cP3cP"
      },
      "source": [
        "We *almost* have all the tools we need to implement the Euclidean algorithm.  The last tool we will need is the **while loop**.  We have seen the *for loop* already, which is very useful for iterating over a range of numbers.  The Euclidean algorithm involves repetition, but there is no way to know in advance how many steps it will take.  The while loop allows us to repeat a process as long as a boolean value (sometimes called a **flag**) is True.  The following countdown example illustrates the structure of a while loop."
      ]
    },
    {
      "cell_type": "code",
      "metadata": {
        "id": "2lOhZ0G4P3cP"
      },
      "source": [
        "def countdown(n):\n",
        "    current_value = n\n",
        "    while current_value > 0:  # The condition (current_value > 0) is checked before every instance of the scope!\n",
        "        print(current_value)\n",
        "        current_value = current_value - 1\n",
        "    print(\"Blastoff!\")"
      ],
      "execution_count": null,
      "outputs": []
    },
    {
      "cell_type": "code",
      "metadata": {
        "id": "yGawqlQZP3cQ",
        "colab": {
          "base_uri": "https://localhost:8080/"
        },
        "outputId": "96c02e33-7a2e-445b-9a7d-2ce6a42e7004"
      },
      "source": [
        "countdown(10)"
      ],
      "execution_count": null,
      "outputs": [
        {
          "output_type": "stream",
          "text": [
            "10\n",
            "9\n",
            "8\n",
            "7\n",
            "6\n",
            "5\n",
            "4\n",
            "3\n",
            "2\n",
            "1\n",
            "Blastoff!\n"
          ],
          "name": "stdout"
        }
      ]
    },
    {
      "cell_type": "markdown",
      "metadata": {
        "id": "G3OOERdeP3cQ"
      },
      "source": [
        "The while loop syntax begins with `while <boolean>:` and the following indented lines comprise the scope of the loop.  If the boolean is `True`, then the scope of the loop is executed.  If the boolean is `True` again afterwards, then the scope of the loop is executed again.  And again and again and so on.\n",
        "\n",
        "This can be a **dangerous process**!  For example, what would happen if you made a little typo and the last line of the while loop read `current_value = current_value + 1`?  The numbers would increase and increase... and the boolean `current_value > 0` would **always** be `True`.  Therefore the loop would never end.  Bigger and bigger numbers would scroll down your computer screen.  \n",
        "\n",
        "You might panic under such a circumstance, and maybe turn your computer off to stop the loop.  Here is some advice for when your computer gets stuck in such a neverending loop:\n",
        "\n",
        "1.  Back up your work often.  When you're programming, make sure everything else is saved just in case.\n",
        "2.  Save your programming work (use \"Save and checkpoint\" under the \"File\" menu) often, especially before running a cell with a loop for the first time.\n",
        "3.  If you *do* get stuck in a neverending loop, click on \"Kernel... Interrupt\".  This will often unstick the loop and allow you to pick up where you left off.  \n",
        "4.  On a Mac, you might try a \"Force Quit\" of the Python process, using the Activity Manager.\n",
        "\n",
        "Now, if you're feeling brave, save your work, change the while loop so that it never ends, and try to recover where you left off.  But be aware that this could cause your computer to freeze or behave erratically, crashing your browser, etc.  Don't panic... it probably won't break your computer permanently.\n",
        "\n",
        "The neverending loop causes two problems here.  One is with your computer processor, which will be essentially spinning its wheels.  This is called [busy waiting](https://en.wikipedia.org/wiki/Busy_waiting), and your computer will essentially be busy waiting forever.  The other problem is that your loop is printing more and more lines of text into the notebook.  This could easily crash your web browser, which is trying to store and display zillions of lines of numbers.  So be ready for problems!  "
      ]
    },
    {
      "cell_type": "markdown",
      "metadata": {
        "id": "rehCmjTlP3cQ"
      },
      "source": [
        "### The Euclidean algorithm with a while loop"
      ]
    },
    {
      "cell_type": "markdown",
      "metadata": {
        "collapsed": true,
        "id": "N9ysMsA8P3cQ"
      },
      "source": [
        "The **Euclidean Algorithm** is a process of repeated division with remainder.  Beginning with two integers `a` (dividend) and `b` (divisor), one computes quotient `q` and remainder `q` to express `a = qb + r`.  Then `b` becomes the dividend and `r` becomes the divisor, and one repeats.  The repetition continues, and the **last nonzero** remainder is the greatest common divisor of `a` and `b`."
      ]
    },
    {
      "cell_type": "markdown",
      "metadata": {
        "id": "V4miDf8GP3cQ"
      },
      "source": [
        "We implement the Euclidean algorithm in a few variations.  The first will be a verbose version, to show the user what happens at every step.  We use a while loop to take care of the repetition."
      ]
    },
    {
      "cell_type": "code",
      "metadata": {
        "id": "AEWhDsZdP3cQ"
      },
      "source": [
        "def Euclidean_algorithm(a,b):\n",
        "    dividend = a\n",
        "    divisor = b\n",
        "    while divisor != 0:   # Recall that != means \"is not equal to\".\n",
        "        quotient = dividend // divisor\n",
        "        remainder = dividend % divisor\n",
        "        print(\"{} = {} ({}) + {}\".format(dividend, quotient, divisor, remainder))\n",
        "        dividend = divisor  \n",
        "        divisor = remainder"
      ],
      "execution_count": null,
      "outputs": []
    },
    {
      "cell_type": "code",
      "metadata": {
        "colab": {
          "base_uri": "https://localhost:8080/"
        },
        "id": "UezeTFdKP3cR",
        "outputId": "1250d1ff-a4ff-48be-cd80-01c3282fcd48"
      },
      "source": [
        "Euclidean_algorithm(133, 58)"
      ],
      "execution_count": null,
      "outputs": [
        {
          "output_type": "stream",
          "text": [
            "133 = 2 (58) + 17\n",
            "58 = 3 (17) + 7\n",
            "17 = 2 (7) + 3\n",
            "7 = 2 (3) + 1\n",
            "3 = 3 (1) + 0\n"
          ],
          "name": "stdout"
        }
      ]
    },
    {
      "cell_type": "code",
      "metadata": {
        "colab": {
          "base_uri": "https://localhost:8080/"
        },
        "id": "p1hI9p1LP3cR",
        "outputId": "51b2a020-a598-453f-a8ab-358639170076"
      },
      "source": [
        "Euclidean_algorithm(1312331323, 58123123)"
      ],
      "execution_count": null,
      "outputs": [
        {
          "output_type": "stream",
          "text": [
            "1312331323 = 22 (58123123) + 33622617\n",
            "58123123 = 1 (33622617) + 24500506\n",
            "33622617 = 1 (24500506) + 9122111\n",
            "24500506 = 2 (9122111) + 6256284\n",
            "9122111 = 1 (6256284) + 2865827\n",
            "6256284 = 2 (2865827) + 524630\n",
            "2865827 = 5 (524630) + 242677\n",
            "524630 = 2 (242677) + 39276\n",
            "242677 = 6 (39276) + 7021\n",
            "39276 = 5 (7021) + 4171\n",
            "7021 = 1 (4171) + 2850\n",
            "4171 = 1 (2850) + 1321\n",
            "2850 = 2 (1321) + 208\n",
            "1321 = 6 (208) + 73\n",
            "208 = 2 (73) + 62\n",
            "73 = 1 (62) + 11\n",
            "62 = 5 (11) + 7\n",
            "11 = 1 (7) + 4\n",
            "7 = 1 (4) + 3\n",
            "4 = 1 (3) + 1\n",
            "3 = 3 (1) + 0\n"
          ],
          "name": "stdout"
        }
      ]
    },
    {
      "cell_type": "markdown",
      "metadata": {
        "id": "HSL6lGv2P3cR"
      },
      "source": [
        "This is excellent if we want to know every step of the Euclidean algorithm.  If we just want to know the GCD of two numbers, we can be less verbose.  We carefully return the last nonzero remainder after the while loop is concluded.  This last nonzero remainder becomes the divisor when the remainder becomes zero, and then it would become the dividend in the next (unprinted) line.  That is why we return the (absolute value) of the dividend after the loop is concluded.  You might insert a line at the end of the loop, like `print(dividend, divisor, remainder)` to help you track the variables."
      ]
    },
    {
      "cell_type": "code",
      "metadata": {
        "id": "ej0mQxUZP3cR"
      },
      "source": [
        "def GCD(a,b):\n",
        "    dividend = a # The first dividend is a.\n",
        "    divisor = b # The first divisor is b.\n",
        "    while divisor != 0:   # Recall that != means \"not equal to\".\n",
        "        quotient = dividend // divisor\n",
        "        remainder = dividend % divisor\n",
        "        dividend = divisor  \n",
        "        divisor = remainder\n",
        "    return abs(dividend)  #  abs() is used, since we like our GCDs to be positive."
      ],
      "execution_count": null,
      "outputs": []
    },
    {
      "cell_type": "markdown",
      "metadata": {
        "id": "YcECuVDTP3cR"
      },
      "source": [
        "Note that the `return dividend` statement occurs *after* the scope of the while loop.  So as soon as the *divisor* variable equals zero, the funtion `GCD` returns the *dividend* variable and terminates."
      ]
    },
    {
      "cell_type": "code",
      "metadata": {
        "id": "gftBYeZyP3cR"
      },
      "source": [
        "GCD(111,27)"
      ],
      "execution_count": null,
      "outputs": []
    },
    {
      "cell_type": "code",
      "metadata": {
        "id": "Ue4KmOY0P3cS"
      },
      "source": [
        "GCD(111,-27)"
      ],
      "execution_count": null,
      "outputs": []
    },
    {
      "cell_type": "markdown",
      "metadata": {
        "id": "U29DNr1rP3cS"
      },
      "source": [
        "We can refine our code in a few ways.  First, note that the `quotient` variable is never used!  It was nice in the verbose version of the Euclidean algorithm, but plays no role in finding the GCD.  Our refined code reads\n",
        "```python\n",
        "def GCD(a,b):\n",
        "    dividend = a  \n",
        "    divisor = b  \n",
        "    while divisor != 0:   # Recall that != means \"not equal to\".\n",
        "        remainder = dividend % divisor\n",
        "        dividend = divisor  \n",
        "        divisor = remainder\n",
        "    return abs(dividend) \n",
        "```"
      ]
    },
    {
      "cell_type": "markdown",
      "metadata": {
        "id": "HZJcqWomP3cS"
      },
      "source": [
        "Now there are two slick Python tricks we can use to shorten the code.  The first is called **multiple assignment**.  It is possible to set the values of two variables in a single line of code, with a syntax like below."
      ]
    },
    {
      "cell_type": "code",
      "metadata": {
        "id": "HDM7IvusP3cS"
      },
      "source": [
        "x,y = 2,3  # Sets x to 2 and y to 3."
      ],
      "execution_count": null,
      "outputs": []
    },
    {
      "cell_type": "markdown",
      "metadata": {
        "id": "AOzN-VFfP3cS"
      },
      "source": [
        "This is particular useful for self-referential assignments, because as for ordinary assignment, the right side is evaluated first and then bound to the variables on the left side.  For example, after the line above, try the line below.  Use print statements to see what the values of the variables are afterwards!"
      ]
    },
    {
      "cell_type": "code",
      "metadata": {
        "id": "LVgbMRNXP3cS"
      },
      "source": [
        "x,y = y,x #  Guess what this does!"
      ],
      "execution_count": null,
      "outputs": []
    },
    {
      "cell_type": "code",
      "metadata": {
        "id": "rcrSHJ0SP3cT"
      },
      "source": [
        "print(\"x =\",x) # One could use \"x = {}\".format(x) too.\n",
        "print(\"y =\",y)"
      ],
      "execution_count": null,
      "outputs": []
    },
    {
      "cell_type": "markdown",
      "metadata": {
        "id": "RzRq_sJmP3cT"
      },
      "source": [
        "Now we can use multiple assignment to turn three lines of code into one line of code.  For the `remainder` variable is only used temporarily before its value is given to the `divisor` variable.  Using multiple assignment, the three lines\n",
        "```python\n",
        "    remainder = dividend % divisor\n",
        "    dividend = divisor  \n",
        "    divisor = remainder\n",
        "```\n",
        "can be written in one line,\n",
        "```python\n",
        "    dividend, divisor = divisor, dividend % divisor # Evaluations on the right occur before any assignments!\n",
        "```"
      ]
    },
    {
      "cell_type": "markdown",
      "metadata": {
        "id": "Ce3FAe9gP3cT"
      },
      "source": [
        "Our newly shortened GCD function looks like this.\n",
        "```python\n",
        "def GCD(a,b):\n",
        "    dividend = a  \n",
        "    divisor = b  \n",
        "    while divisor != 0:   # Recall that != means \"not equal to\".\n",
        "        dividend, divisor = divisor, dividend % divisor\n",
        "    return abs(dividend)\n",
        "```"
      ]
    },
    {
      "cell_type": "markdown",
      "metadata": {
        "id": "n-foyqFZP3cT"
      },
      "source": [
        "The next trick involves the while loop.  The usual syntax has the form `while <boolean>:`.  But if `while` is followed by a numerical type, e.g. `while <int>:`, then the scope of the while loop will execute as long as the number is nonzero!  Therefore, the line\n",
        "```python\n",
        "while divisor != 0:\n",
        "```\n",
        "can be replaced by the shorter line\n",
        "```python\n",
        "while divisor:\n",
        "```\n",
        "\n",
        "This is truly a trick.  It probably won't speed anything up, and it does not make your program easier to read for beginners.  So use it if you prefer communicating with experienced Python programmers!  Here is the whole function again.\n",
        "```python\n",
        "def GCD(a,b):\n",
        "    dividend = a  \n",
        "    divisor = b  \n",
        "    while divisor:   # Executes the scope if divisor is nonzero.\n",
        "        dividend, divisor = divisor, dividend % divisor\n",
        "    return abs(dividend)\n",
        "```"
      ]
    },
    {
      "cell_type": "markdown",
      "metadata": {
        "id": "J6JR2keCP3cT"
      },
      "source": [
        "The next optimization is a bit more dangerous for beginners, but it works here.  In general, it can be dangerous to operate directly on the arguments to a function.  But in this setting, it is safe, and makes no real difference to the Python interpreter.  Instead of creating new variables called `dividend` and `divisor`, one can manipulate `a` and `b` directly within the function.  If you do this, the GCD function can be shortened to the following."
      ]
    },
    {
      "cell_type": "code",
      "metadata": {
        "id": "hXK4Mq6iP3cT"
      },
      "source": [
        "def GCD(a,b):\n",
        "    while b:   # I.e., while b != 0.\n",
        "        a, b = b, a % b\n",
        "    return abs(a)"
      ],
      "execution_count": 80,
      "outputs": []
    },
    {
      "cell_type": "code",
      "metadata": {
        "id": "rzQwxZ5ZP3cU",
        "colab": {
          "base_uri": "https://localhost:8080/"
        },
        "outputId": "7432f4ed-23ca-4325-a811-cd1e52d2e385"
      },
      "source": [
        "# Try it out.  Try it on some big numbers and see how quick it runs!\n",
        "GCD(1000,15)"
      ],
      "execution_count": 81,
      "outputs": [
        {
          "output_type": "execute_result",
          "data": {
            "text/plain": [
              "5"
            ]
          },
          "metadata": {
            "tags": []
          },
          "execution_count": 81
        }
      ]
    },
    {
      "cell_type": "code",
      "metadata": {
        "colab": {
          "base_uri": "https://localhost:8080/"
        },
        "id": "IgE4Mf5AlaZI",
        "outputId": "ac9a82eb-52ed-441e-ed60-3a1c7f3cb18a"
      },
      "source": [
        "GCD(1000,35)"
      ],
      "execution_count": 82,
      "outputs": [
        {
          "output_type": "execute_result",
          "data": {
            "text/plain": [
              "5"
            ]
          },
          "metadata": {
            "tags": []
          },
          "execution_count": 82
        }
      ]
    },
    {
      "cell_type": "code",
      "metadata": {
        "colab": {
          "base_uri": "https://localhost:8080/"
        },
        "id": "ZArxNNlvl2xs",
        "outputId": "2db9015e-884c-470b-a067-67e95a2b6549"
      },
      "source": [
        "GCD(1000,130)"
      ],
      "execution_count": 84,
      "outputs": [
        {
          "output_type": "execute_result",
          "data": {
            "text/plain": [
              "10"
            ]
          },
          "metadata": {
            "tags": []
          },
          "execution_count": 84
        }
      ]
    },
    {
      "cell_type": "markdown",
      "metadata": {
        "id": "urgzfZrwP3cU"
      },
      "source": [
        "This code is essentially optimal, if one wishes to execute the Euclidean algorithm to find the GCD of two integers.  It almost [matches the GCD code in a standard Python library](https://stackoverflow.com/a/18944210).  It might be slightly faster than our original code -- but there is a tradeoff here between execution speed and readability of code.  In this and the following lessons, we often optimize enough for everyday purposes, but not so much that readability is lost."
      ]
    },
    {
      "cell_type": "markdown",
      "metadata": {
        "id": "DkjW1AQmP3cU"
      },
      "source": [
        "### Exercises and explorations\n",
        "\n",
        "1.  Modify the `is_prime` function by using a while loop instead of `for j in range(2,n):`.  Hint:  the function should contain the lines `j = 2` and `while j < n:` and `j = j + 1` in various places.  Why might this be an improvement from the for loop?  Can you look for factors within a smaller range?\n",
        "\n",
        "2.  Modify the `Euclidean_algorithm` function to create a function which returns the *number of steps* that the Euclidean algorithm requires, i.e., the number of divisions-with-remainder.  How does the number of steps compare to the size of the input numbers?  \n",
        "\n",
        "3.  When $a$ and $b$ are integers, $GCD(a,b) \\cdot LCM(a,b) = ab$.  Use this fact to write an LCM-function.  Try to make your function output only integers (not floats) and behave in a good way even if $a,b$ are zero.\n",
        "\n",
        "4.  How does the `GCD(a,b)` function behave when `a` and/or `b` are zero or negative?  Is this good?\n",
        "\n",
        "5.  Challenge:  Write a function `approximate_e(n)` which approximates $e$ with a maximum error of $10^{-n}$.  (You can assume $n < 1000$ if necessary.)  Try a while loop and `import mpmath`.  Back up your work often! "
      ]
    },
    {
      "cell_type": "markdown",
      "metadata": {
        "id": "k2U2BEcFVosd"
      },
      "source": [
        "### Solutions"
      ]
    },
    {
      "cell_type": "markdown",
      "metadata": {
        "id": "jxM7N01yKJIv"
      },
      "source": [
        "1. I modified the `is_prime` function into `is_prime_while`, which utilizes a while loop instead of a `for` loop, as shown in the previous structures of the function. For the `is_prime_while` function, we start off by setting `j` to be at 2, in which from there, the function would go through a series of iterations until the `while` condition is False. In this way, it checks all of the `j` values that is true for `j < n`. If `j<n`, then it moves forward with the loop, but if by the time it reaches to a point where `j<n` is no longer true, then the function ends by assuming that the argument is a prime number. \\\r\n",
        "The main differences between a `for` statement and a `while` statement is that the `for` statement would iterate through a specified list while the `while` statement loops until the condition is `False.` We would typically use a `for` loop when we know the number of times we want to iterate and we want to increment the range as well. On the other hand, we use the `while` loop when we do not know the number of times to iterate through the statements, which can be advantangeous when we want to see a wide range of numbers and to see where the function reaches.\r\n",
        " \r\n",
        "\r\n"
      ]
    },
    {
      "cell_type": "code",
      "metadata": {
        "id": "hr3TtM2A258X"
      },
      "source": [
        "def is_prime(n):                                                                # Checks whether the argument n is a prime number. Uses a brute force search for factors between 1 and n.\r\n",
        "    for j in range(2,n):                                                        # the list of numbers 2,3,...,n-1.\r\n",
        "      if n%j == 0:                                                              # is n divisible by j?\r\n",
        "        print(\"{} is a factor of {}.\".format(j,n))                              \r\n",
        "        return False\r\n",
        "    return True\r\n",
        "\r\n",
        "def is_prime_while(n):                                                          # checks whether argument n is prime at a more open scale\r\n",
        "    j=2                                                                         # sets minimum range of 2\r\n",
        "    while j < n:                                                                # checks whether current range is less than argument \r\n",
        "      if n%j==0:                                                                # if yes, then check whether j is a factor of n \r\n",
        "        return print(\"{} is a factor of {}.\".format(j,n))                       # if yes, then print and abort\r\n",
        "      j += 1                                                                    # if no, then the next range j will be checked\r\n",
        "    return print('{} is a prime number.'.format(n))                             # if function checks all factors, but no factors are found and j = n, then print and abort"
      ],
      "execution_count": null,
      "outputs": []
    },
    {
      "cell_type": "code",
      "metadata": {
        "colab": {
          "base_uri": "https://localhost:8080/"
        },
        "id": "YHHzJmQp3RwH",
        "outputId": "2dffb750-dcc4-4406-ac7a-987ab1bd4dc4"
      },
      "source": [
        "is_prime_while(110)"
      ],
      "execution_count": null,
      "outputs": [
        {
          "output_type": "stream",
          "text": [
            "55.0 is a factor of 110.\n"
          ],
          "name": "stdout"
        }
      ]
    },
    {
      "cell_type": "markdown",
      "metadata": {
        "id": "fKbuvSR1aX0u"
      },
      "source": [
        "The way we could look for factors in a smaller range, based on the `is_prime_while` function is by altering what our base `j` will be. In this case, we set our `j` at 2 because we know that (1) if we set `j=1`, then the function will always print the fact that `1 is a factor of n`, and (2) it offer the widest range of factors for the function to loop in. If we wanted a smaller range, we could set `j` to be closer to `n` or any other number that is not `2` so that we could look for factors within a smaller range. "
      ]
    },
    {
      "cell_type": "code",
      "metadata": {
        "id": "2ZKGhaZ3aOJv"
      },
      "source": [
        "def is_prime_while_smaller_range(n):                                            # checks whether argument n is prime at a smaller scale\r\n",
        "    j=n/2                                                                       # sets minimum range of n/2\r\n",
        "    while j < n:                                                                # checks whether current range is less than argument \r\n",
        "      if n%j==0:                                                                # if yes, then check whether j is a factor of n \r\n",
        "        return print(\"{} is a factor of {}.\".format(j,n))                       # if yes, then print and abort\r\n",
        "      j += 1                                                                    # if no, then the next range j will be checked\r\n",
        "    return print('{} is a prime number.'.format(n))                             # if function checks all factors, but no factors are found and j = n, then print and abort"
      ],
      "execution_count": null,
      "outputs": []
    },
    {
      "cell_type": "code",
      "metadata": {
        "colab": {
          "base_uri": "https://localhost:8080/"
        },
        "id": "bCkQ1SzIaQbn",
        "outputId": "a6aafe51-9e56-4029-b1ac-e9bea966dbe1"
      },
      "source": [
        "is_prime_while_smaller_range(110)"
      ],
      "execution_count": null,
      "outputs": [
        {
          "output_type": "stream",
          "text": [
            "55.0 is a factor of 110.\n"
          ],
          "name": "stdout"
        }
      ]
    },
    {
      "cell_type": "markdown",
      "metadata": {
        "id": "L9jsydA5KPzG"
      },
      "source": [
        "2. Modify the Euclidean_algorithm function to create a function which returns the number of steps that the Euclidean algorithm requires, i.e., the number of divisions-with-remainder. How does the number of steps compare to the size of the input numbers?\r\n",
        "\r\n",
        "Using the given `Euclidean_algorithm` function, I modified the function in a way that still prints all of the Euclidean Algorithm equations for the dividend and divisor while also counting how many steps/equations it takes for us to have a remainder of 0. \r\n",
        "\r\n"
      ]
    },
    {
      "cell_type": "code",
      "metadata": {
        "id": "YHzWM7JU3VD9"
      },
      "source": [
        "def Euclidean_algorithm(a,b):                                                   # takes argument of dividend a and divisor b and writes it in the Euclidean Algorithm way, once done, counts all steps it takes to get there\r\n",
        "    dividend = a\r\n",
        "    divisor = b\r\n",
        "    steps = 0                                                                   # for algorithm to count steps, begin steps at 0 \r\n",
        "    while divisor != 0:                                                         # Recall that != means \"is not equal to\".\r\n",
        "        quotient = dividend // divisor\r\n",
        "        remainder = dividend % divisor\r\n",
        "        print(\"{} = {} ({}) + {}\".format(dividend, quotient, divisor, remainder))\r\n",
        "        dividend = divisor  \r\n",
        "        divisor = remainder\r\n",
        "        steps += 1                                                              # once the algorithm finishes, then we add a step to indicate that one step has been complete/done\r\n",
        "    if divisor == 0:                                                            # if the divisor = 0, then algorithm is completely done and print amount of steps it takes to get there \r\n",
        "        return print(\"The Euclidean algorithm requires {} steps in order for the remainder to be 0.\".format(steps))"
      ],
      "execution_count": 1,
      "outputs": []
    },
    {
      "cell_type": "markdown",
      "metadata": {
        "id": "NKDXffaPqAPx"
      },
      "source": [
        "If we were to take a look at the number of steps compared to the size of the input numbers, we do notice a couple of correlations between each other. For one, if we multiply both the input `a` and `b` by 10, we would still achieve the same number of steps as before. With the example below, the number of steps it takes for inputs `(100,40)` to reach a remainder of `0` is the same the number of steps as it takes for inputs `(10,4)` to reach a remainder of `0` also. This works with all of three of my test input pairs shown below. \r\n",
        "\r\n",
        "Usually, `a>b` when we use the Euclidean Algorithm to find the GCD, but what if `a<b`. Another correlation that we may see is that when we switch the values of `a` and `b` such that `a<b`, it takes one more step than it does for when `a>b`. For instance, if we decide instead of `Euclidean_algorithm(10,4)`, we want `Euclidean_algorithm(4,10)`. Thus, while `Euclidean_algorithm(10,4)` takes 2 steps, `Euclidean_algorithm(4,10)` would take 3 steps instead, showing that if we reverse the values of `a` and `b`, the Euclidean Algorithm will still be able to achieve the equation, but will need an additional step if `a<b`. Even if `a%b=0`, an additional step will be needed if `a<b` compared to `a>b`."
      ]
    },
    {
      "cell_type": "code",
      "metadata": {
        "colab": {
          "base_uri": "https://localhost:8080/"
        },
        "id": "x9xQzUllI9qd",
        "outputId": "c76ce8b3-f0a2-4af4-89a4-a2196e3ba211"
      },
      "source": [
        "Euclidean_algorithm(100,40)\r\n",
        "Euclidean_algorithm(10,4)\r\n",
        "Euclidean_algorithm(40,100)\r\n",
        "Euclidean_algorithm(4,10)"
      ],
      "execution_count": null,
      "outputs": [
        {
          "output_type": "stream",
          "text": [
            "100 = 2 (40) + 20\n",
            "40 = 2 (20) + 0\n",
            "The Euclidean algorithm requires 2 steps in order for the remainder to be 0.\n",
            "10 = 2 (4) + 2\n",
            "4 = 2 (2) + 0\n",
            "The Euclidean algorithm requires 2 steps in order for the remainder to be 0.\n",
            "40 = 0 (100) + 40\n",
            "100 = 2 (40) + 20\n",
            "40 = 2 (20) + 0\n",
            "The Euclidean algorithm requires 3 steps in order for the remainder to be 0.\n",
            "4 = 0 (10) + 4\n",
            "10 = 2 (4) + 2\n",
            "4 = 2 (2) + 0\n",
            "The Euclidean algorithm requires 3 steps in order for the remainder to be 0.\n"
          ],
          "name": "stdout"
        }
      ]
    },
    {
      "cell_type": "code",
      "metadata": {
        "colab": {
          "base_uri": "https://localhost:8080/"
        },
        "id": "SlqIn9hQfwao",
        "outputId": "7c914918-c720-4ac0-cb84-45eb496c2f9f"
      },
      "source": [
        "Euclidean_algorithm(150,40)\r\n",
        "Euclidean_algorithm(15,4)\r\n",
        "Euclidean_algorithm(40,150)\r\n",
        "Euclidean_algorithm(4,15)"
      ],
      "execution_count": null,
      "outputs": [
        {
          "output_type": "stream",
          "text": [
            "150 = 3 (40) + 30\n",
            "40 = 1 (30) + 10\n",
            "30 = 3 (10) + 0\n",
            "The Euclidean algorithm requires 3 steps in order for the remainder to be 0.\n",
            "15 = 3 (4) + 3\n",
            "4 = 1 (3) + 1\n",
            "3 = 3 (1) + 0\n",
            "The Euclidean algorithm requires 3 steps in order for the remainder to be 0.\n",
            "40 = 0 (150) + 40\n",
            "150 = 3 (40) + 30\n",
            "40 = 1 (30) + 10\n",
            "30 = 3 (10) + 0\n",
            "The Euclidean algorithm requires 4 steps in order for the remainder to be 0.\n",
            "4 = 0 (15) + 4\n",
            "15 = 3 (4) + 3\n",
            "4 = 1 (3) + 1\n",
            "3 = 3 (1) + 0\n",
            "The Euclidean algorithm requires 4 steps in order for the remainder to be 0.\n"
          ],
          "name": "stdout"
        }
      ]
    },
    {
      "cell_type": "code",
      "metadata": {
        "colab": {
          "base_uri": "https://localhost:8080/"
        },
        "id": "rNJyRJwmfw1T",
        "outputId": "4ff5c79e-367e-4763-a00b-c1de8faa9555"
      },
      "source": [
        "Euclidean_algorithm(200,40)\r\n",
        "Euclidean_algorithm(20,4)\r\n",
        "Euclidean_algorithm(40,200)\r\n",
        "Euclidean_algorithm(4,20)"
      ],
      "execution_count": null,
      "outputs": [
        {
          "output_type": "stream",
          "text": [
            "200 = 5 (40) + 0\n",
            "The Euclidean algorithm requires 1 steps in order for the remainder to be 0.\n",
            "200 = 50 (4) + 0\n",
            "The Euclidean algorithm requires 1 steps in order for the remainder to be 0.\n",
            "40 = 0 (200) + 40\n",
            "200 = 5 (40) + 0\n",
            "The Euclidean algorithm requires 2 steps in order for the remainder to be 0.\n",
            "4 = 0 (20) + 4\n",
            "20 = 5 (4) + 0\n",
            "The Euclidean algorithm requires 2 steps in order for the remainder to be 0.\n"
          ],
          "name": "stdout"
        }
      ]
    },
    {
      "cell_type": "markdown",
      "metadata": {
        "id": "fN1MYb02KWrA"
      },
      "source": [
        "3. To create the `LCM(a,b)` function, we used the fact that when `a`  and  `b`  are integers,  `GCD(a,b)⋅LCM(a,b)=ab`, indicating that  `LCM(a,b)=ab / GCD(a,b)`. Thus, we first needed to define `GCD(a,b)` with what was given to us in the previous section. With that, we could then continue forward and calculate our LCM by doing the following computation: `LCM(a,b)=ab / GCD(a,b)`. We made sure that `a`, `b`, and `GCD(a,b)` are integers because we are looking for the function to output only integers instead of floats and for the function to still behave accordingly even when `a` and/or `b` are zero. \r\n"
      ]
    },
    {
      "cell_type": "code",
      "metadata": {
        "id": "H0WqMEm_PEnc"
      },
      "source": [
        "def GCD(a,b):\r\n",
        "    while b:                                                                    # I.e., while b != 0.\r\n",
        "        a, b = b, a % b\r\n",
        "    return abs(a)\r\n",
        "\r\n",
        "def LCM(a,b):                                                                   # finds LCM by taking input of a and b                                                     \r\n",
        "  least = (int(a) * int(b)) // int(GCD(a,b))                                    # quotient of int(a)*int(b) and int(GCD)\r\n",
        "  return abs(least)                                                             # prints absolute value of lcm since we like our LCM to be positive."
      ],
      "execution_count": null,
      "outputs": []
    },
    {
      "cell_type": "code",
      "metadata": {
        "colab": {
          "base_uri": "https://localhost:8080/"
        },
        "id": "PbPEjMa_QLxf",
        "outputId": "70d8c5ac-6cd5-4f9a-e435-8ae7aa496aca"
      },
      "source": [
        "GCD(20,50)"
      ],
      "execution_count": null,
      "outputs": [
        {
          "output_type": "execute_result",
          "data": {
            "text/plain": [
              "10"
            ]
          },
          "metadata": {
            "tags": []
          },
          "execution_count": 65
        }
      ]
    },
    {
      "cell_type": "code",
      "metadata": {
        "colab": {
          "base_uri": "https://localhost:8080/"
        },
        "id": "W12j_UHqQV-b",
        "outputId": "5b123061-392f-4abc-db91-49e93daaafc1"
      },
      "source": [
        "LCM(20,50)"
      ],
      "execution_count": null,
      "outputs": [
        {
          "output_type": "execute_result",
          "data": {
            "text/plain": [
              "100"
            ]
          },
          "metadata": {
            "tags": []
          },
          "execution_count": 66
        }
      ]
    },
    {
      "cell_type": "markdown",
      "metadata": {
        "id": "ZS97xzVbKgO3"
      },
      "source": [
        "4. As shown below, when `a` and/or `b` is negative, the `GCD(a,b)` function will always output a positive number because written in the function, we would end the definition by returning the absolute value of the GCD. This is not necessarily good, because in reality, the GCD can still be a negative number if `b` happens to be negative. Becuase we included the fact that the function would return the absolute value of the GCD, the result would always be negative. \\\r\n",
        "We know that the Euclidean Algorithm is a good depiction of the fact that the GCD can actually be negative since once the algorithm ends, the last nonzero remainder would be the greatest common divisor of `a` and `b`, which could possibly be negative. If we were to use the Euclidean Algorithm function with a positive `a` and a negative `b`, we would achieve a negative GCD. \\\r\n",
        "Overall, having the `GCD(a,b)` output only positive numbers is not a good thing because by the Euclidean Algorithm, when `a` and/or `b` is negative, the GCD should/could be as well, which could be misleading when we want to find the true GCD of `a` and `b`.  \\\r\n",
        "When `b` is `0`, the function seems to not be able to compute for the GCD, in which when we use the Euclidean Algorithm, it stated that it takes zero steps for the remainder to be 0. Because the divisor was already 0, then technically the remainder is also 0, which means that there really is nothing to compute the GCD with. With how the `GCD(a,b)` function is written, this could be problematic because the function outputs the `GCD(100,0)` as 100, which is quite odd when the Euclidean Algorithm took 0 steps to get to the GCD. Logically, having a divisor of 0 would trigger that `ZeroDivisionError` exception, so with how the `GCD(a,b)` function is written, this could be problematic. With `a` being 0 on the other hand gets us the desired output that we are looking for and the output that makes sense to us. \r\n"
      ]
    },
    {
      "cell_type": "code",
      "metadata": {
        "colab": {
          "base_uri": "https://localhost:8080/"
        },
        "id": "tb9LDO_wKsWt",
        "outputId": "46c11e19-9b90-4e2b-a150-c7daf3bb3c3e"
      },
      "source": [
        "GCD(100,40)"
      ],
      "execution_count": null,
      "outputs": [
        {
          "output_type": "execute_result",
          "data": {
            "text/plain": [
              "20"
            ]
          },
          "metadata": {
            "tags": []
          },
          "execution_count": 90
        }
      ]
    },
    {
      "cell_type": "code",
      "metadata": {
        "colab": {
          "base_uri": "https://localhost:8080/"
        },
        "id": "IXbQ5x47kSZc",
        "outputId": "d45f4bff-d171-4d88-ed2e-73a5adff9b86"
      },
      "source": [
        "Euclidean_algorithm(100,-40)"
      ],
      "execution_count": null,
      "outputs": [
        {
          "output_type": "stream",
          "text": [
            "100 = -3 (-40) + -20\n",
            "-40 = 2 (-20) + 0\n",
            "The Euclidean algorithm requires 2 steps in order for the remainder to be 0.\n"
          ],
          "name": "stdout"
        }
      ]
    },
    {
      "cell_type": "code",
      "metadata": {
        "colab": {
          "base_uri": "https://localhost:8080/"
        },
        "id": "VaOUepOrkWJ-",
        "outputId": "9865868c-f270-4928-d874-a52dd072bc8c"
      },
      "source": [
        "Euclidean_algorithm(-100,40)"
      ],
      "execution_count": null,
      "outputs": [
        {
          "output_type": "stream",
          "text": [
            "-100 = -3 (40) + 20\n",
            "40 = 2 (20) + 0\n",
            "The Euclidean algorithm requires 2 steps in order for the remainder to be 0.\n"
          ],
          "name": "stdout"
        }
      ]
    },
    {
      "cell_type": "code",
      "metadata": {
        "colab": {
          "base_uri": "https://localhost:8080/"
        },
        "id": "2C8TwxRvKyXL",
        "outputId": "a1149ef0-4c72-4139-e3bd-693d8f1f63cf"
      },
      "source": [
        "GCD(100,-40)"
      ],
      "execution_count": null,
      "outputs": [
        {
          "output_type": "execute_result",
          "data": {
            "text/plain": [
              "20"
            ]
          },
          "metadata": {
            "tags": []
          },
          "execution_count": 93
        }
      ]
    },
    {
      "cell_type": "code",
      "metadata": {
        "colab": {
          "base_uri": "https://localhost:8080/"
        },
        "id": "IbALNhYQK17u",
        "outputId": "78599c54-cd23-4abe-d7d1-518d1a413ad2"
      },
      "source": [
        "GCD(-100,40)"
      ],
      "execution_count": null,
      "outputs": [
        {
          "output_type": "execute_result",
          "data": {
            "text/plain": [
              "20"
            ]
          },
          "metadata": {
            "tags": []
          },
          "execution_count": 94
        }
      ]
    },
    {
      "cell_type": "code",
      "metadata": {
        "colab": {
          "base_uri": "https://localhost:8080/"
        },
        "id": "Y92fOcQekkAE",
        "outputId": "0ceee9d0-9e66-441a-c0be-7409b2cda8b9"
      },
      "source": [
        "Euclidean_algorithm(100,0)"
      ],
      "execution_count": null,
      "outputs": [
        {
          "output_type": "stream",
          "text": [
            "The Euclidean algorithm requires 0 steps in order for the remainder to be 0.\n"
          ],
          "name": "stdout"
        }
      ]
    },
    {
      "cell_type": "code",
      "metadata": {
        "colab": {
          "base_uri": "https://localhost:8080/"
        },
        "id": "bbv55vn4K4uu",
        "outputId": "b8c1932f-9bbb-4e7f-80e7-bb2d5bb29335"
      },
      "source": [
        "GCD(100,0)"
      ],
      "execution_count": null,
      "outputs": [
        {
          "output_type": "execute_result",
          "data": {
            "text/plain": [
              "100"
            ]
          },
          "metadata": {
            "tags": []
          },
          "execution_count": 95
        }
      ]
    },
    {
      "cell_type": "code",
      "metadata": {
        "colab": {
          "base_uri": "https://localhost:8080/"
        },
        "id": "VmIfRpcjknqp",
        "outputId": "4b94414b-f74c-44fe-a369-91e7b4748c37"
      },
      "source": [
        "Euclidean_algorithm(0,100)"
      ],
      "execution_count": null,
      "outputs": [
        {
          "output_type": "stream",
          "text": [
            "0 = 0 (100) + 0\n",
            "The Euclidean algorithm requires 1 steps in order for the remainder to be 0.\n"
          ],
          "name": "stdout"
        }
      ]
    },
    {
      "cell_type": "code",
      "metadata": {
        "colab": {
          "base_uri": "https://localhost:8080/"
        },
        "id": "3Uxzcke4LAUH",
        "outputId": "0ce686a3-b023-4015-b590-30785113782a"
      },
      "source": [
        "GCD(0,100)"
      ],
      "execution_count": null,
      "outputs": [
        {
          "output_type": "execute_result",
          "data": {
            "text/plain": [
              "100"
            ]
          },
          "metadata": {
            "tags": []
          },
          "execution_count": 58
        }
      ]
    },
    {
      "cell_type": "markdown",
      "metadata": {
        "id": "G087wwjeKmbk"
      },
      "source": [
        "5. We were looking to create a function `approximate_e(n)` that approximates `e` with a maximum error of `10^-n`. Before implementing our approach, we needed to import the `mpmath` library so that we could alter the decimal precision settings to what we want. Instead of letting `mp.dps=n`, we want `n+1` because we want the maximum error based `10^-n`. so we want to see `n` decimal places; choosing `mp.dps=n` would be `n-1`, which is not what we are looking for. \\\r\n",
        "The approach was that we would create a loop that calculates the sum of the Taylor series, similar to Notebook 1, but instead using a for loop, we would use a while loop instead so that the loop could abort itself when it notices that the error between the actual value that Python has set and the approximation that we created is less than the maximum error of `10^-n`. Once we approach the situation where the while loop is `False`, then the loop ends and prints out the amount of iterations needed to get the approximation with a maximum error of `10^-n`. The while loop is meant to search through all possible iterations so that we could know the most possible number such that the approximate has the maximum error of `10^-n`. \r\n",
        "\r\n"
      ]
    },
    {
      "cell_type": "code",
      "metadata": {
        "id": "rqcfOGCPfsQY"
      },
      "source": [
        "def approximate_e(n):                                                                # approximates e by sum of taylor series, determines number of iterations it takes to have maximum error of 10^-n\r\n",
        "  if n < 0:                                                                     # checks if n is a negative, raise exception if yes\r\n",
        "    raise ValueError('Number is negative and needs to be positive.')\r\n",
        "  if type(n) == float:                                                          # checks if n is a float, raise exception if yes\r\n",
        "    raise TypeError('Number is a float and needs to be an integer.')\r\n",
        "  \r\n",
        "  from mpmath import mp                                                         # import mp from mpmath library\r\n",
        "  import mpmath                                                                 # import mpmath library \r\n",
        "  mp.dps = n+1                                                                  # allow decimal precision to be n decimals \r\n",
        "  max_error = 10**(-n)                                                          # given max error\r\n",
        "  actual = mpmath.e                                                             # Python's in library calculation of e \r\n",
        "  print('We are given the actual value of e in {} decimal places at {}.'.format(n, actual))\r\n",
        "\r\n",
        "  fact = 1                                                                      # being base of factorial at 1\r\n",
        "  sumTaylor = 1                                                                 # sum of taylor series when n=0\r\n",
        "  i = 1                                                                         # begin loop starts at iteration 1 \r\n",
        "\r\n",
        "  while mpmath.mpf(abs(actual - sumTaylor)) >= max_error:                       # goes through all iterations where error is greater than or equal to max error, if less, then iteration conts, if greater, then abort\r\n",
        "    fact *= i                                                                   # continues factorial by multiple itself with next iteration\r\n",
        "    i += 1                                                                      # prep for next iteration \r\n",
        "    sumTaylor += mpmath.mpf(1/fact)                                             # sum of taylor series, mpmath meant to get decimal precision based on n decimal places \r\n",
        "  return print('To calculate the approximate value of e at {}, the function needed to iterate through the loop {} times so that the approximation would achieve a maximum error of {}.'.format(sumTaylor, i-1, max_error))"
      ],
      "execution_count": null,
      "outputs": []
    },
    {
      "cell_type": "code",
      "metadata": {
        "colab": {
          "base_uri": "https://localhost:8080/"
        },
        "id": "cH0kGwgTgmpE",
        "outputId": "0b1c7c1e-a2c7-40ec-93c2-83e7eaaf0a22"
      },
      "source": [
        "approximate_e(1)"
      ],
      "execution_count": null,
      "outputs": [
        {
          "output_type": "stream",
          "text": [
            "We are given the actual value of e in 1 decimal places at 2.7.\n",
            "To calculate the approximate value of e at 2.7, the function needed to iterate through the loop 3 times so that the approximation would achieve a maximum error of 0.1.\n"
          ],
          "name": "stdout"
        }
      ]
    },
    {
      "cell_type": "code",
      "metadata": {
        "colab": {
          "base_uri": "https://localhost:8080/"
        },
        "id": "WZTz53K2f9Ao",
        "outputId": "13db2196-6eed-4371-9328-d605c222d297"
      },
      "source": [
        "approximate_e(5)"
      ],
      "execution_count": null,
      "outputs": [
        {
          "output_type": "stream",
          "text": [
            "We are given the actual value of e in 5 decimal places at 2.71828.\n",
            "To calculate the approximate value of e at 2.71828, the function needed to iterate through the loop 8 times so that the approximation would achieve a maximum error of 1e-05.\n"
          ],
          "name": "stdout"
        }
      ]
    },
    {
      "cell_type": "code",
      "metadata": {
        "colab": {
          "base_uri": "https://localhost:8080/"
        },
        "id": "OtrAgxYWgyAo",
        "outputId": "bf9cb518-7b48-45ba-aeb3-920d3aff14ea"
      },
      "source": [
        "approximate_e(10)"
      ],
      "execution_count": null,
      "outputs": [
        {
          "output_type": "stream",
          "text": [
            "We are given the actual value of e in 10 decimal places at 2.7182818285.\n",
            "To calculate the approximate value of e at 2.7182818284, the function needed to iterate through the loop 13 times so that the approximation would achieve a maximum error of 1e-10.\n"
          ],
          "name": "stdout"
        }
      ]
    },
    {
      "cell_type": "code",
      "metadata": {
        "colab": {
          "base_uri": "https://localhost:8080/"
        },
        "id": "DYlVdqnEgzQT",
        "outputId": "0e8f96b5-9649-4ab5-a25f-fc76a1dae8a0"
      },
      "source": [
        "approximate_e(15)"
      ],
      "execution_count": null,
      "outputs": [
        {
          "output_type": "stream",
          "text": [
            "We are given the actual value of e in 15 decimal places at 2.718281828459045.\n",
            "To calculate the approximate value of e at 2.718281828459045, the function needed to iterate through the loop 17 times so that the approximation would achieve a maximum error of 1e-15.\n"
          ],
          "name": "stdout"
        }
      ]
    },
    {
      "cell_type": "code",
      "metadata": {
        "colab": {
          "base_uri": "https://localhost:8080/"
        },
        "id": "h1uUYjD-vQ8A",
        "outputId": "40087285-7f48-4322-d246-be3d3174436e"
      },
      "source": [
        "approximate_e(16)"
      ],
      "execution_count": null,
      "outputs": [
        {
          "output_type": "stream",
          "text": [
            "We are given the actual value of e in 16 decimal places at 2.7182818284590452.\n",
            "To calculate the approximate value of e at 2.7182818284590452, the function needed to iterate through the loop 18 times so that the approximation would achieve a maximum error of 1e-16.\n"
          ],
          "name": "stdout"
        }
      ]
    }
  ]
}