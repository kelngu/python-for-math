{
  "nbformat": 4,
  "nbformat_minor": 0,
  "metadata": {
    "colab": {
      "name": "P4M Notebook 5.ipynb",
      "provenance": [],
      "collapsed_sections": [
        "5xG55Vdo91Tm",
        "6anmwPIoLwdu",
        "8Kqj86tJcKxR",
        "6trjcLsccR8r",
        "kYWSMHMsY853",
        "Zg0Nc1e6aDi7",
        "Z_qXyQWafhsv",
        "DPQTFqYpVZIJ",
        "ebbLzznvVhix",
        "48zgSE8hYkI9",
        "ZqQ34DdoaYz0",
        "w4Yq_rSfa7pI",
        "VV_FYl9fa8cg",
        "HJJWMj_8VdXg",
        "qRLhmGVkXd8K",
        "qjBNKFCd95sS"
      ],
      "include_colab_link": true
    },
    "kernelspec": {
      "name": "python3",
      "display_name": "Python 3"
    }
  },
  "cells": [
    {
      "cell_type": "markdown",
      "metadata": {
        "id": "view-in-github",
        "colab_type": "text"
      },
      "source": [
        "<a href=\"https://colab.research.google.com/github/kelngu/python-for-math/blob/main/Notebook%20%235/P4M_Notebook_5.ipynb\" target=\"_parent\"><img src=\"https://colab.research.google.com/assets/colab-badge.svg\" alt=\"Open In Colab\"/></a>"
      ]
    },
    {
      "cell_type": "markdown",
      "metadata": {
        "id": "3Vh71OubDeRq"
      },
      "source": [
        "# Part 5:  Putting it together...\n",
        "\n",
        "To wrap things up, we are going to bring together the techniques we have seen, and attempt a few challenges.\n",
        "\n",
        "Please submit this notebook by 5pm (California time) on Wednesday, March 17th.  Your submission should include answers to all three questions from the first (Repetition and benchmarking) section, and **two** of the challenging problems."
      ]
    },
    {
      "cell_type": "markdown",
      "metadata": {
        "id": "5xG55Vdo91Tm"
      },
      "source": [
        "## Import Libraries: "
      ]
    },
    {
      "cell_type": "code",
      "metadata": {
        "id": "r8vtSFRG97-w"
      },
      "source": [
        "import math \r\n",
        "import numpy as np # First we have to load the package.\r\n",
        "import matplotlib.pyplot as plt\r\n",
        "import seaborn as sns # In case we want some modern stylings.\r\n",
        "import time as time\r\n",
        "from decimal import Decimal\r\n",
        "from PIL import Image, ImageDraw # Load the package."
      ],
      "execution_count": 2,
      "outputs": []
    },
    {
      "cell_type": "markdown",
      "metadata": {
        "id": "tmXRsSLiDw2i"
      },
      "source": [
        "## Repetition and benchmarking\n"
      ]
    },
    {
      "cell_type": "markdown",
      "metadata": {
        "id": "zhz2HMH-MGf3"
      },
      "source": [
        "\r\n",
        "Computers are very good at repetition.  As your programming skills improve, you can more easily coax your computer into performing more repetitions.  We have seen at least three ways of performing repetition:  with loops (e.g, for and while loops), with lists (especially slicing and comprehension), and with numpy arrays (especially vectorized functions).  \r\n",
        "\r\n",
        "It is good to see this, in a simple example, to reflect on what you've learned this quarter.  Our simple example will be producing a list of squares $n^2$ for $n$ in a range of numbers.\r\n",
        "\r\n",
        "The first things we learned were how to use Python as a calculator, printing \"answers\" to the screen, and using a \"for loop\" to repeat things.  Here is a bit of code in that spirit."
      ]
    },
    {
      "cell_type": "code",
      "metadata": {
        "id": "1_Gk52ZaDd1M",
        "colab": {
          "base_uri": "https://localhost:8080/"
        },
        "outputId": "6829f5d5-8c48-46d6-9ca6-3f8d0abd8974"
      },
      "source": [
        "for n in range(10):\n",
        "  print(n*n)"
      ],
      "execution_count": 34,
      "outputs": [
        {
          "output_type": "stream",
          "text": [
            "0\n",
            "1\n",
            "4\n",
            "9\n",
            "16\n",
            "25\n",
            "36\n",
            "49\n",
            "64\n",
            "81\n"
          ],
          "name": "stdout"
        }
      ]
    },
    {
      "cell_type": "markdown",
      "metadata": {
        "id": "CI7QBmfi8jn1"
      },
      "source": [
        "Then we learned about lists.  Here are two ways to make a list of the squares, from $0^2$ up to $9^2$.  We print the list at the end of each code block."
      ]
    },
    {
      "cell_type": "code",
      "metadata": {
        "id": "_pSgH2YtEoDT",
        "colab": {
          "base_uri": "https://localhost:8080/"
        },
        "outputId": "59fd63e5-f8aa-4cff-caf2-3cd2c1489cb0"
      },
      "source": [
        "L = []\n",
        "for n in range(10):\n",
        "  L.append(n*n)\n",
        "print(L)"
      ],
      "execution_count": 35,
      "outputs": [
        {
          "output_type": "stream",
          "text": [
            "[0, 1, 4, 9, 16, 25, 36, 49, 64, 81]\n"
          ],
          "name": "stdout"
        }
      ]
    },
    {
      "cell_type": "code",
      "metadata": {
        "id": "7arqtxfWESCf",
        "colab": {
          "base_uri": "https://localhost:8080/"
        },
        "outputId": "1c955375-a0cc-456f-d738-9df1b04bc95a"
      },
      "source": [
        "L = [0]*10\n",
        "for n in range(10):\n",
        "  L[n] = n*n\n",
        "print(L)"
      ],
      "execution_count": 36,
      "outputs": [
        {
          "output_type": "stream",
          "text": [
            "[0, 1, 4, 9, 16, 25, 36, 49, 64, 81]\n"
          ],
          "name": "stdout"
        }
      ]
    },
    {
      "cell_type": "markdown",
      "metadata": {
        "id": "BG8Z6La18uv4"
      },
      "source": [
        "Hopefully you learned to give your lists better names, like `square_list`.  A very slick Pythonic way of producing a list is with \"list comprehension\".  Such an approach is in the code below."
      ]
    },
    {
      "cell_type": "code",
      "metadata": {
        "id": "uTel6wOOEZrm",
        "colab": {
          "base_uri": "https://localhost:8080/"
        },
        "outputId": "796b46cc-ea0c-462b-83c2-942abd6ad91f"
      },
      "source": [
        "square_list = [n*n for n in range(10)]\n",
        "print(square_list)"
      ],
      "execution_count": 37,
      "outputs": [
        {
          "output_type": "stream",
          "text": [
            "[0, 1, 4, 9, 16, 25, 36, 49, 64, 81]\n"
          ],
          "name": "stdout"
        }
      ]
    },
    {
      "cell_type": "markdown",
      "metadata": {
        "id": "EDUFarMO836b"
      },
      "source": [
        "Finally, we learned about the numpy package, which pumps arrays through the processor very quickly.  A numpy approach is below."
      ]
    },
    {
      "cell_type": "code",
      "metadata": {
        "id": "KWyPzv53EfRW"
      },
      "source": [
        "import numpy as np # First we have to load the package."
      ],
      "execution_count": 38,
      "outputs": []
    },
    {
      "cell_type": "code",
      "metadata": {
        "id": "sCWmWLfWEgqV",
        "colab": {
          "base_uri": "https://localhost:8080/"
        },
        "outputId": "ae940ca7-2dc1-4a4a-c49e-9f262fdae11c"
      },
      "source": [
        "A = np.arange(10)\n",
        "print(A*A)"
      ],
      "execution_count": 39,
      "outputs": [
        {
          "output_type": "stream",
          "text": [
            "[ 0  1  4  9 16 25 36 49 64 81]\n"
          ],
          "name": "stdout"
        }
      ]
    },
    {
      "cell_type": "markdown",
      "metadata": {
        "id": "WEKhWP4oE1GJ"
      },
      "source": [
        "Let's consider the question:  what is the fastest way to produce a list (or array) of squares?  To answer it, we will wrap things in different functions, and carry out some time analysis.  \n",
        "\n",
        "Notice that the functions are as identical as possible.  The method of creating a list/array is the different in each function.  But all the functions take a single input `N` and return a list or array with the squares of 0,...,N-1.  Note that there are **no print statements**!  Printing takes time, and we don't care about how much time it takes to *print* a list on your screen.  Also, if we run %timeit, then a print statement will fill your screen with tens of thousands of printed messages!"
      ]
    },
    {
      "cell_type": "code",
      "metadata": {
        "id": "8fDM7N4UEkj1"
      },
      "source": [
        "def make_sq_1(N):\n",
        "  L = []\n",
        "  for n in range(N):\n",
        "    L.append(n*n)\n",
        "  return L"
      ],
      "execution_count": 40,
      "outputs": []
    },
    {
      "cell_type": "code",
      "metadata": {
        "id": "qEZsZmViFJAE"
      },
      "source": [
        "def make_sq_2(N):\n",
        "  L = [0] * N\n",
        "  for n in range(N):\n",
        "    L[n] = n*n\n",
        "  return L"
      ],
      "execution_count": 41,
      "outputs": []
    },
    {
      "cell_type": "code",
      "metadata": {
        "id": "NhGyT-BYFOpM"
      },
      "source": [
        "def make_sq_3(N):\n",
        "  return [n*n for n in range(N)]"
      ],
      "execution_count": 42,
      "outputs": []
    },
    {
      "cell_type": "code",
      "metadata": {
        "id": "Api8iz1eFRlN"
      },
      "source": [
        "def make_sq_4(N):\n",
        "  A = np.arange(N)\n",
        "  return A*A"
      ],
      "execution_count": 43,
      "outputs": []
    },
    {
      "cell_type": "code",
      "metadata": {
        "id": "lZGA3AmEFVs0",
        "colab": {
          "base_uri": "https://localhost:8080/"
        },
        "outputId": "2fb3acdf-153d-4c59-96ed-006f79db0f87"
      },
      "source": [
        "%timeit make_sq_1(1000)"
      ],
      "execution_count": 44,
      "outputs": [
        {
          "output_type": "stream",
          "text": [
            "10000 loops, best of 5: 99.5 µs per loop\n"
          ],
          "name": "stdout"
        }
      ]
    },
    {
      "cell_type": "code",
      "metadata": {
        "id": "FVUJxnmfFYSU",
        "colab": {
          "base_uri": "https://localhost:8080/"
        },
        "outputId": "36811339-c5bb-471e-9f02-664a8a84af96"
      },
      "source": [
        "%timeit make_sq_2(1000)"
      ],
      "execution_count": 45,
      "outputs": [
        {
          "output_type": "stream",
          "text": [
            "10000 loops, best of 5: 76.2 µs per loop\n"
          ],
          "name": "stdout"
        }
      ]
    },
    {
      "cell_type": "code",
      "metadata": {
        "id": "Zt1l8hOsFZxs",
        "colab": {
          "base_uri": "https://localhost:8080/"
        },
        "outputId": "f3dcd6cd-abaa-4f6f-c2e5-373c41f8c331"
      },
      "source": [
        "%timeit make_sq_3(1000)"
      ],
      "execution_count": 46,
      "outputs": [
        {
          "output_type": "stream",
          "text": [
            "10000 loops, best of 5: 62.7 µs per loop\n"
          ],
          "name": "stdout"
        }
      ]
    },
    {
      "cell_type": "code",
      "metadata": {
        "id": "pSVmRwAdFb5s",
        "colab": {
          "base_uri": "https://localhost:8080/"
        },
        "outputId": "7f9c5c2e-44fc-4bdc-f649-f9ad83020d98"
      },
      "source": [
        "%timeit make_sq_4(1000)"
      ],
      "execution_count": 47,
      "outputs": [
        {
          "output_type": "stream",
          "text": [
            "The slowest run took 15.61 times longer than the fastest. This could mean that an intermediate result is being cached.\n",
            "100000 loops, best of 5: 2.97 µs per loop\n"
          ],
          "name": "stdout"
        }
      ]
    },
    {
      "cell_type": "markdown",
      "metadata": {
        "id": "wtjJCpIvF965"
      },
      "source": [
        "These benchmarks are useful, but let's do a graphical analysis.  This is the last thing we studied."
      ]
    },
    {
      "cell_type": "code",
      "metadata": {
        "id": "CNgnxRhFGIz9"
      },
      "source": [
        "import matplotlib.pyplot as plt\n",
        "import seaborn as sns # In case we want some modern stylings.\n",
        "import time as time"
      ],
      "execution_count": 48,
      "outputs": []
    },
    {
      "cell_type": "markdown",
      "metadata": {
        "id": "_nCiB6uSJT2C"
      },
      "source": [
        "Now we are going to create a graph to benchmark the performance of these three functions.  This will use a few new programming techniques."
      ]
    },
    {
      "cell_type": "code",
      "metadata": {
        "id": "3Qbzo01tFdi8",
        "colab": {
          "base_uri": "https://localhost:8080/",
          "height": 0
        },
        "outputId": "ce2ed2b3-273e-4b9c-afee-220283f69736"
      },
      "source": [
        "fig,ax = plt.subplots(1,1,figsize=(8,5)) # Initialize a plot.\n",
        "N_array = np.array([2**n for n in range(1,21)]) # We'll try N in the array [2,4,8,..,~1 million]\n",
        "for method in [make_sq_1, make_sq_2, make_sq_3, make_sq_4]: # A list of functions, oh my!\n",
        "  time_array = np.zeros(len(N_array)) # Initialize an array of zeros\n",
        "  for j,N in enumerate(N_array):  # See notes afterwards about the enumerate command.\n",
        "    time_tot = 0\n",
        "    for reps in range(10): # Average of 10 repetitions.\n",
        "      start_time = time.time()\n",
        "      method(N)\n",
        "      end_time = time.time()\n",
        "      time_tot += end_time - start_time\n",
        "    time_ave = time_tot / 10\n",
        "    time_array[j] = time_ave\n",
        "  plt.plot(N_array, time_array, label='Time using function '+method.__name__)\n",
        "plt.legend()\n",
        "plt.xscale('log')\n",
        "plt.yscale('log')\n",
        "plt.suptitle('Time to create a list of squares from 1 to N')\n",
        "plt.xlabel('Length of list (N)')\n",
        "plt.ylabel('Time (seconds)')\n",
        "plt.show()"
      ],
      "execution_count": 49,
      "outputs": [
        {
          "output_type": "display_data",
          "data": {
            "image/png": "[encoded data removed]",
            "text/plain": [
              "<Figure size 576x360 with 1 Axes>"
            ]
          },
          "metadata": {
            "tags": [],
            "needs_background": "light"
          }
        }
      ]
    },
    {
      "cell_type": "code",
      "metadata": {
        "id": "D7YqhyfZHgW5"
      },
      "source": [
        ""
      ],
      "execution_count": 49,
      "outputs": []
    },
    {
      "cell_type": "markdown",
      "metadata": {
        "id": "eWyplW1_Jfak"
      },
      "source": [
        "Let's do a line-by-line analysis.\n",
        "\n",
        "1.  `fig,ax = plt.subplots(1,1,figsize=(8,5))`\n",
        "\n",
        "2.  `N_array = np.array([2**n for n in range(1,21)])`\n",
        "\n",
        "3.  `for method in [make_sq_1, make_sq_2, make_sq_3, make_sq_4]:`\n",
        "\n",
        "4.  `  time_array = np.zeros(len(N_array)) # Initialize an array of zeros`\n",
        "\n",
        "5.  `  for j,N in enumerate(N_array):`\n",
        "\n",
        "6.  `    time_tot = 0`\n",
        "    `for reps in range(10):`\n",
        "      `start_time = time.time()`\n",
        "      `method(N)`\n",
        "      `end_time = time.time()`\n",
        "      `time_tot += end_time - start_time`\n",
        "    `time_ave = time_tot / 10`\n",
        "\n",
        "    `time_array[j] = time_ave`\n",
        "7.    `plt.plot(N_array, time_array, label='Time using function '+method.__name__)`\n",
        "\n",
        "8.  `plt.legend()`\n",
        "\n",
        "9.  `plt.xscale('log')`\n",
        "10. `plt.yscale('log')`"
      ]
    },
    {
      "cell_type": "markdown",
      "metadata": {
        "id": "0Ucwm_uHKL1w"
      },
      "source": [
        "Line 1 initializes a plot, with figure size 8 inches by 5 inches.  The \"1,1\" means that the plot has no subplots, or more precisely, it is a 1 by 1 grid of plots.  (Only one plot).\n",
        "\n",
        "In line 2, we use a list comprehension to make a list [2,4,8,16,..., 2^20].  Note that 2^20 is about one million.  These are the N's that we're going to work with.\n",
        "\n",
        "Line 3 might be surprising and interesting.  The variable `method` is iterated through an array of four *functions*!  Yes, we can have a list of functions!  And then we can use those functions!  Functions are Python objects like any other, and they can be treated as such.\n",
        "\n",
        "Lines 4-6 create an array of times.  Instead of using the %timeit magic, we store our times in an array, and we carry out a timing experiment from scratch.  Line 4 just initializes a numpy array of zeros to fill later.\n",
        "\n",
        "Line 5 has a new command `enumerate` in the loop.  This makes `N` iterate through our `N_array`, and meanwhile `j` will simply \"count up\".  It's equivalent to setting `j=0` before the loop, and putting a `j = j + 1` within the loop to count.\n",
        "\n",
        "Line 6 carries out the timing experiment.  It runs a function (`method`) to create a list of squares up to `N`.  It does this 10 times, checking the time before and after each time.  Then it computes the average amount of time elapsed (among the 10 repetitions) and records this in the `time_array`.\n",
        "\n",
        "Line 7 plots `N` on the x-axis and time (`time_array`) on the y-axis with a line plot.  It assigns this plot a label, which is the name of the method.  To find the name of the function `method`, you can use `method.__name__`.  That's a bit fancier Python.\n",
        "\n",
        "Finally, Line 8 produces the legend from the labels.  \n",
        "\n",
        "Lines 9 and 10 make the x-axis and y-axis log-scaled, which is helpful since the variable `N` is increasing exponentially, and some times are as short as microseconds while others are closer to milliseconds or seconds.\n",
        "\n",
        "The rest is styling."
      ]
    },
    {
      "cell_type": "markdown",
      "metadata": {
        "id": "6anmwPIoLwdu"
      },
      "source": [
        "## Exercises\n"
      ]
    },
    {
      "cell_type": "markdown",
      "metadata": {
        "id": "ryw7eNgkL59M"
      },
      "source": [
        "\r\n",
        "1.  Interpret the plot above.  Which method is fastest for long lists?  Which method is fastest for short lists?  At what size `N` should you switch from one method to the other?\r\n",
        "\r\n",
        "2.  Add another method to the plot, by defining your own function `make_sq_5` that mirros the basic structure of the other `make_sq` functions.  Note that your function must create the list in a different way, but it should still take the same parameter `N` and return a list or numpy array.  Create the plot with your function added to the other four, and compare the performance of your method to the others.\r\n",
        "\r\n",
        "3.  Create a function with `def inflate(S):` which takes as input a string `S` and returns a string in which the 1st letter of `S` appears once, and the second letter appears twice, the third letter appears three times, etc.  For example, `inflate('Hello')` should return the string `'Heelllllllooooo'`.  You must use a loop of the form `for j,letter in enumerate(S):`, and *no other loops*!"
      ]
    },
    {
      "cell_type": "markdown",
      "metadata": {
        "id": "LY1GJ6wbL8DO"
      },
      "source": [
        "## Solutions:"
      ]
    },
    {
      "cell_type": "markdown",
      "metadata": {
        "id": "8Kqj86tJcKxR"
      },
      "source": [
        "### Question #1: \r\n",
        "\r\n",
        "Interpret the plot above.  Which method is fastest for long lists?  Which method is fastest for short lists?  At what size `N` should you switch from one method to the other?"
      ]
    },
    {
      "cell_type": "markdown",
      "metadata": {
        "id": "06hLlgivMsEk"
      },
      "source": [
        "The plot shows that `make_sq_4` seems to be the fastest method to produce a long list of squares while `make_sq_3` is the fastest method to produce a short lists of squares. Based on the plot, we should switch from one method to the other at size around `N=14` or 'N=15' because from that point and beyond, the plot makes it apparent that `make_sq_4` is the best method to produce a list of squares quickly compared to the other methods. If we were looking to produce a list that is less than `N=14`, but still want the fastest possible method to do so, `make_sq_3` is the best option to produce a list of squares quickly for a lists that are less than `N=14`. A big note is that `make_sq_3` is barely faster than `make_sq_1` or `make_sq_2`, so ultimately for lists smaller than `N=14`, using either `make_sq_1`, `make_sq_2`, or `make_sq_3` would work well and as fast, but beyond `N=14`, users should switch to `make_sq_4` to create that list of squares.  "
      ]
    },
    {
      "cell_type": "markdown",
      "metadata": {
        "id": "LUHO6BmgcR1c"
      },
      "source": [
        "### Question #2: \r\n",
        "\r\n",
        "Add another method to the plot, by defining your own function `make_sq_5` that mirros the basic structure of the other `make_sq` functions.  Note that your function must create the list in a different way, but it should still take the same parameter `N` and return a list or numpy array.  Create the plot with your function added to the other four, and compare the performance of your method to the others."
      ]
    },
    {
      "cell_type": "code",
      "metadata": {
        "colab": {
          "base_uri": "https://localhost:8080/"
        },
        "id": "WXFoAYvB-tkC",
        "outputId": "c160fe8c-fc73-46b7-876f-22468b464c8d"
      },
      "source": [
        "make_sq_5(10)"
      ],
      "execution_count": 29,
      "outputs": [
        {
          "output_type": "execute_result",
          "data": {
            "text/plain": [
              "array([ 0,  1,  4,  9, 16, 25, 36, 49, 64, 81])"
            ]
          },
          "metadata": {
            "tags": []
          },
          "execution_count": 29
        }
      ]
    },
    {
      "cell_type": "code",
      "metadata": {
        "id": "mivXfQsNHd9X"
      },
      "source": [
        "def make_sq_5(N): \r\n",
        "  return np.square(range(N))"
      ],
      "execution_count": 30,
      "outputs": []
    },
    {
      "cell_type": "code",
      "metadata": {
        "colab": {
          "base_uri": "https://localhost:8080/"
        },
        "id": "Hymt90U7-0qs",
        "outputId": "1ffa5356-0bb9-4b52-8668-a6d6fa93af93"
      },
      "source": [
        "%timeit make_sq_5(1000)"
      ],
      "execution_count": 31,
      "outputs": [
        {
          "output_type": "stream",
          "text": [
            "10000 loops, best of 5: 125 µs per loop\n"
          ],
          "name": "stdout"
        }
      ]
    },
    {
      "cell_type": "code",
      "metadata": {
        "id": "ii1PeFrfFbZE",
        "colab": {
          "base_uri": "https://localhost:8080/",
          "height": 373
        },
        "outputId": "f951496b-cce8-4cc7-8f97-6e810f70414c"
      },
      "source": [
        "fig,ax = plt.subplots(1,1,figsize=(8,5)) # Initialize a plot.\r\n",
        "N_array = np.array([2**n for n in range(1,21)]) # We'll try N in the array [2,4,8,..,~1 million]\r\n",
        "for method in [make_sq_1, make_sq_2, make_sq_3, make_sq_4,make_sq_5]: # A list of functions, oh my!\r\n",
        "  time_array = np.zeros(len(N_array)) # Initialize an array of zeros\r\n",
        "  for j,N in enumerate(N_array):  # See notes afterwards about the enumerate command.\r\n",
        "    time_tot = 0\r\n",
        "    for reps in range(10): # Average of 10 repetitions.\r\n",
        "      start_time = time.time()\r\n",
        "      method(N)\r\n",
        "      end_time = time.time()\r\n",
        "      time_tot += end_time - start_time\r\n",
        "    time_ave = time_tot / 10\r\n",
        "    time_array[j] = time_ave\r\n",
        "  plt.plot(N_array, time_array, label='Time using function '+method.__name__)\r\n",
        "plt.legend()\r\n",
        "plt.xscale('log')\r\n",
        "plt.yscale('log')\r\n",
        "plt.suptitle('Time to create a list of squares from 1 to N')\r\n",
        "plt.xlabel('Length of list (N)')\r\n",
        "plt.ylabel('Time (seconds)')\r\n",
        "plt.show()"
      ],
      "execution_count": 33,
      "outputs": [
        {
          "output_type": "display_data",
          "data": {
            "image/png": "[encoded data removed]",
            "text/plain": [
              "<Figure size 576x360 with 1 Axes>"
            ]
          },
          "metadata": {
            "tags": [],
            "needs_background": "light"
          }
        }
      ]
    },
    {
      "cell_type": "markdown",
      "metadata": {
        "id": "J5wdStR4Rz8G"
      },
      "source": [
        "I create function `make_sq_5`, which fairly similar to `make_sq_3`, except I used the command `np.square` to produce my list of squares. It appears as though `make_sq_5` starts off the slowest compared to all of the functions, until it reaches past `N=23` that the time is comparable to the function `make_sq_1`. `make_sq_5` will not reach the same time speed as `make_sq_4` since `make_sq_4` utilizes a quicker `if` loop that makes the function move a bit faster. But `make_sq_5` has similar time speeds to `make_sq_1`, showing that the way we structure our function can determine how fast the function runs and could make a difference when `N` increases. "
      ]
    },
    {
      "cell_type": "markdown",
      "metadata": {
        "id": "6trjcLsccR8r"
      },
      "source": [
        "### Question #3: \r\n",
        "\r\n",
        "Create a function with `def inflate(S):` which takes as input a string `S` and returns a string in which the 1st letter of `S` appears once, and the second letter appears twice, the third letter appears three times, etc.  For example, `inflate('Hello')` should return the string `'Heelllllllooooo'`.  You must use a loop of the form `for j,letter in enumerate(S):`, and *no other loops*!"
      ]
    },
    {
      "cell_type": "code",
      "metadata": {
        "id": "XgHqLZxV43ke"
      },
      "source": [
        "def inflate(S):                         # takes string input S & returns string\r\n",
        "                                        # with 1st letter of S appears once, & \r\n",
        "                                        # the second letter appears twice, & \r\n",
        "                                        # third letter appears three times, etc.             \r\n",
        "  string = ''         \r\n",
        "  for j,letter in enumerate(S):\r\n",
        "    string += (letter * (j+1))          # for each letter of string, multiplies \r\n",
        "                                        # letter with the current placement\r\n",
        "  return string"
      ],
      "execution_count": null,
      "outputs": []
    },
    {
      "cell_type": "code",
      "metadata": {
        "colab": {
          "base_uri": "https://localhost:8080/",
          "height": 35
        },
        "id": "0E85ps336Wvo",
        "outputId": "fad5e562-6e86-4ad3-906f-8efbe0892030"
      },
      "source": [
        "inflate('Hello')"
      ],
      "execution_count": null,
      "outputs": [
        {
          "output_type": "execute_result",
          "data": {
            "application/vnd.google.colaboratory.intrinsic+json": {
              "type": "string"
            },
            "text/plain": [
              "'Heelllllllooooo'"
            ]
          },
          "metadata": {
            "tags": []
          },
          "execution_count": 6
        }
      ]
    },
    {
      "cell_type": "markdown",
      "metadata": {
        "id": "F3CDgf54dWoL"
      },
      "source": [
        "# Final challenges!\n",
        "\n",
        "Please turn in your notebooks with your attempts on **two** of the challenges below.  **Only two** will be graded."
      ]
    },
    {
      "cell_type": "markdown",
      "metadata": {
        "id": "tbmqBCQQavYW"
      },
      "source": [
        "## Please Grade These: "
      ]
    },
    {
      "cell_type": "markdown",
      "metadata": {
        "id": "ZeN3Wtibk3_2"
      },
      "source": [
        "### Challenge 3:\n",
        " "
      ]
    },
    {
      "cell_type": "markdown",
      "metadata": {
        "id": "sRd6jzi1lGAX"
      },
      "source": [
        "#### Challenge Problem: "
      ]
    },
    {
      "cell_type": "markdown",
      "metadata": {
        "id": "us4GenAklGAX"
      },
      "source": [
        "\r\n",
        "The following result was found by Euler, but I've changed his numbers to $A$ and $B$ to make your life hard.\r\n",
        "\r\n",
        "Theorem:  A prime number $p$ can be expressed in the form $x^2 + 3 y^2$ if and only if $p$ is congruent to $A$ modulo $B$ (i.e., `p % B == A`).  \r\n",
        "\r\n",
        "Use experimental techniques to determine $A$ and $B$.  Now try the same for $3$ replaced by $4,5,6,7,8,9$."
      ]
    },
    {
      "cell_type": "markdown",
      "metadata": {
        "id": "d2nP9clQIFa1"
      },
      "source": [
        "#### Main Script to Determine Values of `(A,B)` Such That Theorem is True: "
      ]
    },
    {
      "cell_type": "markdown",
      "metadata": {
        "id": "Ag1iSKdKf6Z6"
      },
      "source": [
        "Euler theorized that \"A prime number $p$ can be expressed in the form $x^2 + n y^2$ such that $n = \\{ x \\in \\mathbb{N} : 3 \\leq x \\leq 9\\}$ if and only if $p$ is congruent to $A$ modulo $B$. To determine the values for $A$ and $B$, we have to first determine all of the prime numbers with a range that satisfies the equation $x^2 + n y^2$ before deciding which pairing of $[A,B]$ will make the prime number be congruent to $A$ modulo $B$. \r\n",
        "\r\n",
        "Suppose we want to first explore this theorem when $n=3$. The script below asks for two inputs: p = range of `(1,p)` and `n` in the equation $x^2 + n y^2$. Based on the two inputs, the function checks whether `n` is greater than 3, but less than 9, only because that is the parameters we are asked to look into, (if we were to look for a wide range of `n` values, then the only parameter needed is the fact that `n` is greater than 3), and `p` is a positive integer.  \r\n",
        "\r\n",
        "From there, the function goes through all of the values between 1 and the prime and produces a list of primes within that range. That initial list then goes through another loop that determines whether the prime number in that initial list can be expressed in the form $x^2 + 3y^2$, which should narrow the list of initial primes to a list of $x^2 + 3y^2$. \r\n",
        "\r\n",
        "This then satisfies the first part of the if and only if statement, which leads us to finding the values of $A$ and $B$. We first found the pairings of $[A,B]$ of the smallest prime number because we know that the pairing of $[A,B]$ of the smallest prime number that satisfies $x^2 + n y^2$ can potentially be used for all of the prime numbers that satisfy $x^2 + n y^2$. This is helpful so that we do not have to look through a large list of $[A,B]$ pairings from a very large numbers. \r\n",
        "\r\n",
        "The $[A,B]$ pairing we found for the smallest prime number that satisfies $x^2 + n y^2$ is then set as the range for the next prime number number on the list, From that first initial $[A,B]$ pairing that we found, the second prime number on the list should narrow that first initial $[A,B]$ pairing list down even more. This portion of the tests is meant is for us to narrow the $[A,B]$ pairing\r\n",
        "list down so that eventually, we get a $[A,B]$ pairing list that works for every number on the prime numbers list that satisfies $x^2 + n y^2$. \r\n",
        "\r\n",
        "We run this $[A,B]$ pairing with two more prime numbers to narrow the list down even more and to confirm if that lists works. If that list works, then we have found the $[A,B]$ pairing. \r\n",
        "\r\n",
        "In summary, the function first determines all of the prime numbers that satisfy the equation $x^2 + n y^2$ and from that list of prime numbers is when the function determines the $[A,B]$ pairing. We first find the $[A,B]$ pairing of the smallest number in that prime numbers list that satisfy the equation $x^2 + n y^2$ before narrowing the $[A,B]$ pairings down with the other three numbers in the prime numbers list. By this point, the $[A,B]$ pairings should be narrowed down enough such that we could conclude that the $[A,B]$ pairings will work as part of the overall theorem.  "
      ]
    },
    {
      "cell_type": "code",
      "metadata": {
        "id": "a4O7kX0tANCg"
      },
      "source": [
        "# count primes from 1 to p, determines primes that satisfy square equation, finds (A,B) st p is equiv to A mod B \r\n",
        "def prime_np(p,n):                  \r\n",
        "  # p = int(input('Enter a number P in the range of (1,p): '))                  ## having p and n as open inputs allows user choose any arguments without being limited \r\n",
        "  # n = int(input('Enter a number n, where x^2 + ny^2: '))\r\n",
        "  \r\n",
        "  original_p = p\r\n",
        "  isprime = []\r\n",
        "  isNOTprime = [] \r\n",
        "  x_y = []\r\n",
        "  x_y_not = []\r\n",
        "  A_pair0 = []\r\n",
        "  B_pair0 = []\r\n",
        "  A_pair1 = []\r\n",
        "  B_pair1 = []\r\n",
        "  A_pair2 = []\r\n",
        "  B_pair2 = []\r\n",
        "  A_pair3 = []\r\n",
        "  B_pair3 = []\r\n",
        "  primemod = [] \r\n",
        "\r\n",
        "  if n < 3 or n > 9: \r\n",
        "    raise ValueError('Your value should be greater than 3, but less than 9.')\r\n",
        "\r\n",
        "  if p < 1: \r\n",
        "    raise ValueError('Your value p should be greater than 1.')\r\n",
        "  \r\n",
        "  if type(p) == float: \r\n",
        "    raise TypeError('Your value p is not an integer.')\r\n",
        "\r\n",
        "  while p != 0:\r\n",
        "    if p == 1: \r\n",
        "      isNOTprime.append(p) \r\n",
        "      break      \r\n",
        "    ran = int(p/2) + 1 \r\n",
        "    for i in range(2,ran):            # check if divisible, only need to check up to \r\n",
        "      if p % i == 0: \r\n",
        "        isNOTprime.append(p) \r\n",
        "        break\r\n",
        "    else: \r\n",
        "      isprime.append(p)\r\n",
        "    p -= 1\r\n",
        "\r\n",
        "  prime_count = len(isprime)\r\n",
        "  NOTprime_count =  len(isNOTprime)\r\n",
        "\r\n",
        "  for prime in isprime:\r\n",
        "    for x in range (1,original_p + 1):\r\n",
        "      for y in range (1,original_p + 1):\r\n",
        "        if prime == pow(x,2) + (n * pow(y,2)):\r\n",
        "          x_y.append(prime)\r\n",
        "          break  \r\n",
        "\r\n",
        "  x_y.reverse()\r\n",
        "\r\n",
        "  if len(x_y) == 0: \r\n",
        "    return print('From the list of {} prime numbers in the range from 1 to {}, there are no values of x and y such that equation is satisfied.'.format(prime_count,original_p))  \r\n",
        "  else: \r\n",
        "    print('From the list of {} prime numbers in the range from 1 to {}, there are {} prime numbers that satisfies the equation x^2 + {}y^2: \\n {} \\n '.format(prime_count,original_p,len(x_y), n, x_y))\r\n",
        "\r\n",
        "  # test first number \r\n",
        "  prim0 = x_y[0] \r\n",
        "  for A in range(1,prim0+1):\r\n",
        "    for B in range(1,prim0+1): \r\n",
        "      if prim0 % B == A:  \r\n",
        "        A_pair0.append(A)\r\n",
        "        B_pair0.append(B)\r\n",
        "  \r\n",
        "  AB_prim0 = list(zip(A_pair0,B_pair0))\r\n",
        "  \r\n",
        "  # test second number \r\n",
        "  prim1 = x_y[1]\r\n",
        "  for A,B in AB_prim0:\r\n",
        "    if prim1 % B == A:\r\n",
        "        A_pair1.append(A)\r\n",
        "        B_pair1.append(B)\r\n",
        "  \r\n",
        "  AB_prim1 = list(zip(A_pair1,B_pair1))\r\n",
        "\r\n",
        "  # test third number \r\n",
        "  prim2 = x_y[2]\r\n",
        "  for A,B in AB_prim1:\r\n",
        "    if prim2 % B == A:\r\n",
        "        A_pair2.append(A)\r\n",
        "        B_pair2.append(B)\r\n",
        "\r\n",
        "  AB_prim2 = list(zip(A_pair2,B_pair2))\r\n",
        "\r\n",
        "  # test fourth number \r\n",
        "  prim3 = x_y[3]\r\n",
        "  for A,B in AB_prim2:\r\n",
        "    if prim3 % B == A:\r\n",
        "        A_pair3.append(A)\r\n",
        "        B_pair3.append(B)\r\n",
        "\r\n",
        "  AB_prim3 = list(zip(A_pair3,B_pair3))\r\n",
        "\r\n",
        "  # test all numbers\r\n",
        "  for allprime in x_y:\r\n",
        "    for A,B in AB_prim3:\r\n",
        "      if allprime % B == A: \r\n",
        "        break\r\n",
        "    primemod.append(allprime)\r\n",
        "\r\n",
        "  if len(primemod) != len(x_y):\r\n",
        "    print('An error was found.')\r\n",
        "  else: \r\n",
        "    print('With those {} prime numbers, we found {} pairing(s) of [A,B] such that the pairing(s) satisfy the fact that p is congruent to A modulo B: \\n {} \\n'.format(len(x_y),len(AB_prim3),AB_prim3))\r\n",
        "    print('Therefore we have the following theorem based on Eulers findings: \\n A prime number p can be expressed in the form x^2 + {}y^2 if and only if p is congruent to A modulo B such that [A,B] = {}. \\n'.format(n,AB_prim3))"
      ],
      "execution_count": null,
      "outputs": []
    },
    {
      "cell_type": "markdown",
      "metadata": {
        "id": "c3E67ySZIb1U"
      },
      "source": [
        "#### Values of pairing `(A,B)` such that a prime number p can be expressed in the form of $x^2 + ny^2$, where $n = \\{ x \\in \\mathbb{N} : 3 \\leq x \\leq 9\\}$, if and only if p $\\equiv$ A $mod$ B:"
      ]
    },
    {
      "cell_type": "markdown",
      "metadata": {
        "id": "XZuEOgHKkby_"
      },
      "source": [
        "\r\n",
        "Listed below are the $[A,B]$ pairings for when $n = 3,4,5,6,7,8,9$, using the function `prime_np(p,n)`, where `p` is the last number in the range from `1` to `p` and `n` is the number from the equation $x^2 + ny^2$. "
      ]
    },
    {
      "cell_type": "code",
      "metadata": {
        "colab": {
          "base_uri": "https://localhost:8080/"
        },
        "id": "zoURkWaoARGW",
        "outputId": "eccdcd68-a32c-4324-a451-953760c86fff"
      },
      "source": [
        "prime_np(100,3)"
      ],
      "execution_count": null,
      "outputs": [
        {
          "output_type": "stream",
          "text": [
            "From the list of 25 prime numbers in the range from 1 to 100, there are 11 prime numbers that satisfies the equation x^2 + 3y^2: \n",
            " [7, 13, 19, 31, 37, 43, 61, 67, 73, 79, 97] \n",
            " \n",
            "With those 11 prime numbers, we found 3 pairing(s) of [A,B] such that the pairing(s) satisfy the fact that p is congruent to A modulo B: \n",
            " [(1, 2), (1, 3), (1, 6)] \n",
            "\n",
            "Therefore we have the following theorem based on Eulers findings: \n",
            " A prime number p can be expressed in the form x^2 + 3y^2 if and only if p is congruent to A modulo B such that [A,B] = [(1, 2), (1, 3), (1, 6)]. \n",
            "\n"
          ],
          "name": "stdout"
        }
      ]
    },
    {
      "cell_type": "code",
      "metadata": {
        "colab": {
          "base_uri": "https://localhost:8080/"
        },
        "id": "dVS1XBhHATDS",
        "outputId": "0bb6900f-a980-4c48-b613-96fdfe77553d"
      },
      "source": [
        "prime_np(100,4)"
      ],
      "execution_count": null,
      "outputs": [
        {
          "output_type": "stream",
          "text": [
            "From the list of 25 prime numbers in the range from 1 to 100, there are 11 prime numbers that satisfies the equation x^2 + 4y^2: \n",
            " [5, 13, 17, 29, 37, 41, 53, 61, 73, 89, 97] \n",
            " \n",
            "With those 11 prime numbers, we found 2 pairing(s) of [A,B] such that the pairing(s) satisfy the fact that p is congruent to A modulo B: \n",
            " [(1, 2), (1, 4)] \n",
            "\n",
            "Therefore we have the following theorem based on Eulers findings: \n",
            " A prime number p can be expressed in the form x^2 + 4y^2 if and only if p is congruent to A modulo B such that [A,B] = [(1, 2), (1, 4)]. \n",
            "\n"
          ],
          "name": "stdout"
        }
      ]
    },
    {
      "cell_type": "code",
      "metadata": {
        "colab": {
          "base_uri": "https://localhost:8080/"
        },
        "id": "8qaDUD1vCHq6",
        "outputId": "440320c6-86fe-42fb-dbd6-32fd6f5332d5"
      },
      "source": [
        "prime_np(100,5)"
      ],
      "execution_count": null,
      "outputs": [
        {
          "output_type": "stream",
          "text": [
            "From the list of 25 prime numbers in the range from 1 to 100, there are 4 prime numbers that satisfies the equation x^2 + 5y^2: \n",
            " [29, 41, 61, 89] \n",
            " \n",
            "With those 4 prime numbers, we found 2 pairing(s) of [A,B] such that the pairing(s) satisfy the fact that p is congruent to A modulo B: \n",
            " [(1, 2), (1, 4)] \n",
            "\n",
            "Therefore we have the following theorem based on Eulers findings: \n",
            " A prime number p can be expressed in the form x^2 + 5y^2 if and only if p is congruent to A modulo B such that [A,B] = [(1, 2), (1, 4)]. \n",
            "\n"
          ],
          "name": "stdout"
        }
      ]
    },
    {
      "cell_type": "code",
      "metadata": {
        "colab": {
          "base_uri": "https://localhost:8080/"
        },
        "id": "nybohwuQCSvY",
        "outputId": "52ffe0e7-0a1a-4c2d-b88a-dac8addba4e4"
      },
      "source": [
        "prime_np(100,6)"
      ],
      "execution_count": null,
      "outputs": [
        {
          "output_type": "stream",
          "text": [
            "From the list of 25 prime numbers in the range from 1 to 100, there are 5 prime numbers that satisfies the equation x^2 + 6y^2: \n",
            " [7, 31, 73, 79, 97] \n",
            " \n",
            "With those 5 prime numbers, we found 3 pairing(s) of [A,B] such that the pairing(s) satisfy the fact that p is congruent to A modulo B: \n",
            " [(1, 2), (1, 3), (1, 6)] \n",
            "\n",
            "Therefore we have the following theorem based on Eulers findings: \n",
            " A prime number p can be expressed in the form x^2 + 6y^2 if and only if p is congruent to A modulo B such that [A,B] = [(1, 2), (1, 3), (1, 6)]. \n",
            "\n"
          ],
          "name": "stdout"
        }
      ]
    },
    {
      "cell_type": "code",
      "metadata": {
        "colab": {
          "base_uri": "https://localhost:8080/"
        },
        "id": "EKKWFQh8CTkW",
        "outputId": "5a36a257-3bf3-413f-bf12-9fcf4feb0416"
      },
      "source": [
        "prime_np(100,7)"
      ],
      "execution_count": null,
      "outputs": [
        {
          "output_type": "stream",
          "text": [
            "From the list of 25 prime numbers in the range from 1 to 100, there are 9 prime numbers that satisfies the equation x^2 + 7y^2: \n",
            " [11, 23, 29, 37, 43, 53, 67, 71, 79] \n",
            " \n",
            "With those 9 prime numbers, we found 1 pairing(s) of [A,B] such that the pairing(s) satisfy the fact that p is congruent to A modulo B: \n",
            " [(1, 2)] \n",
            "\n",
            "Therefore we have the following theorem based on Eulers findings: \n",
            " A prime number p can be expressed in the form x^2 + 7y^2 if and only if p is congruent to A modulo B such that [A,B] = [(1, 2)]. \n",
            "\n"
          ],
          "name": "stdout"
        }
      ]
    },
    {
      "cell_type": "code",
      "metadata": {
        "colab": {
          "base_uri": "https://localhost:8080/"
        },
        "id": "0JXdkE6-Ce8B",
        "outputId": "7afa2ee7-63ad-4285-8c7f-6eefce5d7d06"
      },
      "source": [
        "prime_np(100,8)"
      ],
      "execution_count": null,
      "outputs": [
        {
          "output_type": "stream",
          "text": [
            "From the list of 25 prime numbers in the range from 1 to 100, there are 5 prime numbers that satisfies the equation x^2 + 8y^2: \n",
            " [17, 41, 73, 89, 97] \n",
            " \n",
            "With those 5 prime numbers, we found 3 pairing(s) of [A,B] such that the pairing(s) satisfy the fact that p is congruent to A modulo B: \n",
            " [(1, 2), (1, 4), (1, 8)] \n",
            "\n",
            "Therefore we have the following theorem based on Eulers findings: \n",
            " A prime number p can be expressed in the form x^2 + 8y^2 if and only if p is congruent to A modulo B such that [A,B] = [(1, 2), (1, 4), (1, 8)]. \n",
            "\n"
          ],
          "name": "stdout"
        }
      ]
    },
    {
      "cell_type": "code",
      "metadata": {
        "colab": {
          "base_uri": "https://localhost:8080/"
        },
        "id": "mhw25ZphCfNR",
        "outputId": "c0a295f4-e5ac-47b6-9c28-c0f50b0ada38"
      },
      "source": [
        "prime_np(100,9)"
      ],
      "execution_count": null,
      "outputs": [
        {
          "output_type": "stream",
          "text": [
            "From the list of 25 prime numbers in the range from 1 to 100, there are 5 prime numbers that satisfies the equation x^2 + 9y^2: \n",
            " [13, 37, 61, 73, 97] \n",
            " \n",
            "With those 5 prime numbers, we found 5 pairing(s) of [A,B] such that the pairing(s) satisfy the fact that p is congruent to A modulo B: \n",
            " [(1, 2), (1, 3), (1, 4), (1, 6), (1, 12)] \n",
            "\n",
            "Therefore we have the following theorem based on Eulers findings: \n",
            " A prime number p can be expressed in the form x^2 + 9y^2 if and only if p is congruent to A modulo B such that [A,B] = [(1, 2), (1, 3), (1, 4), (1, 6), (1, 12)]. \n",
            "\n"
          ],
          "name": "stdout"
        }
      ]
    },
    {
      "cell_type": "code",
      "metadata": {
        "colab": {
          "base_uri": "https://localhost:8080/"
        },
        "id": "tVYWp8IKDl2B",
        "outputId": "c9b875b6-219a-4f2b-ad44-44e5076d84a0"
      },
      "source": [
        ""
      ],
      "execution_count": null,
      "outputs": [
        {
          "output_type": "stream",
          "text": [
            "1\n"
          ],
          "name": "stdout"
        }
      ]
    },
    {
      "cell_type": "code",
      "metadata": {
        "id": "j9oEv3eTEyuS"
      },
      "source": [
        ""
      ],
      "execution_count": null,
      "outputs": []
    },
    {
      "cell_type": "markdown",
      "metadata": {
        "id": "Zg0Nc1e6aDi7"
      },
      "source": [
        "### Challenge 4:\n",
        "\n"
      ]
    },
    {
      "cell_type": "markdown",
      "metadata": {
        "id": "Z_qXyQWafhsv"
      },
      "source": [
        "#### Challenge Problem: "
      ]
    },
    {
      "cell_type": "markdown",
      "metadata": {
        "id": "KlA_sOWdLteO"
      },
      "source": [
        "\r\n",
        "Pascal's triangle has $1$ in the first row, then $1, 1$ in the second rod, then $1,2,1$ in the third row, etc.  One can place these numbers in a triangle, with \"rows\" as diagonals, as drawn below.\r\n",
        "\r\n",
        "1 1 1 1 1 1\r\n",
        "\r\n",
        "1 2 3 4 5\r\n",
        "\r\n",
        "1 3 6 10\r\n",
        "\r\n",
        "1 4 10\r\n",
        "\r\n",
        "1 5\r\n",
        "\r\n",
        "1\r\n",
        "\r\n",
        "Et cetera.\r\n",
        "\r\n",
        "Turn these numbers into black and white dots, depending on whether they are even (black) or odd (white).  This produces an image like the following:\r\n",
        "\r\n",
        "X X X X X X\r\n",
        "\r\n",
        "X O X O X\r\n",
        "\r\n",
        "X X O O\r\n",
        "\r\n",
        "X O O\r\n",
        "\r\n",
        "X X\r\n",
        "\r\n",
        "X\r\n",
        "\r\n",
        "Now perform this in PIL, to create an image that fills the top-left triangle in an image of at least 200 x 200 pixels.  You should *not* be computing giant numbers like 200 factorial!  Each row of Pascal's triangle can be computed from the previous by addition... and you can perform this \"mod 2\" all the way through.\r\n",
        "\r\n",
        "Extra fun:  instead of black/white dots for even/odd, try colors based on remainders after dividing by three, by four, etc."
      ]
    },
    {
      "cell_type": "markdown",
      "metadata": {
        "id": "DPQTFqYpVZIJ"
      },
      "source": [
        "#### Representing Modulo 2 of Pascal Triangle Coefficients with Black & White Dots:"
      ]
    },
    {
      "cell_type": "markdown",
      "metadata": {
        "id": "x91TuZmHZImj"
      },
      "source": [
        "I start off with a black square, and from there, every odd number that the function detects will be plotted onto that black square with a white dot. To create the overall black and white image, for each coefficient of the Pascal Triangle, I determined whether those values are odd or even using Modulo 2. If the remainder is 1, then that value is odd and will be drawn onto the `tri` black square as a dot. If the remainder is 0, then the value is even and will be jotted as a black dot onto the square (which may not be as noticeable because the square is already black). Ultimately, we achieve the following image below: (the other triangular half of the image is black because that side of the matrix has values of 0, in which Python reads those values to be even, so that side remains black)\r\n",
        "\r\n",
        "Something to note that the `n` input that I chose was very specific so that we could get a full half view of the triange image. There are some `n` values that create an image that does show a complete half view of the triangle view, where it goes beyond the half triangle line, as shown when `n=1001`, and it simply looks broken/imcomplete. "
      ]
    },
    {
      "cell_type": "code",
      "metadata": {
        "id": "fWjApdlBzSsJ"
      },
      "source": [
        "# Pascal function, input n indicates (nxn) matrix and nth row \r\n",
        "def pascal2(n): \r\n",
        "  # start pascal matrix with a nxn matrix of 0\r\n",
        "  pascal = np.zeros((n,n))\r\n",
        "  pascal[0,:] = np.array([1]*n)\r\n",
        "  pascal[:,0] = np.array([1]*n)\r\n",
        "\r\n",
        "  # start tri pic matrix with a nxn matrix with 3 coordinates as black square\r\n",
        "  tri = np.zeros((n,n,3), dtype=np.uint8)\r\n",
        "  tri[0,:] = (255, 255, 255)\r\n",
        "  tri[:,0] = (255, 255, 255)\r\n",
        " \r\n",
        " # calculates value for pascal, value then goes through mod2 loop to see\r\n",
        " # if black or white dot \r\n",
        "  for row in range(1,n):\r\n",
        "    for col in range(1,n-row):\r\n",
        "      pascal[row,col] = (pascal[row-1,col] + pascal[row,col-1]) % 2\r\n",
        "      if pascal[row,col] == 0: \r\n",
        "        tri[row, col] = (0, 0, 0)\r\n",
        "      else: \r\n",
        "        tri[row, col] = (255, 255, 255)    \r\n",
        "\r\n",
        "  img = Image.fromarray(tri)\r\n",
        "  display(img)"
      ],
      "execution_count": null,
      "outputs": []
    },
    {
      "cell_type": "code",
      "metadata": {
        "colab": {
          "base_uri": "https://localhost:8080/",
          "height": 273
        },
        "id": "BquXeBFBRCPI",
        "outputId": "db29ce7e-c0f5-4bb2-906d-11f8d5277e26"
      },
      "source": [
        "pascal2(256)"
      ],
      "execution_count": null,
      "outputs": [
        {
          "output_type": "display_data",
          "data": {
            "image/png": "[encoded data removed]",
            "text/plain": [
              "<PIL.Image.Image image mode=RGB size=256x256 at 0x7FAFBA2A3E50>"
            ]
          },
          "metadata": {
            "tags": []
          }
        }
      ]
    },
    {
      "cell_type": "code",
      "metadata": {
        "colab": {
          "base_uri": "https://localhost:8080/",
          "height": 529
        },
        "id": "BMhfqRcYzXYj",
        "outputId": "f7610011-23bf-4f6b-cff3-12552f01cca1"
      },
      "source": [
        "pascal2(512)"
      ],
      "execution_count": null,
      "outputs": [
        {
          "output_type": "display_data",
          "data": {
            "image/png": "[encoded data removed]",
            "text/plain": [
              "<PIL.Image.Image image mode=RGB size=512x512 at 0x7FAFBA1DD550>"
            ]
          },
          "metadata": {
            "tags": []
          }
        }
      ]
    },
    {
      "cell_type": "code",
      "metadata": {
        "colab": {
          "base_uri": "https://localhost:8080/",
          "height": 1000
        },
        "id": "o8DSvyi2e4tc",
        "outputId": "93f35d63-7e85-4ecc-c641-f041ca49e8be"
      },
      "source": [
        "pascal2(1001)"
      ],
      "execution_count": null,
      "outputs": [
        {
          "output_type": "display_data",
          "data": {
            "image/png": "[encoded data removed]",
            "text/plain": [
              "<PIL.Image.Image image mode=RGB size=1001x1001 at 0x7FAFBA1B0F50>"
            ]
          },
          "metadata": {
            "tags": []
          }
        }
      ]
    },
    {
      "cell_type": "markdown",
      "metadata": {
        "id": "ebbLzznvVhix"
      },
      "source": [
        "#### Representing Modulo 3 of Pascal Triangle Coefficients with Black, Blue, & Green Dots"
      ]
    },
    {
      "cell_type": "markdown",
      "metadata": {
        "id": "YFlAU6QIcBIy"
      },
      "source": [
        "Similar to the previous Modulo 2 section, I began with a black square, and from there, for each coefficient of the Pascal Triangle, if the remainder is 1, then \r\n",
        "a blue dot will drawn, while if the remainder is 2, then a green dot will drawn onto the square. Otherwise, a black dot is drawn onto the `tri` square if the remainder is 0. The other triangular half of the image remains black because that lower side of the matrix all have values of 0. Because Python reads those values to be even, that side remains black. "
      ]
    },
    {
      "cell_type": "code",
      "metadata": {
        "id": "xc7SUH3RVqEA"
      },
      "source": [
        "# Pascal function, input n indicates (nxn) matrix and nth row \r\n",
        "def pascal3(n): \r\n",
        "  # start pascal matrix with a nxn matrix of 0\r\n",
        "  pascal = np.zeros((n,n))\r\n",
        "  pascal[0,:] = np.array([1]*n)\r\n",
        "  pascal[:,0] = np.array([1]*n)\r\n",
        "\r\n",
        "  # start tri pic matrix with a nxn matrix with 3 coordinates as black square\r\n",
        "  tri = np.zeros((n,n,3), dtype=np.uint8)\r\n",
        "  tri[0,:] = (255, 255, 255)\r\n",
        "  tri[:,0] = (255, 255, 255)\r\n",
        "\r\n",
        " # calculates value for pascal, value then goes through mod3 loop to see\r\n",
        " # if black, green, or blue dot \r\n",
        "  for row in range(1,n):\r\n",
        "    for col in range(1,n-row):\r\n",
        "      pascal[row,col] = (pascal[row-1,col] + pascal[row,col-1]) % 3\r\n",
        "      if pascal[row,col] == 0: \r\n",
        "        tri[row, col] = (0, 0, 0)\r\n",
        "      elif pascal[row,col] == 1:\r\n",
        "        tri[row, col] = (0,0,255)    \r\n",
        "      else: \r\n",
        "        tri[row, col] = (0, 255, 0)\r\n",
        "\r\n",
        "  img = Image.fromarray(tri)\r\n",
        "  display(img)"
      ],
      "execution_count": null,
      "outputs": []
    },
    {
      "cell_type": "code",
      "metadata": {
        "colab": {
          "base_uri": "https://localhost:8080/",
          "height": 746
        },
        "id": "Juxno7jRWCbB",
        "outputId": "cf8d7df9-3c3c-4879-fbf5-7f35cbed4276"
      },
      "source": [
        "pascal3(729)"
      ],
      "execution_count": null,
      "outputs": [
        {
          "output_type": "display_data",
          "data": {
            "image/png": "[encoded data removed]",
            "text/plain": [
              "<PIL.Image.Image image mode=RGB size=729x729 at 0x7FAFBA1B0C90>"
            ]
          },
          "metadata": {
            "tags": []
          }
        }
      ]
    },
    {
      "cell_type": "markdown",
      "metadata": {
        "id": "48zgSE8hYkI9"
      },
      "source": [
        "#### Representing Modulo 4 of Pascal Triangle Coefficients with Black, Blue, Green, & Red Dots"
      ]
    },
    {
      "cell_type": "markdown",
      "metadata": {
        "id": "ta0ySH1Pc1BV"
      },
      "source": [
        "From this point and beyond, to achieve an image that represents either modulo 4, modulo 5, or modulo 7 of the Pascal Triangle Coefficients, we would implement the same function as `pascal2(n)`, but would instead add a couple more `if` and `elif` statements to account for other remainders outside of just `1` and `2`. Thus, presented below is the color dot scheme for modulo 4: \r\n",
        "\r\n",
        "\r\n",
        "1.   Remainder of 0 = Black\r\n",
        "2.   Remainder of 1 = Blue\r\n",
        "3.   Remainder of 2 = Red\r\n",
        "4.   Remainder of 3 = Green \r\n",
        "\r\n",
        "\r\n",
        "\r\n",
        "\r\n",
        "\r\n"
      ]
    },
    {
      "cell_type": "code",
      "metadata": {
        "id": "aUTlCg3KYkJI"
      },
      "source": [
        "# Pascal function, input n indicates (nxn) matrix and nth row \r\n",
        "def pascal4(n): \r\n",
        "  # start pascal matrix with a nxn matrix of 0\r\n",
        "  pascal = np.zeros((n,n))\r\n",
        "  pascal[0,:] = np.array([1]*n)\r\n",
        "  pascal[:,0] = np.array([1]*n)\r\n",
        "\r\n",
        "  # start tri pic matrix with a nxn matrix with 3 coordinates as black square\r\n",
        "  tri = np.zeros((n,n,3), dtype=np.uint8)\r\n",
        "  tri[0,:] = (255, 255, 255)\r\n",
        "  tri[:,0] = (255, 255, 255)\r\n",
        "  \r\n",
        " # calculates value for pascal, value then goes through mod4 loop to see\r\n",
        " # if black, green, red, or blue dot \r\n",
        "  for row in range(1,n):\r\n",
        "    for col in range(1,n-row):\r\n",
        "      pascal[row,col] = (pascal[row-1,col] + pascal[row,col-1]) % 4\r\n",
        "      if pascal[row,col] == 0: \r\n",
        "        tri[row, col] = (0, 0, 0)\r\n",
        "      elif pascal[row,col] == 1:\r\n",
        "        tri[row, col] = (0,0,255)\r\n",
        "      elif pascal[row,col] == 2:\r\n",
        "        tri[row, col] = (255,0,0)    \r\n",
        "      else: \r\n",
        "        tri[row, col] = (0, 255, 0)\r\n",
        "\r\n",
        "  img = Image.fromarray(tri)\r\n",
        "  display(img)"
      ],
      "execution_count": null,
      "outputs": []
    },
    {
      "cell_type": "code",
      "metadata": {
        "colab": {
          "base_uri": "https://localhost:8080/",
          "height": 1000
        },
        "id": "zz1P0pR7YkJI",
        "outputId": "8598acad-a171-4146-c5b4-c454da96baf4"
      },
      "source": [
        "pascal4(1024)"
      ],
      "execution_count": null,
      "outputs": [
        {
          "output_type": "display_data",
          "data": {
            "image/png": "[encoded data removed]",
            "text/plain": [
              "<PIL.Image.Image image mode=RGB size=1024x1024 at 0x7FAFBA1EB5D0>"
            ]
          },
          "metadata": {
            "tags": []
          }
        }
      ]
    },
    {
      "cell_type": "markdown",
      "metadata": {
        "id": "ZqQ34DdoaYz0"
      },
      "source": [
        "#### Representing Modulo 5 of Pascal Triangle Coefficients with Black, Blue, Green, Red, & Purple Dots"
      ]
    },
    {
      "cell_type": "markdown",
      "metadata": {
        "id": "2R9VkacldfcR"
      },
      "source": [
        "Presented below is the color dot scheme for modulo 5: \r\n",
        "\r\n",
        "\r\n",
        "1.   Remainder of 0 = Black\r\n",
        "2.   Remainder of 1 = Blue\r\n",
        "3.   Remainder of 2 = Red\r\n",
        "4.   Remainder of 3 = Purple \r\n",
        "5.   Remainder of 4 = Green"
      ]
    },
    {
      "cell_type": "code",
      "metadata": {
        "id": "XvqX9HxBaYz1"
      },
      "source": [
        "# Pascal function, input n indicates (nxn) matrix and nth row \r\n",
        "def pascal5(n): \r\n",
        "  # start pascal matrix with a nxn matrix of 0\r\n",
        "  pascal = np.zeros((n,n))\r\n",
        "  pascal[0,:] = np.array([1]*n)\r\n",
        "  pascal[:,0] = np.array([1]*n)\r\n",
        "\r\n",
        "  # start tri pic matrix with a nxn matrix with 3 coordinates as black square\r\n",
        "  tri = np.zeros((n,n,3), dtype=np.uint8)\r\n",
        "  tri[0,:] = (255, 255, 255)\r\n",
        "  tri[:,0] = (255, 255, 255)\r\n",
        "  \r\n",
        " # calculates value for pascal, value then goes through mod5 loop to see\r\n",
        " # if black, green, red, purple, blue dot \r\n",
        "  for row in range(1,n):\r\n",
        "    for col in range(1,n-row):\r\n",
        "      pascal[row,col] = (pascal[row-1,col] + pascal[row,col-1]) % 5\r\n",
        "      if pascal[row,col] == 0: \r\n",
        "        tri[row, col] = (0, 0, 0)\r\n",
        "      elif pascal[row,col] == 1:\r\n",
        "        tri[row, col] = (0,0,255)\r\n",
        "      elif pascal[row,col] == 2:\r\n",
        "        tri[row, col] = (255,0,0)\r\n",
        "      elif pascal[row,col] == 3:\r\n",
        "        tri[row, col] = (255,0,255)    \r\n",
        "      else: \r\n",
        "        tri[row, col] = (0, 255, 0)\r\n",
        "\r\n",
        "  img = Image.fromarray(tri)\r\n",
        "  display(img)"
      ],
      "execution_count": null,
      "outputs": []
    },
    {
      "cell_type": "code",
      "metadata": {
        "colab": {
          "base_uri": "https://localhost:8080/",
          "height": 517
        },
        "id": "O_otB15vaYz1",
        "outputId": "d849ce59-a5a7-4fd5-d634-03bb6f069723"
      },
      "source": [
        "pascal5(500)"
      ],
      "execution_count": null,
      "outputs": [
        {
          "output_type": "display_data",
          "data": {
            "image/png": "[encoded data removed]",
            "text/plain": [
              "<PIL.Image.Image image mode=RGB size=500x500 at 0x7FAFBA2A3E90>"
            ]
          },
          "metadata": {
            "tags": []
          }
        }
      ]
    },
    {
      "cell_type": "markdown",
      "metadata": {
        "id": "w4Yq_rSfa7pI"
      },
      "source": [
        "#### Representing Modulo 7 of Pascal Triangle Coefficients with Black, Blue, Green, Red, Purple, Yellow, & Cyan Dots"
      ]
    },
    {
      "cell_type": "markdown",
      "metadata": {
        "id": "0bZEWuAKdiX-"
      },
      "source": [
        "Presented below is the color dot scheme for modulo 7: \r\n",
        "\r\n",
        "\r\n",
        "1.   Remainder of 0 = Black\r\n",
        "2.   Remainder of 1 = Blue\r\n",
        "3.   Remainder of 2 = Red\r\n",
        "4.   Remainder of 3 = Purple \r\n",
        "5.   Remainder of 4 = Cyan\r\n",
        "6.   Remainder of 5 = Green\r\n",
        "7.   Remainder of 6 = Yellow"
      ]
    },
    {
      "cell_type": "code",
      "metadata": {
        "id": "uJC93cFNa7pJ"
      },
      "source": [
        "# Pascal function, input n indicates (nxn) matrix and nth row \r\n",
        "def pascal7(n): \r\n",
        "  # start pascal matrix with a nxn matrix of 0\r\n",
        "  pascal = np.zeros((n,n))\r\n",
        "  pascal[0,:] = np.array([1]*n)\r\n",
        "  pascal[:,0] = np.array([1]*n)\r\n",
        "\r\n",
        "  # start tri pic matrix with a nxn matrix with 3 coordinates as black square\r\n",
        "  tri = np.zeros((n,n,3), dtype=np.uint8)\r\n",
        "  tri[0,:] = (255, 255, 255)\r\n",
        "  tri[:,0] = (255, 255, 255)\r\n",
        "  \r\n",
        " # calculates value for pascal, value then goes through mod7 loop to see\r\n",
        " # if black, green, red, purple, cyan, blue, or yellow dot \r\n",
        "  for row in range(1,n):\r\n",
        "    for col in range(1,n-row):\r\n",
        "      pascal[row,col] = (pascal[row-1,col] + pascal[row,col-1]) % 7\r\n",
        "      if pascal[row,col] == 0: \r\n",
        "        tri[row, col] = (0, 0, 0)\r\n",
        "      elif pascal[row,col] == 1:\r\n",
        "        tri[row, col] = (0,0,255)\r\n",
        "      elif pascal[row,col] == 2:\r\n",
        "        tri[row, col] = (255,0,0)\r\n",
        "      elif pascal[row,col] == 3:\r\n",
        "        tri[row, col] = (255,0,255)  \r\n",
        "      elif pascal[row,col] == 4:\r\n",
        "        tri[row, col] = (0,255,255)\r\n",
        "      elif pascal[row,col] == 5:\r\n",
        "        tri[row, col] = (0,255,0)  \r\n",
        "      else: \r\n",
        "        tri[row, col] = (255, 252, 56)\r\n",
        "\r\n",
        "  img = Image.fromarray(tri)\r\n",
        "  display(img)"
      ],
      "execution_count": null,
      "outputs": []
    },
    {
      "cell_type": "code",
      "metadata": {
        "colab": {
          "base_uri": "https://localhost:8080/",
          "height": 703
        },
        "id": "_KYTBqFga7pJ",
        "outputId": "c6b3e152-f522-4762-d500-2736d41f8d1f"
      },
      "source": [
        "pascal7(686)"
      ],
      "execution_count": null,
      "outputs": [
        {
          "output_type": "display_data",
          "data": {
            "image/png": "[encoded data removed]",
            "text/plain": [
              "<PIL.Image.Image image mode=RGB size=686x686 at 0x7FAFBA22FB50>"
            ]
          },
          "metadata": {
            "tags": []
          }
        }
      ]
    },
    {
      "cell_type": "markdown",
      "metadata": {
        "id": "VV_FYl9fa8cg"
      },
      "source": [
        "## Please **DON'T** Grade These:\r\n"
      ]
    },
    {
      "cell_type": "markdown",
      "metadata": {
        "id": "HJJWMj_8VdXg"
      },
      "source": [
        "### Challenge 1\n",
        "\n",
        "If $N$ is a positive integer, then $r_3(N)$ is the number of ways that $N$ can be expressed as the sum of three squares.  Order and sign matter, so for example\n",
        "$$6 = 1^2 + 1^2 + 2^2 = (-1)^2 + 1^2 + 2^2 = 2^2 + (-1)^2 + (-1)^2 = \\cdots$$\n",
        "These are all different ways of expressing 6 as the sum of three squares.  In fact, $r_3(6) = 8 \\cdot 3 = 24$.  The 8 comes from the fact that there are eight sign-choices, and the 3 comes from the three orderings (1,1,2) and (1,2,1) and (2,1,1).\n",
        "\n",
        "In other words, $r_3(N)$ is the number of elements in the following set:\n",
        "$$\\{ (a,b,c) \\in {\\mathbb Z}^3 : a^2 + b^2 + c^2 = N \\}.$$\n",
        "\n",
        "Write a function that computes $r_3(N)$ as efficiently as you can, for somewhat large values of $N$ (e.g., $N \\approx 1000$).\n",
        "\n",
        "You can check whether your function is behaving correctly, by comparing to the values found at the [Online Encyclopedia of Integer Sequences](https://oeis.org/A005875).\n",
        "\n",
        "\n"
      ]
    },
    {
      "cell_type": "code",
      "metadata": {
        "id": "MqXUlGr6UbAI"
      },
      "source": [
        "def rep_three(N):\n",
        "  return R # The result of your function should be R."
      ],
      "execution_count": null,
      "outputs": []
    },
    {
      "cell_type": "code",
      "metadata": {
        "id": "CCzEYimdUa9Z"
      },
      "source": [
        "rep_three(6) # This should output 24."
      ],
      "execution_count": null,
      "outputs": []
    },
    {
      "cell_type": "markdown",
      "metadata": {
        "id": "qRLhmGVkXd8K"
      },
      "source": [
        "### Challenge 2\n",
        "\n",
        "If $r$ is a positive real number, then the area of the circle of radius $r$ is $\\pi r^2$.  If you place this circle around the origin, on a sheet of graph paper, then you will find *about* $\\pi r^2$ \"grid points\" inside this circle.  The grid points inside the circle form the set\n",
        "$$S = \\{ (x,y) \\in {\\mathbb Z}^2 : x^2 + y^2 < r^2 \\}.$$\n",
        "\n",
        "Define $E(r) = \\pi r^2 - \\# S$ to be the \"error\" -- the difference between the area of the circle and the number of grid points within the circle.  \n",
        "\n",
        "Create a plot with $r$ on the horizontal axis and $E(r)$ on the y-axis.  Try to accomplish this as efficiently as possible, where $r$ ranges from $0$ to $1000$.\n",
        "\n",
        "Can you come up with a good bound $\\vert E(r) \\vert \\leq f(r)$ for some nice function $f(r)$, just by looking at your plot?  I.e., your plot of $E(r)$ should be bounded above by the graph of $y = f(r)$ and below by the graph of $y = -f(r)$.  If you can come up with such a bound, plot it too."
      ]
    },
    {
      "cell_type": "code",
      "metadata": {
        "id": "_gyzNqCaUavY"
      },
      "source": [
        ""
      ],
      "execution_count": null,
      "outputs": []
    },
    {
      "cell_type": "markdown",
      "metadata": {
        "id": "qjBNKFCd95sS"
      },
      "source": [
        "### Challenge 5\n",
        "\n",
        "Often when visualizing time-series data, it makes sense to look not at day-by-day changes, but rather at a 7-day rolling average.  For example, when looking at Covid-19 cases, there are reporting fluctuations from day to day, so instead it is usually better to look at the average number of cases over the previous 7 days.\n",
        "\n",
        "Write a function `def rolling(A, window=7):` which takes as input a one-dimensional numpy array `A`, and a parameter `window` whose default value is `7`.  The function must return an array `R` whose length is shorter than the length of `A`.  The entry `R[j]` should be the **average** of `A[j]`, `A[j+1]`, etc., up to `A[j+window-1]`.  \n",
        "\n",
        "Then use this function and matplotlib to produce a plot:  a line plot of the array `A` produced below, and a line plot of the 7-day rolling average `R` produced by your function.  These plots should be on the same figure, and clearly labeled.\n"
      ]
    },
    {
      "cell_type": "code",
      "metadata": {
        "id": "lu-pNl8SbeEG"
      },
      "source": [
        "# Here is the code to produce your test array A.\n",
        "# Please use this array in your plot!\n",
        "\n",
        "x_array = np.arange(300)\n",
        "A = 5*(x_array/200)**2\n",
        "A = A + np.random.random(len(A))"
      ],
      "execution_count": null,
      "outputs": []
    },
    {
      "cell_type": "code",
      "metadata": {
        "id": "oq5NDBV4_tCs"
      },
      "source": [
        "# Please use this code to import matplotlib.\n",
        "import matplotlib.pyplot as plt"
      ],
      "execution_count": null,
      "outputs": []
    },
    {
      "cell_type": "code",
      "metadata": {
        "id": "9BM_gTge_6rb"
      },
      "source": [
        "# Here is a plot of the array, to get you started.  \n",
        "plt.plot(x_array, A)\n",
        "\n",
        "# Now it's time to write your function to produce the 7-day rolling average, add it to the plot, and make everything clear and labeled."
      ],
      "execution_count": null,
      "outputs": []
    },
    {
      "cell_type": "code",
      "metadata": {
        "id": "3OlNFd1xJ1CV"
      },
      "source": [
        ""
      ],
      "execution_count": null,
      "outputs": []
    }
  ]
}