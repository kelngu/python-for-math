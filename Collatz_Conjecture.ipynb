{
  "nbformat": 4,
  "nbformat_minor": 0,
  "metadata": {
    "colab": {
      "name": "Collatz_Conjecture.ipynb",
      "provenance": [],
      "collapsed_sections": [],
      "include_colab_link": true
    },
    "kernelspec": {
      "name": "python3",
      "display_name": "Python 3"
    }
  },
  "cells": [
    {
      "cell_type": "markdown",
      "metadata": {
        "id": "view-in-github",
        "colab_type": "text"
      },
      "source": [
        "<a href=\"https://colab.research.google.com/github/kelngu/python-for-math/blob/main/Collatz_Conjecture.ipynb\" target=\"_parent\"><img src=\"https://colab.research.google.com/assets/colab-badge.svg\" alt=\"Open In Colab\"/></a>"
      ]
    },
    {
      "cell_type": "markdown",
      "metadata": {
        "id": "TtTWFPmINgMK"
      },
      "source": [
        "#Collatz Conjecture\n",
        "##Group 3\n",
        "###Edward Hayden, Miles Mitchell, Kevin Nguyen, Tatiana Godinez"
      ]
    },
    {
      "cell_type": "code",
      "metadata": {
        "id": "LB0GS9OXcw2k"
      },
      "source": [
        "import math\n",
        "import matplotlib.pyplot as plt"
      ],
      "execution_count": null,
      "outputs": []
    },
    {
      "cell_type": "markdown",
      "metadata": {
        "id": "LaoJPO0pN5HC"
      },
      "source": [
        "##**Functions**\n",
        "###adding something \n"
      ]
    },
    {
      "cell_type": "code",
      "metadata": {
        "id": "efNd_IkGZzRg"
      },
      "source": [
        "def collatz_steps(n,printit): \n",
        "\n",
        "  '''\n",
        "  \n",
        "  Returns the number of steps it takes for the Collatz\n",
        "  map to reach the limit cycle.\n",
        "  Prints this number if printit == true.\n",
        "\n",
        "  args: integer n, boolean printit\n",
        "\n",
        "  return: number of steps it takes to reach the limit cycle\n",
        "\n",
        "  '''   \n",
        "  steps = 0                     \n",
        "  while n != 4:                  \n",
        "    steps += 1\n",
        "    if n%2 == 0:\n",
        "      n = n/2\n",
        "    else:  \n",
        "      n = 3*n +1\n",
        "  if printit:\n",
        "    print(\"It took {} steps to reach our limit cycle\".format(steps))\n",
        "  return steps  "
      ],
      "execution_count": null,
      "outputs": []
    },
    {
      "cell_type": "code",
      "metadata": {
        "id": "0yMa0zHYE1-i"
      },
      "source": [
        "def collatz_plot(n):\n",
        "  '''\n",
        "  \n",
        "  This function creates a scatter plot of the bahavior of the Collatz map \n",
        "  applied to an integer n.\n",
        "\n",
        "  args: integer n\n",
        "\n",
        "  return: scatter plot\n",
        "\n",
        "  '''\n",
        "  steps = 0\n",
        "  nlist = list()\n",
        "  while n != 4:\n",
        "    nlist.append(n)\n",
        "    steps += 1\n",
        "    if n%2 == 0:\n",
        "      n = n/2\n",
        "    else:  \n",
        "      n = 3*n +1\n",
        "  allsteps = range(steps)      \n",
        "  plt.scatter(allsteps,nlist)    \n",
        "  plt.show()  "
      ],
      "execution_count": null,
      "outputs": []
    },
    {
      "cell_type": "code",
      "metadata": {
        "id": "wYFAsogok4eo"
      },
      "source": [
        "def collatz_show(bound):\n",
        "\n",
        "  '''\n",
        "\n",
        "  This function creates a bar graph of the time it takes for each integer up to \n",
        "  n to reach the limit cycle under the Collatz map\n",
        "\n",
        "  args: integer n\n",
        "\n",
        "  return: bar plot of return times in [1,n-1]\n",
        "\n",
        "  '''\n",
        "\n",
        "  stepslist = list()\n",
        "  for n in range(bound):\n",
        "    stepslist.append(collatz_steps(n+1,0))\n",
        "  plt.bar(range(bound),stepslist) \n",
        "  plt.show() \n",
        "  "
      ],
      "execution_count": null,
      "outputs": []
    },
    {
      "cell_type": "code",
      "metadata": {
        "colab": {
          "base_uri": "https://localhost:8080/"
        },
        "id": "uHlswZFgE9ER",
        "outputId": "69a5fbc4-7304-4fc2-dad8-f68020101600"
      },
      "source": [
        "collatz_steps(500,1)"
      ],
      "execution_count": null,
      "outputs": [
        {
          "output_type": "stream",
          "text": [
            "It took 108 steps to reach our limit cycle\n"
          ],
          "name": "stdout"
        },
        {
          "output_type": "execute_result",
          "data": {
            "text/plain": [
              "108"
            ]
          },
          "metadata": {
            "tags": []
          },
          "execution_count": 12
        }
      ]
    },
    {
      "cell_type": "code",
      "metadata": {
        "colab": {
          "base_uri": "https://localhost:8080/",
          "height": 265
        },
        "id": "OdMEo9LTE8v0",
        "outputId": "789e36be-929c-41b4-ced1-6e8cbd37f26f"
      },
      "source": [
        "collatz_plot(4000)"
      ],
      "execution_count": null,
      "outputs": [
        {
          "output_type": "display_data",
          "data": {
            "image/png": "[encoded data removed]",
            "text/plain": [
              "<Figure size 432x288 with 1 Axes>"
            ]
          },
          "metadata": {
            "tags": [],
            "needs_background": "light"
          }
        }
      ]
    },
    {
      "cell_type": "code",
      "metadata": {
        "colab": {
          "base_uri": "https://localhost:8080/",
          "height": 265
        },
        "id": "PaEy_iojZ-if",
        "outputId": "581b9880-4459-423e-e844-fd654c56412b"
      },
      "source": [
        "collatz_show(5000)"
      ],
      "execution_count": null,
      "outputs": [
        {
          "output_type": "display_data",
          "data": {
            "image/png": "[encoded data removed]",
            "text/plain": [
              "<Figure size 432x288 with 1 Axes>"
            ]
          },
          "metadata": {
            "tags": [],
            "needs_background": "light"
          }
        }
      ]
    },
    {
      "cell_type": "code",
      "metadata": {
        "id": "VApflVM4O2Jh",
        "colab": {
          "base_uri": "https://localhost:8080/",
          "height": 130
        },
        "outputId": "60fbb4cd-c15b-4ab6-b44f-69bfab9b8937"
      },
      "source": [
        "def collatz_verbose(n):\r\n",
        "  '''\r\n",
        "  Prints the orbit of n\r\n",
        "  '''\r\n",
        "    while n != 1:\r\n",
        "        print(n)\r\n",
        "        if n % 2 == 0:\r\n",
        "            n //= 2\r\n",
        "        else:\r\n",
        "            n = (3 * n + 1) // 2\r\n",
        "    return"
      ],
      "execution_count": null,
      "outputs": [
        {
          "output_type": "error",
          "ename": "IndentationError",
          "evalue": "ignored",
          "traceback": [
            "\u001b[0;36m  File \u001b[0;32m\"<ipython-input-15-a119b3ae6f0c>\"\u001b[0;36m, line \u001b[0;32m5\u001b[0m\n\u001b[0;31m    while n != 1:\u001b[0m\n\u001b[0m    ^\u001b[0m\n\u001b[0;31mIndentationError\u001b[0m\u001b[0;31m:\u001b[0m unexpected indent\n"
          ]
        }
      ]
    },
    {
      "cell_type": "code",
      "metadata": {
        "id": "uLmOGV6XO6t-"
      },
      "source": [
        "def collatz_iterations(n):\r\n",
        "  '''\r\n",
        "  Return how many iterations it takes for\r\n",
        "  n to go to 1\r\n",
        "  '''\r\n",
        "    iterations = 0\r\n",
        "    while n != 1:\r\n",
        "        if n % 2 == 0:\r\n",
        "            n //= 2\r\n",
        "        else:\r\n",
        "            n = (3 * n + 1) // 2\r\n",
        "        iterations += 1\r\n",
        "    return iterations"
      ],
      "execution_count": null,
      "outputs": []
    },
    {
      "cell_type": "code",
      "metadata": {
        "id": "Kp4UC2bfO91u"
      },
      "source": [
        "def collatz_check(n):\r\n",
        "  '''\r\n",
        "  Returns True if n passes\r\n",
        "  the Collatz conjecture\r\n",
        "  '''\r\n",
        "    while n-1:\r\n",
        "        if n % 2 == 0:\r\n",
        "            n //= 2\r\n",
        "        else:\r\n",
        "            n = (3 * n + 1) // 2\r\n",
        "    return True"
      ],
      "execution_count": null,
      "outputs": []
    },
    {
      "cell_type": "code",
      "metadata": {
        "id": "88625v0YO_hu"
      },
      "source": [
        "for i in range(2,10**6):\r\n",
        "    if collatz_check(i) != True:\r\n",
        "        print(\"Fields Medal!!!\", i)\r\n",
        "print(\"Check complete.\")  "
      ],
      "execution_count": null,
      "outputs": []
    },
    {
      "cell_type": "code",
      "metadata": {
        "id": "4abKiPwvPAGR"
      },
      "source": [
        "def find_max_iter(n):\r\n",
        "  '''\r\n",
        "  Checks for the number with the longest orbit\r\n",
        "  up to n. Returns a tuple. The first value is\r\n",
        "  the number, the second value is the number of \r\n",
        "  iterations.\r\n",
        "  \r\n",
        "  '''\r\n",
        "    max_iter = 0\r\n",
        "    max_iter_n = 0\r\n",
        "    for i in range(2,n+1):\r\n",
        "        i_iter = collatz_iterations(i)\r\n",
        "        if i_iter > max_iter:\r\n",
        "            max_iter = i_iter\r\n",
        "            max_iter_n = i\r\n",
        "    return max_iter_n, max_iter"
      ],
      "execution_count": null,
      "outputs": []
    }
  ]
}