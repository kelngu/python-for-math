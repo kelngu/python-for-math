{
  "nbformat": 4,
  "nbformat_minor": 0,
  "metadata": {
    "colab": {
      "name": "NguyenKevin_Collatz_Conjecture.ipynb",
      "provenance": [],
      "collapsed_sections": [],
      "include_colab_link": true
    },
    "kernelspec": {
      "name": "python3",
      "display_name": "Python 3"
    }
  },
  "cells": [
    {
      "cell_type": "markdown",
      "metadata": {
        "id": "view-in-github",
        "colab_type": "text"
      },
      "source": [
        "<a href=\"https://colab.research.google.com/github/kelngu/python-for-math/blob/main/NguyenKevin_Collatz_Conjecture.ipynb\" target=\"_parent\"><img src=\"https://colab.research.google.com/assets/colab-badge.svg\" alt=\"Open In Colab\"/></a>"
      ]
    },
    {
      "cell_type": "markdown",
      "metadata": {
        "id": "2y-dmgn58niR"
      },
      "source": [
        "# Import Library"
      ]
    },
    {
      "cell_type": "code",
      "metadata": {
        "id": "z02kAwp-8q83"
      },
      "source": [
        "import math\r\n",
        "import matplotlib.pyplot as plt"
      ],
      "execution_count": 10,
      "outputs": []
    },
    {
      "cell_type": "markdown",
      "metadata": {
        "id": "TtTWFPmINgMK"
      },
      "source": [
        "#Collatz Conjecture\n",
        "##Group 3\n",
        "###Edward Hayden, Miles Mitchell, Kevin Nguyen, Tatiana Godinez"
      ]
    },
    {
      "cell_type": "markdown",
      "metadata": {
        "id": "O1T-kr3f0T9A"
      },
      "source": [
        "## `3n + 1`"
      ]
    },
    {
      "cell_type": "markdown",
      "metadata": {
        "id": "4u0UbmEF0yiE"
      },
      "source": [
        "### Function"
      ]
    },
    {
      "cell_type": "code",
      "metadata": {
        "id": "efNd_IkGZzRg"
      },
      "source": [
        "def collatz_steps(n,printit): \n",
        "\n",
        "  '''\n",
        "  \n",
        "  Returns the number of steps it takes for the Collatz\n",
        "  map to reach the limit cycle.\n",
        "  Prints this number if printit == true.\n",
        "\n",
        "  args: integer n, boolean printit\n",
        "\n",
        "  return: number of steps it takes to reach the limit cycle\n",
        "\n",
        "  '''   \n",
        "  steps = 0                     \n",
        "  while n != 1:                  \n",
        "    steps += 1\n",
        "    if n%2 == 0:\n",
        "      n = n/2\n",
        "    else:  \n",
        "      n = 3*n +1\n",
        "  if printit:\n",
        "    print(\"It took {} steps to reach our limit cycle\".format(steps))\n",
        "  return steps  "
      ],
      "execution_count": 5,
      "outputs": []
    },
    {
      "cell_type": "code",
      "metadata": {
        "colab": {
          "base_uri": "https://localhost:8080/"
        },
        "id": "uHlswZFgE9ER",
        "outputId": "0910d073-f36e-4908-a62a-1e942a45b3ed"
      },
      "source": [
        "collatz_steps(61440,1)"
      ],
      "execution_count": null,
      "outputs": [
        {
          "output_type": "stream",
          "text": [
            "It took 29 steps to reach our limit cycle\n"
          ],
          "name": "stdout"
        },
        {
          "output_type": "execute_result",
          "data": {
            "text/plain": [
              "29"
            ]
          },
          "metadata": {
            "tags": []
          },
          "execution_count": 8
        }
      ]
    },
    {
      "cell_type": "markdown",
      "metadata": {
        "id": "-PcBONACz_73"
      },
      "source": [
        "### Collatz Plots"
      ]
    },
    {
      "cell_type": "code",
      "metadata": {
        "id": "0yMa0zHYE1-i"
      },
      "source": [
        "def collatz_plot(n):\n",
        "  '''\n",
        "  \n",
        "  This function creates a scatter plot of the bahavior of the Collatz map \n",
        "  applied to an integer n.\n",
        "\n",
        "  args: integer n\n",
        "\n",
        "  return: scatter plot\n",
        "\n",
        "  '''\n",
        "  steps = 0\n",
        "  nlist = list()\n",
        "  while n != 4:\n",
        "    nlist.append(n)\n",
        "    steps += 1\n",
        "    if n%2 == 0:\n",
        "      n = n/2\n",
        "    else:  \n",
        "      n = 3*n +1\n",
        "  allsteps = range(steps)      \n",
        "  plt.scatter(allsteps,nlist)    \n",
        "  plt.show()  "
      ],
      "execution_count": null,
      "outputs": []
    },
    {
      "cell_type": "code",
      "metadata": {
        "id": "wYFAsogok4eo"
      },
      "source": [
        "def collatz_show(bound):\n",
        "\n",
        "  '''\n",
        "\n",
        "  This function creates a bar graph of the time it takes for each integer up to \n",
        "  n to reach the limit cycle under the Collatz map\n",
        "\n",
        "  args: integer n\n",
        "\n",
        "  return: bar plot of return times in [1,n-1]\n",
        "\n",
        "  '''\n",
        "\n",
        "  stepslist = list()\n",
        "  for n in range(bound):\n",
        "    stepslist.append(collatz_steps(n+1,0))\n",
        "  plt.bar(range(bound),stepslist) \n",
        "  plt.show() \n",
        "  "
      ],
      "execution_count": null,
      "outputs": []
    },
    {
      "cell_type": "code",
      "metadata": {
        "id": "PaEy_iojZ-if"
      },
      "source": [
        "collatz_show(500)"
      ],
      "execution_count": null,
      "outputs": []
    },
    {
      "cell_type": "code",
      "metadata": {
        "colab": {
          "base_uri": "https://localhost:8080/",
          "height": 265
        },
        "id": "OdMEo9LTE8v0",
        "outputId": "0eab1229-712c-4488-f2b7-be2628312e58"
      },
      "source": [
        "collatz_plot(43008)"
      ],
      "execution_count": null,
      "outputs": [
        {
          "output_type": "display_data",
          "data": {
            "image/png": "[encoded data removed]",
            "text/plain": [
              "<Figure size 432x288 with 1 Axes>"
            ]
          },
          "metadata": {
            "tags": [],
            "needs_background": "light"
          }
        }
      ]
    },
    {
      "cell_type": "markdown",
      "metadata": {
        "id": "o5bMDAtgzvEd"
      },
      "source": [
        "Notice that as `n` increases and approaches infinity, the plot appears to look like a negative, decreasing exponential function. "
      ]
    },
    {
      "cell_type": "code",
      "metadata": {
        "id": "5ZMKPhBh0YEG"
      },
      "source": [
        ""
      ],
      "execution_count": null,
      "outputs": []
    },
    {
      "cell_type": "code",
      "metadata": {
        "id": "ryrAFGCFz8yU"
      },
      "source": [
        ""
      ],
      "execution_count": null,
      "outputs": []
    },
    {
      "cell_type": "markdown",
      "metadata": {
        "id": "NbpRoBqy2ghA"
      },
      "source": [
        "## `3n - 1`"
      ]
    },
    {
      "cell_type": "markdown",
      "metadata": {
        "id": "lbMOFhxu2ghE"
      },
      "source": [
        "### Function"
      ]
    },
    {
      "cell_type": "code",
      "metadata": {
        "id": "41Zn_Xs72ghE"
      },
      "source": [
        "def collatz_steps(n,printit): \n",
        "\n",
        "  '''\n",
        "  \n",
        "  Returns the number of steps it takes for the Collatz\n",
        "  map to reach the limit cycle.\n",
        "  Prints this number if printit == true.\n",
        "\n",
        "  args: integer n, boolean printit\n",
        "\n",
        "  return: number of steps it takes to reach the limit cycle\n",
        "\n",
        "  '''   \n",
        "  steps = 0                     \n",
        "  while n != 1:                  \n",
        "    steps += 1\n",
        "    if n%2 == 0:\n",
        "      n = n/2\n",
        "    else:  \n",
        "      n = 3*n - 1\n",
        "  if printit:\n",
        "    print(\"It took {} steps to reach our limit cycle\".format(steps))\n",
        "  return steps  "
      ],
      "execution_count": null,
      "outputs": []
    },
    {
      "cell_type": "markdown",
      "metadata": {
        "id": "AFhOMBHD2ghF"
      },
      "source": [
        "### Collatz Plots"
      ]
    },
    {
      "cell_type": "code",
      "metadata": {
        "id": "kQYiOhFu2ghF"
      },
      "source": [
        "def collatz_plot(n):\n",
        "  '''\n",
        "  \n",
        "  This function creates a scatter plot of the bahavior of the Collatz map \n",
        "  applied to an integer n.\n",
        "\n",
        "  args: integer n\n",
        "\n",
        "  return: scatter plot\n",
        "\n",
        "  '''\n",
        "  steps = 0\n",
        "  nlist = list()\n",
        "  while n != 4:\n",
        "    nlist.append(n)\n",
        "    steps += 1\n",
        "    if n%2 == 0:\n",
        "      n = n/2\n",
        "    else:  \n",
        "      n = 3*n - 1\n",
        "  allsteps = range(steps)      \n",
        "  plt.scatter(allsteps,nlist)    \n",
        "  plt.show()  "
      ],
      "execution_count": null,
      "outputs": []
    },
    {
      "cell_type": "code",
      "metadata": {
        "id": "tSU5mrQe2ghF"
      },
      "source": [
        "def collatz_plot(n):\r\n",
        "  '''\r\n",
        "  \r\n",
        "  This function creates a scatter plot of the bahavior of the Collatz map \r\n",
        "  applied to an integer n.\r\n",
        "\r\n",
        "  args: integer n\r\n",
        "\r\n",
        "  return: scatter plot\r\n",
        "\r\n",
        "  '''\r\n",
        "  steps = 0\r\n",
        "  nlist = list()\r\n",
        "  while n != 4:\r\n",
        "    nlist.append(n)\r\n",
        "    steps += 1\r\n",
        "    if n%2 == 0:\r\n",
        "      n = n/2\r\n",
        "    else:  \r\n",
        "      n = 3*n - 1\r\n",
        "  allsteps = range(steps)      \r\n",
        "  plt.scatter(allsteps,nlist)    \r\n",
        "  plt.show()"
      ],
      "execution_count": null,
      "outputs": []
    },
    {
      "cell_type": "code",
      "metadata": {
        "id": "ZdQPxKBP2ghG"
      },
      "source": [
        "def collatz_show(bound):\n",
        "\n",
        "  '''\n",
        "\n",
        "  This function creates a bar graph of the time it takes for each integer up to \n",
        "  n to reach the limit cycle under the Collatz map\n",
        "\n",
        "  args: integer n\n",
        "\n",
        "  return: bar plot of return times in [1,n-1]\n",
        "\n",
        "  '''\n",
        "\n",
        "  stepslist = list()\n",
        "  for n in range(bound):\n",
        "    stepslist.append(collatz_steps(n+1,0))\n",
        "  plt.bar(range(bound),stepslist) \n",
        "  plt.show() \n",
        "  "
      ],
      "execution_count": null,
      "outputs": []
    },
    {
      "cell_type": "code",
      "metadata": {
        "colab": {
          "base_uri": "https://localhost:8080/"
        },
        "id": "PTucQKEc2ghG",
        "outputId": "b8e07b23-1146-417f-c7fd-46ea88536d5f"
      },
      "source": [
        "collatz_steps(61440,1)"
      ],
      "execution_count": null,
      "outputs": [
        {
          "output_type": "stream",
          "text": [
            "It took 29 steps to reach our limit cycle\n"
          ],
          "name": "stdout"
        },
        {
          "output_type": "execute_result",
          "data": {
            "text/plain": [
              "29"
            ]
          },
          "metadata": {
            "tags": []
          },
          "execution_count": 23
        }
      ]
    },
    {
      "cell_type": "code",
      "metadata": {
        "id": "QrZEohgv2ghH"
      },
      "source": [
        "collatz_show(500)"
      ],
      "execution_count": null,
      "outputs": []
    },
    {
      "cell_type": "code",
      "metadata": {
        "colab": {
          "base_uri": "https://localhost:8080/",
          "height": 265
        },
        "id": "PKQebPL42ghH",
        "outputId": "0eab1229-712c-4488-f2b7-be2628312e58"
      },
      "source": [
        "collatz_plot(43008)"
      ],
      "execution_count": null,
      "outputs": [
        {
          "output_type": "display_data",
          "data": {
            "image/png": "[encoded data removed]",
            "text/plain": [
              "<Figure size 432x288 with 1 Axes>"
            ]
          },
          "metadata": {
            "tags": [],
            "needs_background": "light"
          }
        }
      ]
    },
    {
      "cell_type": "markdown",
      "metadata": {
        "id": "qTNLlSU92ghH"
      },
      "source": [
        "Notice that as `n` increases and approaches infinity, the plot appears to look like a negative, decreasing exponential function. "
      ]
    },
    {
      "cell_type": "markdown",
      "metadata": {
        "id": "E5h6j00Mzk-u"
      },
      "source": [
        "## `5n + 1` "
      ]
    },
    {
      "cell_type": "markdown",
      "metadata": {
        "id": "idcUabEb1bM3"
      },
      "source": [
        "### Functions"
      ]
    },
    {
      "cell_type": "code",
      "metadata": {
        "id": "qQZuN5J5yrmZ"
      },
      "source": [
        "def collatz_steps_5n(n,printit): \r\n",
        "\r\n",
        "  '''\r\n",
        "  \r\n",
        "  Returns the number of steps it takes for the Collatz\r\n",
        "  map to reach the limit cycle.\r\n",
        "  Prints this number if printit == true.\r\n",
        "\r\n",
        "  args: integer n, boolean printit\r\n",
        "\r\n",
        "  return: number of steps it takes to reach the limit cycle\r\n",
        "\r\n",
        "  '''   \r\n",
        "  steps = 0                     \r\n",
        "  while n != 1:                  \r\n",
        "    steps += 1\r\n",
        "    if n%2 == 0:\r\n",
        "      n = n/2\r\n",
        "    else:  \r\n",
        "      n = 5*n +1\r\n",
        "  if printit:\r\n",
        "    print(\"It took {} steps to reach our limit cycle\".format(steps))\r\n",
        "  return steps  "
      ],
      "execution_count": 1,
      "outputs": []
    },
    {
      "cell_type": "markdown",
      "metadata": {
        "id": "SbOuXknS1jU3"
      },
      "source": [
        "### Collatz Plots"
      ]
    },
    {
      "cell_type": "code",
      "metadata": {
        "id": "mlCEfgJS2Sh8"
      },
      "source": [
        ""
      ],
      "execution_count": null,
      "outputs": []
    },
    {
      "cell_type": "markdown",
      "metadata": {
        "id": "w3IrIN7D3Gg0"
      },
      "source": [
        "## `5n - 1`"
      ]
    },
    {
      "cell_type": "markdown",
      "metadata": {
        "id": "J5phNvK33Gg9"
      },
      "source": [
        "### Function"
      ]
    },
    {
      "cell_type": "code",
      "metadata": {
        "id": "Nij00KW53Gg-"
      },
      "source": [
        "def collatz_steps(n,printit): \n",
        "\n",
        "  '''\n",
        "  \n",
        "  Returns the number of steps it takes for the Collatz\n",
        "  map to reach the limit cycle.\n",
        "  Prints this number if printit == true.\n",
        "\n",
        "  args: integer n, boolean printit\n",
        "\n",
        "  return: number of steps it takes to reach the limit cycle\n",
        "\n",
        "  '''   \n",
        "  steps = 0                     \n",
        "  while n != 1:                  \n",
        "    steps += 1\n",
        "    if n%2 == 0:\n",
        "      n = n/2\n",
        "    else:  \n",
        "      n = 5*n - 1\n",
        "  if printit:\n",
        "    print(\"It took {} steps to reach our limit cycle\".format(steps))\n",
        "  return steps  "
      ],
      "execution_count": null,
      "outputs": []
    },
    {
      "cell_type": "markdown",
      "metadata": {
        "id": "xCRJhFJ53Gg-"
      },
      "source": [
        "### Collatz Plots"
      ]
    },
    {
      "cell_type": "code",
      "metadata": {
        "id": "bOjbcCjM3Gg_"
      },
      "source": [
        "def collatz_plot(n):\n",
        "  '''\n",
        "  \n",
        "  This function creates a scatter plot of the bahavior of the Collatz map \n",
        "  applied to an integer n.\n",
        "\n",
        "  args: integer n\n",
        "\n",
        "  return: scatter plot\n",
        "\n",
        "  '''\n",
        "  steps = 0\n",
        "  nlist = list()\n",
        "  while n != 4:\n",
        "    nlist.append(n)\n",
        "    steps += 1\n",
        "    if n%2 == 0:\n",
        "      n = n/2\n",
        "    else:  \n",
        "      n = 5*n - 1\n",
        "  allsteps = range(steps)      \n",
        "  plt.scatter(allsteps,nlist)    \n",
        "  plt.show()  "
      ],
      "execution_count": null,
      "outputs": []
    },
    {
      "cell_type": "code",
      "metadata": {
        "id": "F4OYAE2a3Gg_"
      },
      "source": [
        "def collatz_plot(n):\r\n",
        "  '''\r\n",
        "  \r\n",
        "  This function creates a scatter plot of the bahavior of the Collatz map \r\n",
        "  applied to an integer n.\r\n",
        "\r\n",
        "  args: integer n\r\n",
        "\r\n",
        "  return: scatter plot\r\n",
        "\r\n",
        "  '''\r\n",
        "  steps = 0\r\n",
        "  nlist = list()\r\n",
        "  while n != 4:\r\n",
        "    nlist.append(n)\r\n",
        "    steps += 1\r\n",
        "    if n%2 == 0:\r\n",
        "      n = n/2\r\n",
        "    else:  \r\n",
        "      n = 5*n - 1\r\n",
        "  allsteps = range(steps)      \r\n",
        "  plt.scatter(allsteps,nlist)    \r\n",
        "  plt.show()"
      ],
      "execution_count": null,
      "outputs": []
    },
    {
      "cell_type": "code",
      "metadata": {
        "id": "JL8uyX3y3Gg_"
      },
      "source": [
        "def collatz_show(bound):\n",
        "\n",
        "  '''\n",
        "\n",
        "  This function creates a bar graph of the time it takes for each integer up to \n",
        "  n to reach the limit cycle under the Collatz map\n",
        "\n",
        "  args: integer n\n",
        "\n",
        "  return: bar plot of return times in [1,n-1]\n",
        "\n",
        "  '''\n",
        "\n",
        "  stepslist = list()\n",
        "  for n in range(bound):\n",
        "    stepslist.append(collatz_steps(n+1,0))\n",
        "  plt.bar(range(bound),stepslist) \n",
        "  plt.show() \n",
        "  "
      ],
      "execution_count": null,
      "outputs": []
    },
    {
      "cell_type": "code",
      "metadata": {
        "colab": {
          "base_uri": "https://localhost:8080/"
        },
        "id": "vcqgsSQu3Gg_",
        "outputId": "b8e07b23-1146-417f-c7fd-46ea88536d5f"
      },
      "source": [
        "collatz_steps(61440,1)"
      ],
      "execution_count": null,
      "outputs": [
        {
          "output_type": "stream",
          "text": [
            "It took 29 steps to reach our limit cycle\n"
          ],
          "name": "stdout"
        },
        {
          "output_type": "execute_result",
          "data": {
            "text/plain": [
              "29"
            ]
          },
          "metadata": {
            "tags": []
          },
          "execution_count": 23
        }
      ]
    },
    {
      "cell_type": "code",
      "metadata": {
        "id": "lYlfjjIj3GhA"
      },
      "source": [
        "collatz_show(500)"
      ],
      "execution_count": null,
      "outputs": []
    },
    {
      "cell_type": "code",
      "metadata": {
        "colab": {
          "base_uri": "https://localhost:8080/",
          "height": 265
        },
        "id": "ramjc3VJ3GhA",
        "outputId": "0eab1229-712c-4488-f2b7-be2628312e58"
      },
      "source": [
        "collatz_plot(43008)"
      ],
      "execution_count": null,
      "outputs": [
        {
          "output_type": "display_data",
          "data": {
            "image/png": "[encoded data removed]",
            "text/plain": [
              "<Figure size 432x288 with 1 Axes>"
            ]
          },
          "metadata": {
            "tags": [],
            "needs_background": "light"
          }
        }
      ]
    },
    {
      "cell_type": "markdown",
      "metadata": {
        "id": "90iUK-j43GhB"
      },
      "source": [
        "Notice that as `n` increases and approaches infinity, the plot appears to look like a negative, decreasing exponential function. "
      ]
    },
    {
      "cell_type": "markdown",
      "metadata": {
        "id": "5jeM-DZf20kP"
      },
      "source": [
        "## `5n + 3`\r\n",
        "\r\n",
        "\r\n"
      ]
    },
    {
      "cell_type": "markdown",
      "metadata": {
        "id": "_BaWS4Hb20kX"
      },
      "source": [
        "### Function"
      ]
    },
    {
      "cell_type": "code",
      "metadata": {
        "id": "R05s-GQB20kY"
      },
      "source": [
        "def collatz_steps(n,printit): \n",
        "\n",
        "  '''\n",
        "  \n",
        "  Returns the number of steps it takes for the Collatz\n",
        "  map to reach the limit cycle.\n",
        "  Prints this number if printit == true.\n",
        "\n",
        "  args: integer n, boolean printit\n",
        "\n",
        "  return: number of steps it takes to reach the limit cycle\n",
        "\n",
        "  '''   \n",
        "  steps = 0                     \n",
        "  while n != 1:                  \n",
        "    steps += 1\n",
        "    if n%2 == 0:\n",
        "      n = n/2\n",
        "    else:  \n",
        "      n = 5*n + 3\n",
        "  if printit:\n",
        "    print(\"It took {} steps to reach our limit cycle\".format(steps))\n",
        "  return steps  "
      ],
      "execution_count": null,
      "outputs": []
    },
    {
      "cell_type": "markdown",
      "metadata": {
        "id": "cwaQMmzu20kY"
      },
      "source": [
        "### Collatz Plots"
      ]
    },
    {
      "cell_type": "code",
      "metadata": {
        "id": "njgdrqdf20kY"
      },
      "source": [
        "def collatz_plot(n):\n",
        "  '''\n",
        "  \n",
        "  This function creates a scatter plot of the bahavior of the Collatz map \n",
        "  applied to an integer n.\n",
        "\n",
        "  args: integer n\n",
        "\n",
        "  return: scatter plot\n",
        "\n",
        "  '''\n",
        "  steps = 0\n",
        "  nlist = list()\n",
        "  while n != 4:\n",
        "    nlist.append(n)\n",
        "    steps += 1\n",
        "    if n%2 == 0:\n",
        "      n = n/2\n",
        "    else:  \n",
        "      n = 5*n + 3\n",
        "  allsteps = range(steps)      \n",
        "  plt.scatter(allsteps,nlist)    \n",
        "  plt.show()  "
      ],
      "execution_count": null,
      "outputs": []
    },
    {
      "cell_type": "code",
      "metadata": {
        "id": "Kq0XTXw720kZ"
      },
      "source": [
        "def collatz_plot(n):\r\n",
        "  '''\r\n",
        "  \r\n",
        "  This function creates a scatter plot of the bahavior of the Collatz map \r\n",
        "  applied to an integer n.\r\n",
        "\r\n",
        "  args: integer n\r\n",
        "\r\n",
        "  return: scatter plot\r\n",
        "\r\n",
        "  '''\r\n",
        "  steps = 0\r\n",
        "  nlist = list()\r\n",
        "  while n != 4:\r\n",
        "    nlist.append(n)\r\n",
        "    steps += 1\r\n",
        "    if n%2 == 0:\r\n",
        "      n = n/2\r\n",
        "    else:  \r\n",
        "      n = 5*n + 3\r\n",
        "  allsteps = range(steps)      \r\n",
        "  plt.scatter(allsteps,nlist)    \r\n",
        "  plt.show()"
      ],
      "execution_count": null,
      "outputs": []
    },
    {
      "cell_type": "code",
      "metadata": {
        "id": "Fb2cd49220kZ"
      },
      "source": [
        "def collatz_show(bound):\n",
        "\n",
        "  '''\n",
        "\n",
        "  This function creates a bar graph of the time it takes for each integer up to \n",
        "  n to reach the limit cycle under the Collatz map\n",
        "\n",
        "  args: integer n\n",
        "\n",
        "  return: bar plot of return times in [1,n-1]\n",
        "\n",
        "  '''\n",
        "\n",
        "  stepslist = list()\n",
        "  for n in range(bound):\n",
        "    stepslist.append(collatz_steps(n+1,0))\n",
        "  plt.bar(range(bound),stepslist) \n",
        "  plt.show() \n",
        "  "
      ],
      "execution_count": null,
      "outputs": []
    },
    {
      "cell_type": "code",
      "metadata": {
        "colab": {
          "base_uri": "https://localhost:8080/"
        },
        "id": "oEoEEHmD20kZ",
        "outputId": "b8e07b23-1146-417f-c7fd-46ea88536d5f"
      },
      "source": [
        "collatz_steps(61440,1)"
      ],
      "execution_count": null,
      "outputs": [
        {
          "output_type": "stream",
          "text": [
            "It took 29 steps to reach our limit cycle\n"
          ],
          "name": "stdout"
        },
        {
          "output_type": "execute_result",
          "data": {
            "text/plain": [
              "29"
            ]
          },
          "metadata": {
            "tags": []
          },
          "execution_count": 23
        }
      ]
    },
    {
      "cell_type": "code",
      "metadata": {
        "id": "ScN0gy_K20ka"
      },
      "source": [
        "collatz_show(500)"
      ],
      "execution_count": null,
      "outputs": []
    },
    {
      "cell_type": "code",
      "metadata": {
        "colab": {
          "base_uri": "https://localhost:8080/",
          "height": 265
        },
        "id": "bXIiOCqj20ka",
        "outputId": "0eab1229-712c-4488-f2b7-be2628312e58"
      },
      "source": [
        "collatz_plot(43008)"
      ],
      "execution_count": null,
      "outputs": [
        {
          "output_type": "display_data",
          "data": {
            "image/png": "[encoded data removed]",
            "text/plain": [
              "<Figure size 432x288 with 1 Axes>"
            ]
          },
          "metadata": {
            "tags": [],
            "needs_background": "light"
          }
        }
      ]
    },
    {
      "cell_type": "markdown",
      "metadata": {
        "id": "WBEkfKpy20kb"
      },
      "source": [
        "Notice that as `n` increases and approaches infinity, the plot appears to look like a negative, decreasing exponential function. "
      ]
    },
    {
      "cell_type": "markdown",
      "metadata": {
        "id": "tgVNd9e24ERd"
      },
      "source": [
        "# Figuring out Polar Coordinates\r\n"
      ]
    },
    {
      "cell_type": "code",
      "metadata": {
        "id": "Swi5a6c94JgS"
      },
      "source": [
        "def collatz_polar(n):\r\n",
        "  steps = 0 \r\n",
        "  nlist = list()\r\n",
        "  radlist = list()\r\n",
        "  thetalist = list()\r\n",
        "  while n != 1:\r\n",
        "    steps += 1 \r\n",
        "    if n%2 == 0: \r\n",
        "      n = n/2 \r\n",
        "      radius = math.sqrt( steps * steps + n * n )\r\n",
        "      theta = 180 * (math.atan(n/steps))/math.pi\r\n",
        "    else: \r\n",
        "      n = 3*n + 1\r\n",
        "      radius = math.sqrt( (steps**2) + (n**2) )\r\n",
        "      theta = 180 * (math.atan(n/steps))/math.pi\r\n",
        "    radlist.append(radius)\r\n",
        "    thetalist.append(theta)\r\n",
        "  plt.polar(thetalist, radlist, 'o')\r\n",
        "  plt.polar(thetalist, radlist)\r\n",
        "  plt.show()      "
      ],
      "execution_count": 60,
      "outputs": []
    },
    {
      "cell_type": "code",
      "metadata": {
        "colab": {
          "base_uri": "https://localhost:8080/",
          "height": 286
        },
        "id": "OjddSNcUBG7Y",
        "outputId": "86b7334c-8b02-43d7-be02-987a2472b289"
      },
      "source": [
        "collatz_polar(262144)"
      ],
      "execution_count": 68,
      "outputs": [
        {
          "output_type": "display_data",
          "data": {
            "image/png": "[encoded data removed]",
            "text/plain": [
              "<Figure size 432x288 with 1 Axes>"
            ]
          },
          "metadata": {
            "tags": [],
            "needs_background": "light"
          }
        }
      ]
    },
    {
      "cell_type": "code",
      "metadata": {
        "id": "PahWFX_n8k_j"
      },
      "source": [
        "def collatz_plot(n):\r\n",
        "  '''\r\n",
        "  \r\n",
        "  This function creates a scatter plot of the bahavior of the Collatz map \r\n",
        "  applied to an integer n.\r\n",
        "\r\n",
        "  args: integer n\r\n",
        "\r\n",
        "  return: scatter plot\r\n",
        "\r\n",
        "  '''\r\n",
        "  steps = 0\r\n",
        "  nlist = list()\r\n",
        "  while n != 1:\r\n",
        "    nlist.append(n)\r\n",
        "    steps += 1\r\n",
        "    if n%2 == 0:\r\n",
        "      n = n/2\r\n",
        "    else:  \r\n",
        "      n = 3*n + 1\r\n",
        "  allsteps = range(steps)      \r\n",
        "  plt.scatter(allsteps,nlist)    \r\n",
        "  plt.show()"
      ],
      "execution_count": 11,
      "outputs": []
    },
    {
      "cell_type": "code",
      "metadata": {
        "colab": {
          "base_uri": "https://localhost:8080/",
          "height": 265
        },
        "id": "ei8psXa3BCrF",
        "outputId": "111bd39d-c105-40e1-e675-556267b89c37"
      },
      "source": [
        "collatz_plot(1000)"
      ],
      "execution_count": 49,
      "outputs": [
        {
          "output_type": "display_data",
          "data": {
            "image/png": "[encoded data removed]",
            "text/plain": [
              "<Figure size 432x288 with 1 Axes>"
            ]
          },
          "metadata": {
            "tags": [],
            "needs_background": "light"
          }
        }
      ]
    },
    {
      "cell_type": "code",
      "metadata": {
        "id": "grCHM8dc82Tu"
      },
      "source": [
        ""
      ],
      "execution_count": null,
      "outputs": []
    }
  ]
}