{
  "nbformat": 4,
  "nbformat_minor": 0,
  "metadata": {
    "kernelspec": {
      "display_name": "Python 3",
      "language": "python",
      "name": "python3"
    },
    "language_info": {
      "codemirror_mode": {
        "name": "ipython",
        "version": 3
      },
      "file_extension": ".py",
      "mimetype": "text/x-python",
      "name": "python",
      "nbconvert_exporter": "python",
      "pygments_lexer": "ipython3",
      "version": "3.6.7"
    },
    "colab": {
      "name": "P4M_Notebook2.ipynb",
      "provenance": [],
      "toc_visible": true,
      "include_colab_link": true
    }
  },
  "cells": [
    {
      "cell_type": "markdown",
      "metadata": {
        "id": "view-in-github",
        "colab_type": "text"
      },
      "source": [
        "<a href=\"https://colab.research.google.com/github/kelngu/python-for-math/blob/main/Notebook%20%232/P4M_Notebook2.ipynb\" target=\"_parent\"><img src=\"https://colab.research.google.com/assets/colab-badge.svg\" alt=\"Open In Colab\"/></a>"
      ]
    },
    {
      "cell_type": "markdown",
      "metadata": {
        "id": "SGdDlI_AP3bz"
      },
      "source": [
        "# Part 2:  Functions and Control Statements"
      ]
    },
    {
      "cell_type": "markdown",
      "metadata": {
        "id": "k6MnSig_P3b6"
      },
      "source": [
        "A distinguishing property of *programming* languages is that the programmer can create their own *functions*.  Creating a *function* is like teaching the computer a new trick.  Typically a function will receive some data as *input*, will perform an *algorithm* involving the input data, and will *output* data when the algorithm terminates.  \n",
        "\n",
        "In this part, we explore Python functions.  We also explore control statements, which allow a program to behave in different ways for different inputs.  We also introduce the *while loop*, a loop whose repetition can be more carefully controlled than a for loop.  As an application of these techniques, we implement the Euclidean algorithm as a Python function in a few ways, to effectively find the GCD of integers.\n",
        "\n",
        "At the end, you will be prepared to explore the Collatz conjecture."
      ]
    },
    {
      "cell_type": "markdown",
      "metadata": {
        "id": "_YFSP4xiP3b7"
      },
      "source": [
        "## Table of Contents\n",
        "\n",
        "- [Getting started with Python functions](#functions)\n",
        "- [Control statements](#controls)\n",
        "- [While loops and implementation of the Euclidean algorithm](#while)\n"
      ]
    },
    {
      "cell_type": "markdown",
      "metadata": {
        "id": "SDz7aKXwP3b7"
      },
      "source": [
        "<a id='functions'></a>"
      ]
    },
    {
      "cell_type": "markdown",
      "metadata": {
        "id": "z5VGDVaAP3b7"
      },
      "source": [
        "## Getting started with Python functions"
      ]
    },
    {
      "cell_type": "markdown",
      "metadata": {
        "id": "BhXo8Iz6P3b8"
      },
      "source": [
        "A *function* in Python is a construction which takes input data, performs some actions, and outputs data.  It is best to start with a few examples and break down the code.  Here is a function `square`.  Run the code as usual by pressing *shift-Enter* when the code block is selected."
      ]
    },
    {
      "cell_type": "code",
      "metadata": {
        "id": "3R3P0HkcP3b8"
      },
      "source": [
        "def square(x):                                # stands for \"define\" & defines a function called square, containing the argument x (input data)\n",
        "    answer = x * x                            # \n",
        "    return answer"
      ],
      "execution_count": 2,
      "outputs": []
    },
    {
      "cell_type": "code",
      "metadata": {
        "id": "eNR4_nMpP3b9"
      },
      "source": [
        "from dis import dis"
      ],
      "execution_count": 3,
      "outputs": []
    },
    {
      "cell_type": "code",
      "metadata": {
        "colab": {
          "base_uri": "https://localhost:8080/"
        },
        "id": "6SfT0tvqP3b9",
        "outputId": "ead151c0-c2c7-4501-9f0f-b9879a3efd72"
      },
      "source": [
        "dis(square)"
      ],
      "execution_count": 12,
      "outputs": [
        {
          "output_type": "stream",
          "text": [
            "  2           0 LOAD_FAST                0 (x)\n",
            "              2 LOAD_FAST                0 (x)\n",
            "              4 BINARY_MULTIPLY\n",
            "              6 STORE_FAST               1 (answer)\n",
            "\n",
            "  3           8 LOAD_FAST                1 (answer)\n",
            "             10 RETURN_VALUE\n"
          ],
          "name": "stdout"
        }
      ]
    },
    {
      "cell_type": "markdown",
      "metadata": {
        "id": "AMo5mgGyP3b-"
      },
      "source": [
        "When you run the code block, you probably didn't see anything happen.  But you have effectively taught your computer a new trick, increasing the vocabulary of commands it understands through the Python interpreter.  Now you can use the `square` command as you wish."
      ]
    },
    {
      "cell_type": "code",
      "metadata": {
        "colab": {
          "base_uri": "https://localhost:8080/"
        },
        "id": "Mr1X1DOHP3b-",
        "outputId": "c54cc7e6-686e-4a67-d00d-874cbeca0ec4"
      },
      "source": [
        "square(12)"
      ],
      "execution_count": 5,
      "outputs": [
        {
          "output_type": "execute_result",
          "data": {
            "text/plain": [
              "144"
            ]
          },
          "metadata": {
            "tags": []
          },
          "execution_count": 5
        }
      ]
    },
    {
      "cell_type": "code",
      "metadata": {
        "colab": {
          "base_uri": "https://localhost:8080/"
        },
        "id": "FXj9oy2nP3b_",
        "outputId": "4d355a22-cdf5-4185-ae72-d0458c1d7398"
      },
      "source": [
        "square(1.5)"
      ],
      "execution_count": 6,
      "outputs": [
        {
          "output_type": "execute_result",
          "data": {
            "text/plain": [
              "2.25"
            ]
          },
          "metadata": {
            "tags": []
          },
          "execution_count": 6
        }
      ]
    },
    {
      "cell_type": "markdown",
      "metadata": {
        "id": "qIjx1N99P3b_"
      },
      "source": [
        "Let's break down the syntax of the *function declaration*, line by line.\n",
        "\n",
        "```python\n",
        "def square(x):\n",
        "    answer = x * x\n",
        "    return answer\n",
        "```\n",
        "\n",
        "The first line begins with the Python reserved word `def`.  (So don't use `def` as a variable name!).  The word `def` stands for \"define\" and it defines a function called `square`.  After the function name `square` comes parentheses `(x)` containing the **argument** `x`.  The *arguments* or *parameters* of a function refer to the input data.  Even if your function has no arguments, you need parentheses.  The argument `x` is used to name whatever number is input into the `square` function.  \n",
        "\n",
        "At the end of the function declaration line is a colon `:` and the following two lines are indented.  As in the case of for loops, the colon and indentation are signals of *scope*.  Everything on the indented lines is considered within the *scope of the function* and is carried out when the function is used later.\n",
        "\n",
        "The second line `answer = x * x` is the beginning of the scope of the function.  It declares a variable `answer` and sets the value to be `x * x`.  So if the argument `x` is 12, then `answer` will be set to 144.  The variable `answer`, being declared within the scope of the function, will not be accessible outside the scope of the function.  It is called a **local variable**.\n",
        "\n",
        "The last line `return answer` contains the Python reserved word `return`, which terminates the function and outputs the value of the variable `answer`.  So when you apply the function with the command `square(1.5)`, the number `1.5` is `passed` as the argument `x`, and `answer` is `2.25`, and that number `2.25` becomes the output."
      ]
    },
    {
      "cell_type": "markdown",
      "metadata": {
        "id": "N5sJT4EnP3cA"
      },
      "source": [
        "A function does not have to return a value.  Some functions might just provide some information.  Here is a function which displays the result of division with remainder as a sentence with addition and multiplication."
      ]
    },
    {
      "cell_type": "code",
      "metadata": {
        "id": "HIj2z-q0P3cA"
      },
      "source": [
        "def display_divmod(a,b):\n",
        "    quotient = a // b # Integer division\n",
        "    remainder = a % b #\n",
        "    print(\"{} = {} ({}) + {}\".format(a,quotient,b,remainder))"
      ],
      "execution_count": 10,
      "outputs": []
    },
    {
      "cell_type": "code",
      "metadata": {
        "colab": {
          "base_uri": "https://localhost:8080/"
        },
        "id": "OQRurMSsP3cA",
        "outputId": "50e76d7c-1916-466e-d7aa-9869bdc31d0d"
      },
      "source": [
        "dis(display_divmod)"
      ],
      "execution_count": 11,
      "outputs": [
        {
          "output_type": "stream",
          "text": [
            "  2           0 LOAD_FAST                0 (a)\n",
            "              2 LOAD_FAST                1 (b)\n",
            "              4 BINARY_FLOOR_DIVIDE\n",
            "              6 STORE_FAST               2 (quotient)\n",
            "\n",
            "  3           8 LOAD_FAST                0 (a)\n",
            "             10 LOAD_FAST                1 (b)\n",
            "             12 BINARY_MODULO\n",
            "             14 STORE_FAST               3 (remainder)\n",
            "\n",
            "  4          16 LOAD_GLOBAL              0 (print)\n",
            "             18 LOAD_CONST               1 ('{} = {} ({}) + {}')\n",
            "             20 LOAD_ATTR                1 (format)\n",
            "             22 LOAD_FAST                0 (a)\n",
            "             24 LOAD_FAST                2 (quotient)\n",
            "             26 LOAD_FAST                1 (b)\n",
            "             28 LOAD_FAST                3 (remainder)\n",
            "             30 CALL_FUNCTION            4\n",
            "             32 CALL_FUNCTION            1\n",
            "             34 POP_TOP\n",
            "             36 LOAD_CONST               0 (None)\n",
            "             38 RETURN_VALUE\n"
          ],
          "name": "stdout"
        }
      ]
    },
    {
      "cell_type": "code",
      "metadata": {
        "scrolled": true,
        "colab": {
          "base_uri": "https://localhost:8080/"
        },
        "id": "B9-iVpCrP3cA",
        "outputId": "a79927a6-9ff2-4acd-bd00-80b094f6baae"
      },
      "source": [
        "display_divmod(23,5)"
      ],
      "execution_count": 13,
      "outputs": [
        {
          "output_type": "stream",
          "text": [
            "23 = 4 (5) + 3\n"
          ],
          "name": "stdout"
        }
      ]
    },
    {
      "cell_type": "markdown",
      "metadata": {
        "id": "ChHszxRgP3cB"
      },
      "source": [
        "Notice that this function has no `return` line.  The function terminates automatically at the end of its scope.\n",
        "\n",
        "The function also uses Python's **string formatting**.  This has changed between Python 2.x and 3.x, and this notebook uses Python 3.x syntax.\n",
        "\n",
        "String formatting allows you to insert placeholders like `{}` within a string, and later fill those places with a list of things.  "
      ]
    },
    {
      "cell_type": "code",
      "metadata": {
        "id": "qbhiel9tP3cB"
      },
      "source": [
        "print(\"My favorite number is {}\".format(17))  # The .format \"method\" substitutes 17 for {}"
      ],
      "execution_count": null,
      "outputs": []
    },
    {
      "cell_type": "code",
      "metadata": {
        "id": "9xHEsofqP3cB"
      },
      "source": [
        "print(\"{} + {} = {}\".format(13,12,13+12))"
      ],
      "execution_count": null,
      "outputs": []
    },
    {
      "cell_type": "markdown",
      "metadata": {
        "id": "qC2EvUvqP3cB"
      },
      "source": [
        "The `format` command is an example of a **string method**.  It has the effect of replacing all placeholders `{}` by the its inputs, in sequence.  There is an intricate syntax for these placeholders, to allow one to match placeholders with values in different orders, and to format different kinds of values.  Here is the [official reference for string formatting in Python 3.x](https://docs.python.org/3/library/string.html#formatstrings).  We will only use the most basic features, exhibited below."
      ]
    },
    {
      "cell_type": "code",
      "metadata": {
        "id": "dxGwzruzP3cC"
      },
      "source": [
        "print (\"The number {} comes before {}.\".format(1,2)) # This should be familiar.\n",
        "print (\"The number {1} comes before {0}.\".format(1,2)) # What happens?\n",
        "print (\"The number {1} comes before {1}.\".format(1,2)) # Got it now?\n",
        "\n"
      ],
      "execution_count": null,
      "outputs": []
    },
    {
      "cell_type": "markdown",
      "metadata": {
        "id": "bJZo7vVTP3cC"
      },
      "source": [
        "By placing a number in the placeholder, like `{1}`, one can fill in the placeholders with the values in a different order, or repeat the same value.  The format method takes multiple parameters, and they are numbered:  parameter 0, parameter 1, parameter 2, etc..  So the placeholder `{1}` will be replaced by the second parameter (parameter 1).  It's confusing at first, but Python almost always starts counting at zero."
      ]
    },
    {
      "cell_type": "code",
      "metadata": {
        "id": "CXM32pkqP3cC"
      },
      "source": [
        "print(\"pi is approximately {0}\".format(3.14159265))\n",
        "print(\"pi is approximately {0:f}\".format(3.14159265)) # The \"f\" in \"0:f\" formats the float.\n",
        "print(\"pi is approximately {0:0.3f}\".format(3.14159265)) # Choose 3 digits of precision.\n"
      ],
      "execution_count": null,
      "outputs": []
    },
    {
      "cell_type": "markdown",
      "metadata": {
        "id": "DheQ7m0VP3cD"
      },
      "source": [
        "If you give some information about how the placeholder is being used, the format method will format things more nicely for printing.  The placeholder `{0:f}` will be replaced by parameter 0, and it will be formatted in a way that is nice for floats (hence the `f`).  Don't try formatting things outside of their type!"
      ]
    },
    {
      "cell_type": "code",
      "metadata": {
        "colab": {
          "base_uri": "https://localhost:8080/",
          "height": 265
        },
        "id": "1FbB-rolP3cD",
        "outputId": "3ee2a70d-877a-4bf0-eb86-66a467cabd8a"
      },
      "source": [
        "print(\"{:d} is a pretty big integer.\".format(2**100)) # d is the formatting code for integers.\n",
        "print(\"{:f} is an integer, formatted like a float.\".format(2**100))\n",
        "print(\"{:f} is a float, of course.\".format(1/7))\n",
        "print(\"{:s} is a string.\".format('Hi there!')) # s is the formatting code for strings.\n",
        "print(\"{:d} will give us an error message.\".format(1/7))\n"
      ],
      "execution_count": 23,
      "outputs": [
        {
          "output_type": "stream",
          "text": [
            "1267650600228229401496703205376 is a pretty big integer.\n",
            "1267650600228229401496703205376.000000 is an integer, formatted like a float.\n",
            "0.142857 is a float, of course.\n",
            "Hi there! is a string.\n"
          ],
          "name": "stdout"
        },
        {
          "output_type": "error",
          "ename": "ValueError",
          "evalue": "ignored",
          "traceback": [
            "\u001b[0;31m---------------------------------------------------------------------------\u001b[0m",
            "\u001b[0;31mValueError\u001b[0m                                Traceback (most recent call last)",
            "\u001b[0;32m<ipython-input-23-a243553941ff>\u001b[0m in \u001b[0;36m<module>\u001b[0;34m()\u001b[0m\n\u001b[1;32m      3\u001b[0m \u001b[0mprint\u001b[0m\u001b[0;34m(\u001b[0m\u001b[0;34m\"{:f} is a float, of course.\"\u001b[0m\u001b[0;34m.\u001b[0m\u001b[0mformat\u001b[0m\u001b[0;34m(\u001b[0m\u001b[0;36m1\u001b[0m\u001b[0;34m/\u001b[0m\u001b[0;36m7\u001b[0m\u001b[0;34m)\u001b[0m\u001b[0;34m)\u001b[0m\u001b[0;34m\u001b[0m\u001b[0;34m\u001b[0m\u001b[0m\n\u001b[1;32m      4\u001b[0m \u001b[0mprint\u001b[0m\u001b[0;34m(\u001b[0m\u001b[0;34m\"{:s} is a string.\"\u001b[0m\u001b[0;34m.\u001b[0m\u001b[0mformat\u001b[0m\u001b[0;34m(\u001b[0m\u001b[0;34m'Hi there!'\u001b[0m\u001b[0;34m)\u001b[0m\u001b[0;34m)\u001b[0m \u001b[0;31m# s is the formatting code for strings.\u001b[0m\u001b[0;34m\u001b[0m\u001b[0;34m\u001b[0m\u001b[0m\n\u001b[0;32m----> 5\u001b[0;31m \u001b[0mprint\u001b[0m\u001b[0;34m(\u001b[0m\u001b[0;34m\"{:d} will give us an error message.\"\u001b[0m\u001b[0;34m.\u001b[0m\u001b[0mformat\u001b[0m\u001b[0;34m(\u001b[0m\u001b[0;36m1\u001b[0m\u001b[0;34m/\u001b[0m\u001b[0;36m7\u001b[0m\u001b[0;34m)\u001b[0m\u001b[0;34m)\u001b[0m\u001b[0;34m\u001b[0m\u001b[0;34m\u001b[0m\u001b[0m\n\u001b[0m",
            "\u001b[0;31mValueError\u001b[0m: Unknown format code 'd' for object of type 'float'"
          ]
        }
      ]
    },
    {
      "cell_type": "code",
      "metadata": {
        "colab": {
          "base_uri": "https://localhost:8080/"
        },
        "id": "0Xz_T_8yP3cD",
        "outputId": "c4984682-2f1d-40d2-f0ca-9d93b365102f"
      },
      "source": [
        "from math import sqrt  # Make sure the square root function is loaded.\n",
        "print(\"The square root of {0:d} is about {1:f}.\".format(1000, sqrt(1000)))"
      ],
      "execution_count": 22,
      "outputs": [
        {
          "output_type": "stream",
          "text": [
            "The square root of 1000 is about 31.622777.\n"
          ],
          "name": "stdout"
        }
      ]
    },
    {
      "cell_type": "markdown",
      "metadata": {
        "id": "t4bt9pc_P3cE"
      },
      "source": [
        "### Exercises\n",
        "\n",
        "1.  What are the signals of scope in Python?\n",
        "\n",
        "2.  Write a function called area_circle, which takes one argument radius. The function should return the area of the circle, as a floating point number. Then add one line to the function, using string formatting, so that it additionally prints a helpful sentence of the form \"The area of a circle of radius 1.0 is 3.14159.\" (depending on the radius and the area it computes).\n",
        "\n",
        "3. `format` is an example of a \"string method\".  Another neat one is `replace`.  Try `\"Python\".replace(\"yth\",\"arag\")` to see what it does.  \n",
        "\n",
        "4.  Try the formatting codes `%` and `E` (instead of `f`) for a floating point number.  What do they do?\n",
        "\n",
        "5. Can you think of a reason you might want to have a function with *no* arguments?"
      ]
    },
    {
      "cell_type": "markdown",
      "metadata": {
        "id": "ERfUQNW7YeID"
      },
      "source": [
        "#### Solutions"
      ]
    },
    {
      "cell_type": "markdown",
      "metadata": {
        "id": "rMh777QrYZu0"
      },
      "source": [
        "1. In Python, the colon and the identation are signals of scope, where everything on the idented lines is considered within the scope of the function and is carried when the function is used later. \r\n",
        "\r\n",
        "2. To write a function called `area_circle`, we would need to first define the function with parameters of `r` input and with the area of circle formula. Thus, we created the following script to calculate the area of a circle at a radius of 1. "
      ]
    },
    {
      "cell_type": "code",
      "metadata": {
        "colab": {
          "base_uri": "https://localhost:8080/"
        },
        "id": "RbTjiLXRXXc5",
        "outputId": "0d681aeb-cd18-4407-d279-16117c690f1d"
      },
      "source": [
        "import math                                                                      # imports math library \r\n",
        "def area_circle(r):                                                              # def area of circle function with radius input \r\n",
        "  circle=(math.pi)*(r**2)                                                   # area of circle formula \r\n",
        "  return circle                                                             # stops function and outputs the value of the variable area_circle\r\n",
        "\r\n",
        "print('The area of a circle of radius {} is {}.'.format(1.0,area_circle(1.0)))    "
      ],
      "execution_count": 32,
      "outputs": [
        {
          "output_type": "stream",
          "text": [
            "The area of a circle of radius 1.0 is 3.141592653589793.\n"
          ],
          "name": "stdout"
        }
      ]
    },
    {
      "cell_type": "markdown",
      "metadata": {
        "id": "L80Qp1EHbDn9"
      },
      "source": [
        "3. We know that `format` is an example of a \"string method,\" but suppose we want to use `replace` instead. What it seems that `replace` does is that with the given string, `replace` will literally a section of the string with another string. For instance with the given example, \"yth\" was replaced with \"arag\" to get \"Paragon\" instead of \"Python.\""
      ]
    },
    {
      "cell_type": "code",
      "metadata": {
        "colab": {
          "base_uri": "https://localhost:8080/"
        },
        "id": "Q6jW2cLkblTz",
        "outputId": "e1dfac10-806e-4701-b581-32d926809d5c"
      },
      "source": [
        "print(\"Python\".replace(\"yth\",\"arag\"))"
      ],
      "execution_count": 21,
      "outputs": [
        {
          "output_type": "stream",
          "text": [
            "Paragon\n"
          ],
          "name": "stdout"
        }
      ]
    },
    {
      "cell_type": "markdown",
      "metadata": {
        "id": "j-Ctk-znchK0"
      },
      "source": [
        "4. When I tried the formatting code `%` instead of `f` for a floating point number, I find that the float is written as a percentage, where the floating number is multipled by `100%`. The precision technique in this case will remain the same. \\\r\n",
        "When I tried the formatting code `E` instead of `f` for a floating point number, I find that the float is written in scientific notation, where the floating number we are looking to format is written as some number `a` multiplied by `10` raised to some number `b`: `a * 10**b`. The `+00` is the power that `10` is raised to. The precision technique in this case will remain the same."
      ]
    },
    {
      "cell_type": "code",
      "metadata": {
        "colab": {
          "base_uri": "https://localhost:8080/"
        },
        "id": "q5QiZTsxdHP0",
        "outputId": "d059c423-1fd9-40f6-95c0-6512b3b99e97"
      },
      "source": [
        "print(\"pi is approximately {0}\".format(3.14159265))\r\n",
        "print(\"pi is approximately {0:%}\".format(3.14159265)) # The \"E\" in \"0:f\" formats the float.\r\n",
        "print(\"pi is approximately {0:0.3%}\".format(3.14159265)) # Choose 3 digits of precision.\r\n",
        "#--------------------------------------------------------------------------------------------------------\r\n",
        "print(\"pi is approximately {0}\".format(3.14159265))\r\n",
        "print(\"pi is approximately {0:E}\".format(3.14159265)) # The \"E\" in \"0:f\" formats the float.\r\n",
        "print(\"pi is approximately {0:0.3E}\".format(3.14159265)) # Choose 3 digits of precision."
      ],
      "execution_count": 30,
      "outputs": [
        {
          "output_type": "stream",
          "text": [
            "pi is approximately 3.14159265\n",
            "pi is approximately 314.159265%\n",
            "pi is approximately 314.159%\n",
            "pi is approximately 3.14159265\n",
            "pi is approximately 3.141593E+00\n",
            "pi is approximately 3.142E+00\n"
          ],
          "name": "stdout"
        }
      ]
    },
    {
      "cell_type": "markdown",
      "metadata": {
        "id": "VmeQOza_fAhY"
      },
      "source": [
        "5. We might want a function with no arguments so that we could collect arguments or inputs from the user instead. Basically, defining a function without arguments leaves room for the user to input their responses to the script once we call the function, as shown in the example below. "
      ]
    },
    {
      "cell_type": "code",
      "metadata": {
        "colab": {
          "base_uri": "https://localhost:8080/"
        },
        "id": "sWKuWOekgr9a",
        "outputId": "b1152d57-1285-4662-dc2c-dd3953332877"
      },
      "source": [
        "from dis import dis\n",
        "import math\n",
        "def area_circle_open():\n",
        "  r=input('What is your radius? ')\n",
        "  circle=(math.pi)*(float(r)**2)\n",
        "  print('The area of a circle with an inputted radius of {} is {}.'.format(r,circle))\n",
        "\n",
        "area_circle_open()"
      ],
      "execution_count": 53,
      "outputs": [
        {
          "output_type": "stream",
          "text": [
            "What is your radius? 2\n",
            "The area of a circle with an inputted radius of 2 is 12.566370614359172.\n"
          ],
          "name": "stdout"
        }
      ]
    },
    {
      "cell_type": "markdown",
      "metadata": {
        "id": "4IIXwoNUP3cE"
      },
      "source": [
        "## Control statements"
      ]
    },
    {
      "cell_type": "markdown",
      "metadata": {
        "id": "mKLkXQuzP3cF"
      },
      "source": [
        "It is important for a computer program to behave differently under different circumstances.  The simplest control statements, `if` and its relative `else`, can be used to tell Python to carry out different actions depending on the value of a boolean variable.  The following function exhibits the syntax."
      ]
    },
    {
      "cell_type": "code",
      "metadata": {
        "id": "EmopyZqqP3cF"
      },
      "source": [
        "def is_even(n):\n",
        "    if n%2 == 0:\n",
        "        print(\"{} is even.\".format(n))\n",
        "        return True\n",
        "    else:\n",
        "        print(\"{} is odd.\".format(n))\n",
        "        return False"
      ],
      "execution_count": null,
      "outputs": []
    },
    {
      "cell_type": "code",
      "metadata": {
        "id": "tHhbaF3qP3cF"
      },
      "source": [
        "is_even(17)"
      ],
      "execution_count": null,
      "outputs": []
    },
    {
      "cell_type": "code",
      "metadata": {
        "id": "8iQx4rjVP3cF"
      },
      "source": [
        "is_even(1000)"
      ],
      "execution_count": null,
      "outputs": []
    },
    {
      "cell_type": "markdown",
      "metadata": {
        "id": "sFB-_awvP3cG"
      },
      "source": [
        "The broad syntax of the function should be familiar.  We have created a function called `is_even` with one argument called `n`.  The body of the function uses the **control statement** `if n%2 == 0:`.  Recall that `n%2` gives the remainder after dividing `n` by `2`.  Thus `n%2` is 0 or 1, depending on whether `n` is even or odd.  Therefore the **boolean** `n%2 == 0` is `True` if `n` is even, and `False` if `n` is odd.\n",
        "\n",
        "The next two lines (the first `print` and `return` statements) are within the **scope** of the `if <boolean>:` statement, as indicated by the colon and the indentation.  The `if <boolean>:` statement tells the Python interpreter to perform the statements within the scope if the boolean is `True`, and to ignore the statements within the scope if the boolean is `False`.\n",
        "\n",
        "Putting it together, we can analyze the code.\n",
        "```python\n",
        "    if n%2 == 0:\n",
        "        print(\"{} is even.\".format(n))\n",
        "        return True\n",
        "```\n",
        "If `n` is even, then the Python interpreter will print a sentence of the form `n is even`.  Then the interpreter will return (output) the value `True` and the function will terminate.  If `n` is odd, the Python interpreter will ignore the two lines of scope."
      ]
    },
    {
      "cell_type": "markdown",
      "metadata": {
        "id": "Ygnw_fCuP3cG"
      },
      "source": [
        "Often we don't just want Python to *do nothing* when a condition is not satisfied.  In the case above, we would rather Python tell us that the number is odd.  The `else:` control statement tells Python what to do in case the `if <boolean>:` control statement receives a `False` boolean.  We analyze the code\n",
        "```python\n",
        "    else:\n",
        "        print(\"{} is odd.\".format(n))\n",
        "        return False\n",
        "```\n",
        "The `print` and `return` commands are within the scope of the `else:` control statement.  So when the `if` statement receives a false signal (the number `n` is odd), the program prints a sentence of the form `n is odd.` and then returns the value `False` and terminates the function."
      ]
    },
    {
      "cell_type": "markdown",
      "metadata": {
        "id": "wH8od2JjP3cG"
      },
      "source": [
        "The function `is_even` is a verbose, or \"talkative\" sort of function.  Such a function is sometimes useful in an interactive setting, where the programmer wants to understand everything that's going on.  But if the function had to be called a million times, the screen would fill with printed sentences!  In practice, an efficient and silent function `is_even` might look like the following."
      ]
    },
    {
      "cell_type": "code",
      "metadata": {
        "scrolled": true,
        "id": "s4U061h1P3cH",
        "outputId": "7067e597-7d38-4397-f07b-6b315f37c7be"
      },
      "source": [
        "dis(is_even)"
      ],
      "execution_count": null,
      "outputs": [
        {
          "output_type": "stream",
          "text": [
            "  2           0 LOAD_FAST                0 (n)\n",
            "              2 LOAD_CONST               1 (2)\n",
            "              4 BINARY_MODULO\n",
            "              6 LOAD_CONST               2 (0)\n",
            "              8 COMPARE_OP               2 (==)\n",
            "             10 RETURN_VALUE\n"
          ],
          "name": "stdout"
        }
      ]
    },
    {
      "cell_type": "code",
      "metadata": {
        "id": "rbS6gCZ3P3cH"
      },
      "source": [
        "def is_even(n):\n",
        "    return (n%2 == 0)"
      ],
      "execution_count": null,
      "outputs": []
    },
    {
      "cell_type": "code",
      "metadata": {
        "id": "4Xhy1R_vP3cJ"
      },
      "source": [
        "is_even(17)"
      ],
      "execution_count": null,
      "outputs": []
    },
    {
      "cell_type": "markdown",
      "metadata": {
        "id": "zp9FDn_wP3cK"
      },
      "source": [
        "A `for` loop and an `if` control statement, used together, allow us to carry out a **brute force** search.  We can search for factors in order to check whether a number is prime.  Or we can look for solutions to an equation until we find one.\n",
        "\n",
        "One thing to note:  the function below begins with a block of text between a triple-quote (three single-quotes when typing).  That text is called a **docstring** and it is meant to document what the function does.  Writing clear docstrings becomes more important as you write longer programs, collaborate with other programmers, and when you want to return months or years later to use a program again.  There are different style conventions for docstrings; for example, here are [Google's docstring conventions](https://google.github.io/styleguide/pyguide.html?showone=Comments#Comments).  We take a less formal approach."
      ]
    },
    {
      "cell_type": "code",
      "metadata": {
        "id": "VCYDuFS_P3cK"
      },
      "source": [
        "def is_prime(n):\n",
        "    '''\n",
        "    Checks whether the argument n is a prime number.\n",
        "    Uses a brute force search for factors between 1 and n.\n",
        "    '''\n",
        "    for j in range(2,n):  # the list of numbers 2,3,...,n-1.\n",
        "        if n%j == 0:  # is n divisible by j?\n",
        "            print(\"{} is a factor of {}.\".format(j,n))\n",
        "            return False\n",
        "    return True"
      ],
      "execution_count": null,
      "outputs": []
    },
    {
      "cell_type": "markdown",
      "metadata": {
        "id": "Sg9L6Vx8P3cK"
      },
      "source": [
        "An important note:  the `return` keyword **terminates** the function.  So as soon as a factor is found, the function terminates and outputs `False`.  If no factor is found, then the function execution survives past the loop, and the line `return True` is executed to terminate the function."
      ]
    },
    {
      "cell_type": "code",
      "metadata": {
        "id": "6701vDt8P3cK"
      },
      "source": [
        "is_prime(91)"
      ],
      "execution_count": null,
      "outputs": []
    },
    {
      "cell_type": "code",
      "metadata": {
        "id": "KCTF-latP3cK"
      },
      "source": [
        "is_prime(101)"
      ],
      "execution_count": null,
      "outputs": []
    },
    {
      "cell_type": "markdown",
      "metadata": {
        "id": "t54alZgHP3cL"
      },
      "source": [
        "Try the `is_prime` function on bigger numbers -- try numbers with 4 digits, 5 digits, 6 digits.  Where does it start to slow down?  Do you get any errors when the numbers are large?  Make sure to save your work first, just in case this crashes your computer!  \n",
        "\n"
      ]
    },
    {
      "cell_type": "code",
      "metadata": {
        "id": "02Q6RpfZP3cL"
      },
      "source": [
        "# Experiment with is_prime here.\n"
      ],
      "execution_count": null,
      "outputs": []
    },
    {
      "cell_type": "markdown",
      "metadata": {
        "id": "PochBlfLP3cL"
      },
      "source": [
        "There are two limiting factors, which we study in more detail later.  These are **time** and **space** (your computer's memory space).  As the loop of `is_prime` goes on and on, it might take your computer a long time!  If each step of the loop takes only a nanosecond (1 billionth of a second), the loop would take about a second when executing `is_prime(1000000001)`.  If you tried `is_prime` on a much larger number, like `is_prime(2**101 - 1)`, the loop would take longer than the lifetime of the Earth.\n",
        "\n",
        "The other issue that can arise is a problem with *space*.  In Python 3.x, the `range(2,n)` cleverly *avoids* storing all the numbers between `2` and `n-1` in memory.  It just remembers the endpoints, and how to proceed from one number to the next.  In the older version, Python 2.x, the range command `range(2,n)` would have tried to store the entire list of numbers `[2,3,4,...,n-1]` in the memory of your computer.  Your computer has some (4 or 8 or 16, perhaps) gigabytes of memory (RAM).  A gigabyte is a billion bytes, and a byte is enough memory to store a number between 0 and 255.  (More detail about this later!).  So a gigabyte will not even hold a billion numbers.  So our `is_prime` function would have led to memory problems in Python 2.x, but in Python 3.x we don't have to worry (for now) about space."
      ]
    },
    {
      "cell_type": "markdown",
      "metadata": {
        "id": "xp0KniRsP3cL"
      },
      "source": [
        "### Exercises\n",
        "\n",
        "1.  Create a function `my_abs(x)` which outputs the absolute value of the argument `x`.  (Note that Python already has a built-in `abs(x)` function).  \n",
        "\n",
        "2.  Modify the `is_prime` function so that it prints a message `Number too big` and returns `None` if the input argument is bigger than one million.  (Note that `None` is a Python reserved word.  You can use the one-line statement `return None`.)  \n",
        "\n",
        "3.  Write a Python function `thrarity` which takes an argument `n`, and outputs the string `threeven` if `n` is a multiple of three, or `throdd` is `n` is one more than a multiple of three, or `thrugly` if `n` is one less than a multiple of three.  Example:  `thrarity(31)` should output `throdd` and `thrarity(44)` should output `thrugly`.  Hint:  study the `if`/`elif` syntax at [the official Python tutorial](https://docs.python.org/3/tutorial/controlflow.html#if-statements)\n",
        "\n",
        "4.  Write a Python function `sum_of_squares(n)` which finds and prints a pair of natural numbers $x$, $y$, such that $x^2 + y^2 = n$.  The function should use a brute force search and return `None` if no such pair of numbers $x,y$ exists.  Explore which natural numbers can be expressed as sums of two squares... hint:  look at prime numbers first!\n",
        "\n",
        "5.  Write a function `gamma(n)` which takes a positive integer n as input, and outputs the difference between the harmonic sum $\\frac{1}{1} + \\frac{1}{2} + \\frac{1}{3} + \\cdots + \\frac{1}{n}$ and the natural logarithm $\\log(n)$.  Use numpy to compute the logarithm, by using the command `from numpy import log` in a separate cell.  Approximate $\\gamma(n)$ as $n \\rightarrow \\infty$.  How large does $n$ need to be to get five digits of precision on this limit?  Can you prove that the limit $\\lim_{n \\rightarrow \\infty} \\gamma(n)$ exists?"
      ]
    },
    {
      "cell_type": "code",
      "metadata": {
        "id": "lEW89ikOP3cL"
      },
      "source": [
        "#  Use this space for your solutions to the questions.\n"
      ],
      "execution_count": null,
      "outputs": []
    },
    {
      "cell_type": "markdown",
      "metadata": {
        "id": "un9NuAj9P3cL"
      },
      "source": [
        "## Handling errors by raising exceptions.\n",
        "\n",
        "In the previous batch of exercises, we tried to modify functions to be a bit more intelligent -- identifying when numbers were \"too big\" for example.  There's a professional way to handle these situations, by raising *exceptions*.  Here is the [official documentation on errors and exceptions](https://docs.python.org/3/tutorial/errors.html).  We will focus on raising exceptions to catch \"bad inputs\" to functions.  Let's revisit our `is_even` function."
      ]
    },
    {
      "cell_type": "code",
      "metadata": {
        "id": "P2MBaggxP3cM"
      },
      "source": [
        "def is_even(n):\n",
        "    return (n%2 == 0)"
      ],
      "execution_count": null,
      "outputs": []
    },
    {
      "cell_type": "code",
      "metadata": {
        "id": "i-qcK9BWP3cM"
      },
      "source": [
        "is_even(3.14)  # What will this do?"
      ],
      "execution_count": null,
      "outputs": []
    },
    {
      "cell_type": "code",
      "metadata": {
        "id": "P-v2G1K3P3cM"
      },
      "source": [
        "3.14%2  # Well, this explains it!"
      ],
      "execution_count": null,
      "outputs": []
    },
    {
      "cell_type": "markdown",
      "metadata": {
        "id": "dMLynioUP3cM"
      },
      "source": [
        "Although the output of `is_even(3.14)` might be what you want, a smarter function might let the user know that 3.14 should not be input into `is_even`.  We commonly ask whether *integers* are even or odd; if a non-integer ends up input to `is_even`, it might be a sign of a bug elsewhere.  One possibility is to modify the function by manually printing an error message."
      ]
    },
    {
      "cell_type": "code",
      "metadata": {
        "id": "QG9ofQITP3cM"
      },
      "source": [
        "def is_even(n):\n",
        "    if type(n) == int:\n",
        "        return (n%2 == 0)\n",
        "    else:\n",
        "        print(\"Bad input!  Please input integers only.\")\n",
        "        return None"
      ],
      "execution_count": null,
      "outputs": []
    },
    {
      "cell_type": "code",
      "metadata": {
        "id": "EuxVzCztP3cM"
      },
      "source": [
        "is_even(4)"
      ],
      "execution_count": null,
      "outputs": []
    },
    {
      "cell_type": "code",
      "metadata": {
        "id": "_Z8c2a-JP3cN"
      },
      "source": [
        "is_even(3.14)"
      ],
      "execution_count": null,
      "outputs": []
    },
    {
      "cell_type": "code",
      "metadata": {
        "id": "3M3mG1rNP3cN"
      },
      "source": [
        "print(is_even(3.14))"
      ],
      "execution_count": null,
      "outputs": []
    },
    {
      "cell_type": "markdown",
      "metadata": {
        "id": "9BXTFNKCP3cN"
      },
      "source": [
        "This behavior is a bit better.  The output of the function is neither True nor False, when a non-integer is input.  Instead, the smarter function outputs `None`, which is exactly what it sounds like."
      ]
    },
    {
      "cell_type": "code",
      "metadata": {
        "id": "kPvcDzu0P3cN"
      },
      "source": [
        "type(None) # A zen command."
      ],
      "execution_count": null,
      "outputs": []
    },
    {
      "cell_type": "markdown",
      "metadata": {
        "id": "R5_01fmxP3cN"
      },
      "source": [
        "Instead of manually using a print command and returning None, we can use Python's built-in `exception` class.  Raising exceptions is the Pythonic way of catching errors, and this will make things smoother in the long term.  Here's a new and safe `is_even` function."
      ]
    },
    {
      "cell_type": "code",
      "metadata": {
        "id": "Ak4Z3eECP3cN"
      },
      "source": [
        "def is_even(n):\n",
        "    if type(n) == int:\n",
        "        return (n%2 == 0)\n",
        "    else:\n",
        "        raise TypeError('Only integers can be even or odd.')"
      ],
      "execution_count": null,
      "outputs": []
    },
    {
      "cell_type": "code",
      "metadata": {
        "id": "2Y0gx0teP3cO"
      },
      "source": [
        "is_even(3)"
      ],
      "execution_count": null,
      "outputs": []
    },
    {
      "cell_type": "code",
      "metadata": {
        "id": "65N42UZBP3cO"
      },
      "source": [
        "is_even(3.14)"
      ],
      "execution_count": null,
      "outputs": []
    },
    {
      "cell_type": "markdown",
      "metadata": {
        "id": "4VSoldJqP3cO"
      },
      "source": [
        "Instead of manually printing the error message and returning `None`, we have raised a `TypeError`.  This gives information about the kind of error, and a custom error message is displayed at the end.  Type errors are meant for situations where a variable belongs to the wrong type.  `TypeError` is just one kind of \"exception\" -- the full built-in hierarchy of exceptions can be found in the [official Python documentation](https://docs.python.org/3/library/exceptions.html#exception-hierarchy).\n",
        "\n",
        "Another kind of exception is the `ValueError`.  It seems similar to `TypeError` at first, but `ValueError` is meant to catch an input that has a \"bad\" value, even if it is the right type.  For example, here is a square root function that only works with positive input.  It should raise an exception (error message) when a negative number is input.  Both positive and negative numbers can be represented as floats, so the error doesn't represent the *wrong type*.  The error represents a *bad value*.  "
      ]
    },
    {
      "cell_type": "code",
      "metadata": {
        "id": "MAoyT_PcP3cO"
      },
      "source": [
        "def sqrt(x):\n",
        "    '''\n",
        "    Estimates the square root of a positive number x.\n",
        "    '''\n",
        "    if x < 0:\n",
        "        raise ValueError('Cannot approximate square root of negative numbers.')\n",
        "    guess= x/2 # A decent place to start\n",
        "    while True: # A dangerous loop!  See next section...\n",
        "        new_guess = 0.5 * (guess + x/guess)\n",
        "        if abs(new_guess - guess) < .000000001: # close enough!\n",
        "            return new_guess\n",
        "        guess = new_guess"
      ],
      "execution_count": null,
      "outputs": []
    },
    {
      "cell_type": "code",
      "metadata": {
        "id": "ln6at9v1P3cO"
      },
      "source": [
        "sqrt(3) # This should be ok."
      ],
      "execution_count": null,
      "outputs": []
    },
    {
      "cell_type": "code",
      "metadata": {
        "scrolled": true,
        "id": "urPuO2GqP3cO"
      },
      "source": [
        "sqrt(-3)"
      ],
      "execution_count": null,
      "outputs": []
    },
    {
      "cell_type": "markdown",
      "metadata": {
        "id": "M_TyiFL2P3cO"
      },
      "source": [
        "By raising the `ValueError`, we have avoided an endless loop... the sort of problem that crashes computers!  If you know that your function is only meant for certain kinds of inputs, it is best to catch errors by raising exceptions."
      ]
    },
    {
      "cell_type": "markdown",
      "metadata": {
        "id": "5jBP6TdgP3cP"
      },
      "source": [
        "###Exercises\n",
        "\n",
        "1.  There's a special exception called `ZeroDivisionError`.  When do you think this occurs?  Try to make it occur!  Can you think of a time when you might want to raise this exception yourself?\n",
        "\n",
        "2.  Make the `is_prime` function safer by raising a `TypeError` or a `ValueError` when a \"bad\" input occurs."
      ]
    },
    {
      "cell_type": "code",
      "metadata": {
        "id": "Fpv0XtMlP3cP"
      },
      "source": [
        "# Use this space to work on exercises."
      ],
      "execution_count": null,
      "outputs": []
    },
    {
      "cell_type": "markdown",
      "metadata": {
        "id": "Uh9Onn3UP3cP"
      },
      "source": [
        "<a id='while'></a>"
      ]
    },
    {
      "cell_type": "markdown",
      "metadata": {
        "id": "oQEtapwZP3cP"
      },
      "source": [
        "## While loops and implementation of the Eucidean algorithm"
      ]
    },
    {
      "cell_type": "markdown",
      "metadata": {
        "id": "M6ePAr5cP3cP"
      },
      "source": [
        "We *almost* have all the tools we need to implement the Euclidean algorithm.  The last tool we will need is the **while loop**.  We have seen the *for loop* already, which is very useful for iterating over a range of numbers.  The Euclidean algorithm involves repetition, but there is no way to know in advance how many steps it will take.  The while loop allows us to repeat a process as long as a boolean value (sometimes called a **flag**) is True.  The following countdown example illustrates the structure of a while loop."
      ]
    },
    {
      "cell_type": "code",
      "metadata": {
        "id": "2lOhZ0G4P3cP"
      },
      "source": [
        "def countdown(n):\n",
        "    current_value = n\n",
        "    while current_value > 0:  # The condition (current_value > 0) is checked before every instance of the scope!\n",
        "        print(current_value)\n",
        "        current_value = current_value - 1\n",
        "    print(\"Blastoff!\")"
      ],
      "execution_count": null,
      "outputs": []
    },
    {
      "cell_type": "code",
      "metadata": {
        "id": "yGawqlQZP3cQ"
      },
      "source": [
        "countdown(10)"
      ],
      "execution_count": null,
      "outputs": []
    },
    {
      "cell_type": "markdown",
      "metadata": {
        "id": "G3OOERdeP3cQ"
      },
      "source": [
        "The while loop syntax begins with `while <boolean>:` and the following indented lines comprise the scope of the loop.  If the boolean is `True`, then the scope of the loop is executed.  If the boolean is `True` again afterwards, then the scope of the loop is executed again.  And again and again and so on.\n",
        "\n",
        "This can be a **dangerous process**!  For example, what would happen if you made a little typo and the last line of the while loop read `current_value = current_value + 1`?  The numbers would increase and increase... and the boolean `current_value > 0` would **always** be `True`.  Therefore the loop would never end.  Bigger and bigger numbers would scroll down your computer screen.  \n",
        "\n",
        "You might panic under such a circumstance, and maybe turn your computer off to stop the loop.  Here is some advice for when your computer gets stuck in such a neverending loop:\n",
        "\n",
        "1.  Back up your work often.  When you're programming, make sure everything else is saved just in case.\n",
        "2.  Save your programming work (use \"Save and checkpoint\" under the \"File\" menu) often, especially before running a cell with a loop for the first time.\n",
        "3.  If you *do* get stuck in a neverending loop, click on \"Kernel... Interrupt\".  This will often unstick the loop and allow you to pick up where you left off.  \n",
        "4.  On a Mac, you might try a \"Force Quit\" of the Python process, using the Activity Manager.\n",
        "\n",
        "Now, if you're feeling brave, save your work, change the while loop so that it never ends, and try to recover where you left off.  But be aware that this could cause your computer to freeze or behave erratically, crashing your browser, etc.  Don't panic... it probably won't break your computer permanently.\n",
        "\n",
        "The neverending loop causes two problems here.  One is with your computer processor, which will be essentially spinning its wheels.  This is called [busy waiting](https://en.wikipedia.org/wiki/Busy_waiting), and your computer will essentially be busy waiting forever.  The other problem is that your loop is printing more and more lines of text into the notebook.  This could easily crash your web browser, which is trying to store and display zillions of lines of numbers.  So be ready for problems!  "
      ]
    },
    {
      "cell_type": "markdown",
      "metadata": {
        "id": "rehCmjTlP3cQ"
      },
      "source": [
        "### The Euclidean algorithm with a while loop"
      ]
    },
    {
      "cell_type": "markdown",
      "metadata": {
        "collapsed": true,
        "id": "N9ysMsA8P3cQ"
      },
      "source": [
        "The **Euclidean Algorithm** is a process of repeated division with remainder.  Beginning with two integers `a` (dividend) and `b` (divisor), one computes quotient `q` and remainder `q` to express `a = qb + r`.  Then `b` becomes the dividend and `r` becomes the divisor, and one repeats.  The repetition continues, and the **last nonzero** remainder is the greatest common divisor of `a` and `b`."
      ]
    },
    {
      "cell_type": "markdown",
      "metadata": {
        "id": "V4miDf8GP3cQ"
      },
      "source": [
        "We implement the Euclidean algorithm in a few variations.  The first will be a verbose version, to show the user what happens at every step.  We use a while loop to take care of the repetition."
      ]
    },
    {
      "cell_type": "code",
      "metadata": {
        "id": "AEWhDsZdP3cQ"
      },
      "source": [
        "def Euclidean_algorithm(a,b):\n",
        "    dividend = a\n",
        "    divisor = b\n",
        "    while divisor != 0:   # Recall that != means \"is not equal to\".\n",
        "        quotient = dividend // divisor\n",
        "        remainder = dividend % divisor\n",
        "        print(\"{} = {} ({}) + {}\".format(dividend, quotient, divisor, remainder))\n",
        "        dividend = divisor  \n",
        "        divisor = remainder"
      ],
      "execution_count": null,
      "outputs": []
    },
    {
      "cell_type": "code",
      "metadata": {
        "id": "UezeTFdKP3cR"
      },
      "source": [
        "Euclidean_algorithm(133, 58)"
      ],
      "execution_count": null,
      "outputs": []
    },
    {
      "cell_type": "code",
      "metadata": {
        "id": "p1hI9p1LP3cR"
      },
      "source": [
        "Euclidean_algorithm(1312331323, 58123123)"
      ],
      "execution_count": null,
      "outputs": []
    },
    {
      "cell_type": "markdown",
      "metadata": {
        "id": "HSL6lGv2P3cR"
      },
      "source": [
        "This is excellent if we want to know every step of the Euclidean algorithm.  If we just want to know the GCD of two numbers, we can be less verbose.  We carefully return the last nonzero remainder after the while loop is concluded.  This last nonzero remainder becomes the divisor when the remainder becomes zero, and then it would become the dividend in the next (unprinted) line.  That is why we return the (absolute value) of the dividend after the loop is concluded.  You might insert a line at the end of the loop, like `print(dividend, divisor, remainder)` to help you track the variables."
      ]
    },
    {
      "cell_type": "code",
      "metadata": {
        "id": "ej0mQxUZP3cR"
      },
      "source": [
        "def GCD(a,b):\n",
        "    dividend = a # The first dividend is a.\n",
        "    divisor = b # The first divisor is b.\n",
        "    while divisor != 0:   # Recall that != means \"not equal to\".\n",
        "        quotient = dividend // divisor\n",
        "        remainder = dividend % divisor\n",
        "        dividend = divisor  \n",
        "        divisor = remainder\n",
        "    return abs(dividend)  #  abs() is used, since we like our GCDs to be positive."
      ],
      "execution_count": null,
      "outputs": []
    },
    {
      "cell_type": "markdown",
      "metadata": {
        "id": "YcECuVDTP3cR"
      },
      "source": [
        "Note that the `return dividend` statement occurs *after* the scope of the while loop.  So as soon as the *divisor* variable equals zero, the funtion `GCD` returns the *dividend* variable and terminates."
      ]
    },
    {
      "cell_type": "code",
      "metadata": {
        "id": "gftBYeZyP3cR"
      },
      "source": [
        "GCD(111,27)"
      ],
      "execution_count": null,
      "outputs": []
    },
    {
      "cell_type": "code",
      "metadata": {
        "id": "Ue4KmOY0P3cS"
      },
      "source": [
        "GCD(111,-27)"
      ],
      "execution_count": null,
      "outputs": []
    },
    {
      "cell_type": "markdown",
      "metadata": {
        "id": "U29DNr1rP3cS"
      },
      "source": [
        "We can refine our code in a few ways.  First, note that the `quotient` variable is never used!  It was nice in the verbose version of the Euclidean algorithm, but plays no role in finding the GCD.  Our refined code reads\n",
        "```python\n",
        "def GCD(a,b):\n",
        "    dividend = a  \n",
        "    divisor = b  \n",
        "    while divisor != 0:   # Recall that != means \"not equal to\".\n",
        "        remainder = dividend % divisor\n",
        "        dividend = divisor  \n",
        "        divisor = remainder\n",
        "    return abs(dividend) \n",
        "```"
      ]
    },
    {
      "cell_type": "markdown",
      "metadata": {
        "id": "HZJcqWomP3cS"
      },
      "source": [
        "Now there are two slick Python tricks we can use to shorten the code.  The first is called **multiple assignment**.  It is possible to set the values of two variables in a single line of code, with a syntax like below."
      ]
    },
    {
      "cell_type": "code",
      "metadata": {
        "id": "HDM7IvusP3cS"
      },
      "source": [
        "x,y = 2,3  # Sets x to 2 and y to 3."
      ],
      "execution_count": null,
      "outputs": []
    },
    {
      "cell_type": "markdown",
      "metadata": {
        "id": "AOzN-VFfP3cS"
      },
      "source": [
        "This is particular useful for self-referential assignments, because as for ordinary assignment, the right side is evaluated first and then bound to the variables on the left side.  For example, after the line above, try the line below.  Use print statements to see what the values of the variables are afterwards!"
      ]
    },
    {
      "cell_type": "code",
      "metadata": {
        "id": "LVgbMRNXP3cS"
      },
      "source": [
        "x,y = y,x #  Guess what this does!"
      ],
      "execution_count": null,
      "outputs": []
    },
    {
      "cell_type": "code",
      "metadata": {
        "id": "rcrSHJ0SP3cT"
      },
      "source": [
        "print(\"x =\",x) # One could use \"x = {}\".format(x) too.\n",
        "print(\"y =\",y)"
      ],
      "execution_count": null,
      "outputs": []
    },
    {
      "cell_type": "markdown",
      "metadata": {
        "id": "RzRq_sJmP3cT"
      },
      "source": [
        "Now we can use multiple assignment to turn three lines of code into one line of code.  For the `remainder` variable is only used temporarily before its value is given to the `divisor` variable.  Using multiple assignment, the three lines\n",
        "```python\n",
        "    remainder = dividend % divisor\n",
        "    dividend = divisor  \n",
        "    divisor = remainder\n",
        "```\n",
        "can be written in one line,\n",
        "```python\n",
        "    dividend, divisor = divisor, dividend % divisor # Evaluations on the right occur before any assignments!\n",
        "```"
      ]
    },
    {
      "cell_type": "markdown",
      "metadata": {
        "id": "Ce3FAe9gP3cT"
      },
      "source": [
        "Our newly shortened GCD function looks like this.\n",
        "```python\n",
        "def GCD(a,b):\n",
        "    dividend = a  \n",
        "    divisor = b  \n",
        "    while divisor != 0:   # Recall that != means \"not equal to\".\n",
        "        dividend, divisor = divisor, dividend % divisor\n",
        "    return abs(dividend)\n",
        "```"
      ]
    },
    {
      "cell_type": "markdown",
      "metadata": {
        "id": "n-foyqFZP3cT"
      },
      "source": [
        "The next trick involves the while loop.  The usual syntax has the form `while <boolean>:`.  But if `while` is followed by a numerical type, e.g. `while <int>:`, then the scope of the while loop will execute as long as the number is nonzero!  Therefore, the line\n",
        "```python\n",
        "while divisor != 0:\n",
        "```\n",
        "can be replaced by the shorter line\n",
        "```python\n",
        "while divisor:\n",
        "```\n",
        "\n",
        "This is truly a trick.  It probably won't speed anything up, and it does not make your program easier to read for beginners.  So use it if you prefer communicating with experienced Python programmers!  Here is the whole function again.\n",
        "```python\n",
        "def GCD(a,b):\n",
        "    dividend = a  \n",
        "    divisor = b  \n",
        "    while divisor:   # Executes the scope if divisor is nonzero.\n",
        "        dividend, divisor = divisor, dividend % divisor\n",
        "    return abs(dividend)\n",
        "```"
      ]
    },
    {
      "cell_type": "markdown",
      "metadata": {
        "id": "J6JR2keCP3cT"
      },
      "source": [
        "The next optimization is a bit more dangerous for beginners, but it works here.  In general, it can be dangerous to operate directly on the arguments to a function.  But in this setting, it is safe, and makes no real difference to the Python interpreter.  Instead of creating new variables called `dividend` and `divisor`, one can manipulate `a` and `b` directly within the function.  If you do this, the GCD function can be shortened to the following."
      ]
    },
    {
      "cell_type": "code",
      "metadata": {
        "id": "hXK4Mq6iP3cT"
      },
      "source": [
        "def GCD(a,b):\n",
        "    while b:   # I.e., while b != 0.\n",
        "        a, b = b, a % b\n",
        "    return abs(a)"
      ],
      "execution_count": null,
      "outputs": []
    },
    {
      "cell_type": "code",
      "metadata": {
        "id": "rzQwxZ5ZP3cU"
      },
      "source": [
        "# Try it out.  Try it on some big numbers and see how quick it runs!\n"
      ],
      "execution_count": null,
      "outputs": []
    },
    {
      "cell_type": "markdown",
      "metadata": {
        "id": "urgzfZrwP3cU"
      },
      "source": [
        "This code is essentially optimal, if one wishes to execute the Euclidean algorithm to find the GCD of two integers.  It almost [matches the GCD code in a standard Python library](https://stackoverflow.com/a/18944210).  It might be slightly faster than our original code -- but there is a tradeoff here between execution speed and readability of code.  In this and the following lessons, we often optimize enough for everyday purposes, but not so much that readability is lost."
      ]
    },
    {
      "cell_type": "markdown",
      "metadata": {
        "id": "DkjW1AQmP3cU"
      },
      "source": [
        "### Exercises and explorations\n",
        "\n",
        "1.  Modify the `is_prime` function by using a while loop instead of `for j in range(2,n):`.  Hint:  the function should contain the lines `j = 2` and `while j < n:` and `j = j + 1` in various places.  Why might this be an improvement from the for loop?  Can you look for factors within a smaller range?\n",
        "\n",
        "2.  Modify the `Euclidean_algorithm` function to create a function which returns the *number of steps* that the Euclidean algorithm requires, i.e., the number of divisions-with-remainder.  How does the number of steps compare to the size of the input numbers?  \n",
        "\n",
        "3.  When $a$ and $b$ are integers, $GCD(a,b) \\cdot LCM(a,b) = ab$.  Use this fact to write an LCM-function.  Try to make your function output only integers (not floats) and behave in a good way even if $a,b$ are zero.\n",
        "\n",
        "4.  How does the `GCD(a,b)` function behave when `a` and/or `b` are zero or negative?  Is this good?\n",
        "\n",
        "5.  Challenge:  Write a function `approximate_e(n)` which approximates $e$ with a maximum error of $10^{-n}$.  (You can assume $n < 1000$ if necessary.)  Try a while loop and `import mpmath`.  Back up your work often! "
      ]
    },
    {
      "cell_type": "code",
      "metadata": {
        "id": "XC6kGevvP3cU"
      },
      "source": [
        "# Use this space to work on the exercises.\n"
      ],
      "execution_count": null,
      "outputs": []
    },
    {
      "cell_type": "code",
      "metadata": {
        "id": "sObKjydbP3cU"
      },
      "source": [
        ""
      ],
      "execution_count": null,
      "outputs": []
    }
  ]
}